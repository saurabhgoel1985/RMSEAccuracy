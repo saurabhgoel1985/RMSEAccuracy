{
  "nbformat": 4,
  "nbformat_minor": 0,
  "metadata": {
    "colab": {
      "name": "Categorical Embedding.ipynb",
      "provenance": [],
      "collapsed_sections": [],
      "machine_shape": "hm",
      "mount_file_id": "1wGgGrqMxp34KNpxclbN0leKxxupB2Txa",
      "authorship_tag": "ABX9TyNmvWlm1qebdLXZowQILrD+",
      "include_colab_link": true
    },
    "kernelspec": {
      "name": "python3",
      "display_name": "Python 3"
    },
    "accelerator": "GPU"
  },
  "cells": [
    {
      "cell_type": "markdown",
      "metadata": {
        "id": "view-in-github",
        "colab_type": "text"
      },
      "source": [
        "<a href=\"https://colab.research.google.com/github/saurabhgoel1985/RMSEAccuracy/blob/master/Categorical_Embedding.ipynb\" target=\"_parent\"><img src=\"https://colab.research.google.com/assets/colab-badge.svg\" alt=\"Open In Colab\"/></a>"
      ]
    },
    {
      "cell_type": "markdown",
      "metadata": {
        "id": "YvxDeBTQRYnq",
        "colab_type": "text"
      },
      "source": [
        "## **Categorical Embedding in Structured Data**"
      ]
    },
    {
      "cell_type": "code",
      "metadata": {
        "id": "mamH3c_fRPXQ",
        "colab_type": "code",
        "colab": {
          "base_uri": "https://localhost:8080/",
          "height": 52
        },
        "outputId": "155f6b9b-9eb9-4f33-ccee-922ad5d06074"
      },
      "source": [
        "ls '/content/drive/My Drive/RmseAccuracy/CategoricalEmbedding'"
      ],
      "execution_count": 1,
      "outputs": [
        {
          "output_type": "stream",
          "text": [
            " adult.data    adult.test                     old.adult.names\n",
            " adult.names  'Categorical Embedding.ipynb'   Research.gdoc\n"
          ],
          "name": "stdout"
        }
      ]
    },
    {
      "cell_type": "markdown",
      "metadata": {
        "id": "4enEoq0GQ0tT",
        "colab_type": "text"
      },
      "source": [
        "## **Importing the required libraries**"
      ]
    },
    {
      "cell_type": "code",
      "metadata": {
        "id": "Fd_OLNFr2g6U",
        "colab_type": "code",
        "colab": {}
      },
      "source": [
        "# from numpy.random import seed\n",
        "# seed(101)\n",
        "# from tensorflow.random import set_seed\n",
        "# set_seed(201)"
      ],
      "execution_count": 0,
      "outputs": []
    },
    {
      "cell_type": "code",
      "metadata": {
        "id": "12zdIWiBb6wL",
        "colab_type": "code",
        "colab": {
          "base_uri": "https://localhost:8080/",
          "height": 90
        },
        "outputId": "05422772-10e0-4ee3-8707-1cf71306faf3"
      },
      "source": [
        "import pandas as pd\n",
        "import numpy as np\n",
        "import xgboost as xgb\n",
        "from xgboost import XGBClassifier\n",
        "import sklearn\n",
        "from sklearn.model_selection import train_test_split\n",
        "from sklearn.preprocessing import LabelEncoder\n",
        "from sklearn.metrics import roc_auc_score, f1_score\n",
        "import tensorflow as tf\n",
        "import tensorflow.keras as keras\n",
        "import os\n",
        "from keras.models import Sequential,Model\n",
        "from keras.models import Model as KerasModel\n",
        "from keras.layers import Input, Dense, Activation, Reshape\n",
        "from keras.layers import Concatenate, Dropout\n",
        "from keras.layers.embeddings import Embedding\n",
        "from keras.callbacks import ModelCheckpoint\n",
        "from keras.utils import plot_model\n",
        "import pydot_ng as pydot\n",
        "from IPython.core.interactiveshell import InteractiveShell\n",
        "InteractiveShell.ast_node_interactivity = \"all\"\n",
        "import matplotlib.pyplot as plt\n",
        "from IPython.display import Image\n",
        "from sklearn.manifold import TSNE\n",
        "%matplotlib inline\n",
        "import matplotlib.pyplot as plt\n",
        "from mpl_toolkits.mplot3d import Axes3D\n",
        "import seaborn as sns\n",
        "import time"
      ],
      "execution_count": 3,
      "outputs": [
        {
          "output_type": "stream",
          "text": [
            "Using TensorFlow backend.\n",
            "/usr/local/lib/python3.6/dist-packages/statsmodels/tools/_testing.py:19: FutureWarning: pandas.util.testing is deprecated. Use the functions in the public API at pandas.testing instead.\n",
            "  import pandas.util.testing as tm\n"
          ],
          "name": "stderr"
        }
      ]
    },
    {
      "cell_type": "markdown",
      "metadata": {
        "id": "BEQodKqGRtQb",
        "colab_type": "text"
      },
      "source": [
        "**Column names**"
      ]
    },
    {
      "cell_type": "code",
      "metadata": {
        "id": "H_TRre49e0tV",
        "colab_type": "code",
        "colab": {}
      },
      "source": [
        "header = [\"age\", \"workclass\", 'fnlwgt', 'education', 'education-num', 'marital-status', \n",
        "          'occupation', 'relationship', 'race', 'sex', 'capital-gain', 'capital-loss',\n",
        "          'hours-per-week','native-country','target']"
      ],
      "execution_count": 0,
      "outputs": []
    },
    {
      "cell_type": "markdown",
      "metadata": {
        "id": "VYir7CsfSBnq",
        "colab_type": "text"
      },
      "source": [
        "Setting up the path of data"
      ]
    },
    {
      "cell_type": "code",
      "metadata": {
        "id": "SW-mwhaKUoKK",
        "colab_type": "code",
        "colab": {}
      },
      "source": [
        "path = '/content/drive/My Drive/RmseAccuracy/CategoricalEmbedding'"
      ],
      "execution_count": 0,
      "outputs": []
    },
    {
      "cell_type": "code",
      "metadata": {
        "id": "4TC3RzevUN-M",
        "colab_type": "code",
        "colab": {}
      },
      "source": [
        "def load_data(type='train', dataname = 'adult.data'):\n",
        "  \n",
        "  '''\n",
        "  This function load the train data and test data, does basic processing \n",
        "  required to load the data\n",
        "  Input - data type, data name\n",
        "  Return the pandas dataframe of the required csv file\n",
        "  '''\n",
        "\n",
        "  if type =='train':\n",
        "    data = pd.read_csv(os.path.join(path, dataname), header=None, names = header, na_values=[' ?'])\n",
        "    data = data.dropna()\n",
        "    data['target'] = np.where(data['target'].str.strip() == '<=50K', 0, 1)\n",
        "  else:\n",
        "    data = pd.read_csv(os.path.join(path, dataname), header=None, names = header, skiprows=1, na_values=[' ?'])\n",
        "    data = data.dropna()\n",
        "    data['target'] = np.where(data['target'].str.strip() == '<=50K.', 0, 1)\n",
        "  return data\n",
        "\n",
        "train_data = load_data('train', 'adult.data')\n",
        "test_data = load_data('test', 'adult.test')"
      ],
      "execution_count": 0,
      "outputs": []
    },
    {
      "cell_type": "code",
      "metadata": {
        "id": "uWoNMpq6Au4M",
        "colab_type": "code",
        "colab": {
          "base_uri": "https://localhost:8080/",
          "height": 279
        },
        "outputId": "62bcacdf-5df1-43c4-d6ce-b04d3045f223"
      },
      "source": [
        "train_data.head()"
      ],
      "execution_count": 7,
      "outputs": [
        {
          "output_type": "execute_result",
          "data": {
            "text/html": [
              "<div>\n",
              "<style scoped>\n",
              "    .dataframe tbody tr th:only-of-type {\n",
              "        vertical-align: middle;\n",
              "    }\n",
              "\n",
              "    .dataframe tbody tr th {\n",
              "        vertical-align: top;\n",
              "    }\n",
              "\n",
              "    .dataframe thead th {\n",
              "        text-align: right;\n",
              "    }\n",
              "</style>\n",
              "<table border=\"1\" class=\"dataframe\">\n",
              "  <thead>\n",
              "    <tr style=\"text-align: right;\">\n",
              "      <th></th>\n",
              "      <th>age</th>\n",
              "      <th>workclass</th>\n",
              "      <th>fnlwgt</th>\n",
              "      <th>education</th>\n",
              "      <th>education-num</th>\n",
              "      <th>marital-status</th>\n",
              "      <th>occupation</th>\n",
              "      <th>relationship</th>\n",
              "      <th>race</th>\n",
              "      <th>sex</th>\n",
              "      <th>capital-gain</th>\n",
              "      <th>capital-loss</th>\n",
              "      <th>hours-per-week</th>\n",
              "      <th>native-country</th>\n",
              "      <th>target</th>\n",
              "    </tr>\n",
              "  </thead>\n",
              "  <tbody>\n",
              "    <tr>\n",
              "      <th>0</th>\n",
              "      <td>39</td>\n",
              "      <td>State-gov</td>\n",
              "      <td>77516</td>\n",
              "      <td>Bachelors</td>\n",
              "      <td>13</td>\n",
              "      <td>Never-married</td>\n",
              "      <td>Adm-clerical</td>\n",
              "      <td>Not-in-family</td>\n",
              "      <td>White</td>\n",
              "      <td>Male</td>\n",
              "      <td>2174</td>\n",
              "      <td>0</td>\n",
              "      <td>40</td>\n",
              "      <td>United-States</td>\n",
              "      <td>0</td>\n",
              "    </tr>\n",
              "    <tr>\n",
              "      <th>1</th>\n",
              "      <td>50</td>\n",
              "      <td>Self-emp-not-inc</td>\n",
              "      <td>83311</td>\n",
              "      <td>Bachelors</td>\n",
              "      <td>13</td>\n",
              "      <td>Married-civ-spouse</td>\n",
              "      <td>Exec-managerial</td>\n",
              "      <td>Husband</td>\n",
              "      <td>White</td>\n",
              "      <td>Male</td>\n",
              "      <td>0</td>\n",
              "      <td>0</td>\n",
              "      <td>13</td>\n",
              "      <td>United-States</td>\n",
              "      <td>0</td>\n",
              "    </tr>\n",
              "    <tr>\n",
              "      <th>2</th>\n",
              "      <td>38</td>\n",
              "      <td>Private</td>\n",
              "      <td>215646</td>\n",
              "      <td>HS-grad</td>\n",
              "      <td>9</td>\n",
              "      <td>Divorced</td>\n",
              "      <td>Handlers-cleaners</td>\n",
              "      <td>Not-in-family</td>\n",
              "      <td>White</td>\n",
              "      <td>Male</td>\n",
              "      <td>0</td>\n",
              "      <td>0</td>\n",
              "      <td>40</td>\n",
              "      <td>United-States</td>\n",
              "      <td>0</td>\n",
              "    </tr>\n",
              "    <tr>\n",
              "      <th>3</th>\n",
              "      <td>53</td>\n",
              "      <td>Private</td>\n",
              "      <td>234721</td>\n",
              "      <td>11th</td>\n",
              "      <td>7</td>\n",
              "      <td>Married-civ-spouse</td>\n",
              "      <td>Handlers-cleaners</td>\n",
              "      <td>Husband</td>\n",
              "      <td>Black</td>\n",
              "      <td>Male</td>\n",
              "      <td>0</td>\n",
              "      <td>0</td>\n",
              "      <td>40</td>\n",
              "      <td>United-States</td>\n",
              "      <td>0</td>\n",
              "    </tr>\n",
              "    <tr>\n",
              "      <th>4</th>\n",
              "      <td>28</td>\n",
              "      <td>Private</td>\n",
              "      <td>338409</td>\n",
              "      <td>Bachelors</td>\n",
              "      <td>13</td>\n",
              "      <td>Married-civ-spouse</td>\n",
              "      <td>Prof-specialty</td>\n",
              "      <td>Wife</td>\n",
              "      <td>Black</td>\n",
              "      <td>Female</td>\n",
              "      <td>0</td>\n",
              "      <td>0</td>\n",
              "      <td>40</td>\n",
              "      <td>Cuba</td>\n",
              "      <td>0</td>\n",
              "    </tr>\n",
              "  </tbody>\n",
              "</table>\n",
              "</div>"
            ],
            "text/plain": [
              "   age          workclass  fnlwgt  ... hours-per-week  native-country target\n",
              "0   39          State-gov   77516  ...             40   United-States      0\n",
              "1   50   Self-emp-not-inc   83311  ...             13   United-States      0\n",
              "2   38            Private  215646  ...             40   United-States      0\n",
              "3   53            Private  234721  ...             40   United-States      0\n",
              "4   28            Private  338409  ...             40            Cuba      0\n",
              "\n",
              "[5 rows x 15 columns]"
            ]
          },
          "metadata": {
            "tags": []
          },
          "execution_count": 7
        }
      ]
    },
    {
      "cell_type": "markdown",
      "metadata": {
        "id": "Xc2y-tScStWk",
        "colab_type": "text"
      },
      "source": [
        "Checking the categorical columns in the training data"
      ]
    },
    {
      "cell_type": "code",
      "metadata": {
        "id": "AgimJ0cBjGot",
        "colab_type": "code",
        "outputId": "68690704-73ee-4875-ba7a-ae84bc968bb3",
        "colab": {
          "base_uri": "https://localhost:8080/",
          "height": 70
        }
      },
      "source": [
        "train_data.select_dtypes(['object']).columns"
      ],
      "execution_count": 8,
      "outputs": [
        {
          "output_type": "execute_result",
          "data": {
            "text/plain": [
              "Index(['workclass', 'education', 'marital-status', 'occupation',\n",
              "       'relationship', 'race', 'sex', 'native-country'],\n",
              "      dtype='object')"
            ]
          },
          "metadata": {
            "tags": []
          },
          "execution_count": 8
        }
      ]
    },
    {
      "cell_type": "markdown",
      "metadata": {
        "id": "FMnbGtYzS3HW",
        "colab_type": "text"
      },
      "source": [
        "**Label encoding of all the categorical columns and saving the label encoder as dictionary**"
      ]
    },
    {
      "cell_type": "code",
      "metadata": {
        "id": "wjGtILGJqFvo",
        "colab_type": "code",
        "colab": {}
      },
      "source": [
        "le_dict= {}\n",
        "for col in train_data.select_dtypes(['object']):\n",
        "  le = LabelEncoder()\n",
        "  train_data[col] = le.fit_transform(train_data[col])\n",
        "  test_data[col] = le.transform(test_data[col])\n",
        "  #Save a mapping of categorical columns values and its transforamtion - needed \n",
        "  #later on for mapping purposes\n",
        "  le_dict[col] = dict(zip(le.classes_, le.transform(le.classes_)))"
      ],
      "execution_count": 0,
      "outputs": []
    },
    {
      "cell_type": "code",
      "metadata": {
        "id": "rKucZos_IyAh",
        "colab_type": "code",
        "colab": {
          "base_uri": "https://localhost:8080/",
          "height": 1000
        },
        "outputId": "b322ff1a-6b54-483b-f0b2-6a6d06557d40"
      },
      "source": [
        "# Printing the label encoder dictionary\n",
        "le_dict"
      ],
      "execution_count": 10,
      "outputs": [
        {
          "output_type": "execute_result",
          "data": {
            "text/plain": [
              "{'education': {' 10th': 0,\n",
              "  ' 11th': 1,\n",
              "  ' 12th': 2,\n",
              "  ' 1st-4th': 3,\n",
              "  ' 5th-6th': 4,\n",
              "  ' 7th-8th': 5,\n",
              "  ' 9th': 6,\n",
              "  ' Assoc-acdm': 7,\n",
              "  ' Assoc-voc': 8,\n",
              "  ' Bachelors': 9,\n",
              "  ' Doctorate': 10,\n",
              "  ' HS-grad': 11,\n",
              "  ' Masters': 12,\n",
              "  ' Preschool': 13,\n",
              "  ' Prof-school': 14,\n",
              "  ' Some-college': 15},\n",
              " 'marital-status': {' Divorced': 0,\n",
              "  ' Married-AF-spouse': 1,\n",
              "  ' Married-civ-spouse': 2,\n",
              "  ' Married-spouse-absent': 3,\n",
              "  ' Never-married': 4,\n",
              "  ' Separated': 5,\n",
              "  ' Widowed': 6},\n",
              " 'native-country': {' Cambodia': 0,\n",
              "  ' Canada': 1,\n",
              "  ' China': 2,\n",
              "  ' Columbia': 3,\n",
              "  ' Cuba': 4,\n",
              "  ' Dominican-Republic': 5,\n",
              "  ' Ecuador': 6,\n",
              "  ' El-Salvador': 7,\n",
              "  ' England': 8,\n",
              "  ' France': 9,\n",
              "  ' Germany': 10,\n",
              "  ' Greece': 11,\n",
              "  ' Guatemala': 12,\n",
              "  ' Haiti': 13,\n",
              "  ' Holand-Netherlands': 14,\n",
              "  ' Honduras': 15,\n",
              "  ' Hong': 16,\n",
              "  ' Hungary': 17,\n",
              "  ' India': 18,\n",
              "  ' Iran': 19,\n",
              "  ' Ireland': 20,\n",
              "  ' Italy': 21,\n",
              "  ' Jamaica': 22,\n",
              "  ' Japan': 23,\n",
              "  ' Laos': 24,\n",
              "  ' Mexico': 25,\n",
              "  ' Nicaragua': 26,\n",
              "  ' Outlying-US(Guam-USVI-etc)': 27,\n",
              "  ' Peru': 28,\n",
              "  ' Philippines': 29,\n",
              "  ' Poland': 30,\n",
              "  ' Portugal': 31,\n",
              "  ' Puerto-Rico': 32,\n",
              "  ' Scotland': 33,\n",
              "  ' South': 34,\n",
              "  ' Taiwan': 35,\n",
              "  ' Thailand': 36,\n",
              "  ' Trinadad&Tobago': 37,\n",
              "  ' United-States': 38,\n",
              "  ' Vietnam': 39,\n",
              "  ' Yugoslavia': 40},\n",
              " 'occupation': {' Adm-clerical': 0,\n",
              "  ' Armed-Forces': 1,\n",
              "  ' Craft-repair': 2,\n",
              "  ' Exec-managerial': 3,\n",
              "  ' Farming-fishing': 4,\n",
              "  ' Handlers-cleaners': 5,\n",
              "  ' Machine-op-inspct': 6,\n",
              "  ' Other-service': 7,\n",
              "  ' Priv-house-serv': 8,\n",
              "  ' Prof-specialty': 9,\n",
              "  ' Protective-serv': 10,\n",
              "  ' Sales': 11,\n",
              "  ' Tech-support': 12,\n",
              "  ' Transport-moving': 13},\n",
              " 'race': {' Amer-Indian-Eskimo': 0,\n",
              "  ' Asian-Pac-Islander': 1,\n",
              "  ' Black': 2,\n",
              "  ' Other': 3,\n",
              "  ' White': 4},\n",
              " 'relationship': {' Husband': 0,\n",
              "  ' Not-in-family': 1,\n",
              "  ' Other-relative': 2,\n",
              "  ' Own-child': 3,\n",
              "  ' Unmarried': 4,\n",
              "  ' Wife': 5},\n",
              " 'sex': {' Female': 0, ' Male': 1},\n",
              " 'workclass': {' Federal-gov': 0,\n",
              "  ' Local-gov': 1,\n",
              "  ' Private': 2,\n",
              "  ' Self-emp-inc': 3,\n",
              "  ' Self-emp-not-inc': 4,\n",
              "  ' State-gov': 5,\n",
              "  ' Without-pay': 6}}"
            ]
          },
          "metadata": {
            "tags": []
          },
          "execution_count": 10
        }
      ]
    },
    {
      "cell_type": "code",
      "metadata": {
        "id": "sff__B8EqchR",
        "colab_type": "code",
        "colab": {
          "base_uri": "https://localhost:8080/",
          "height": 195
        },
        "outputId": "b1acc010-3f43-4198-d699-e4358bcee1e8"
      },
      "source": [
        "# Viewing the data after label encoding\n",
        "train_data.head()\n"
      ],
      "execution_count": 11,
      "outputs": [
        {
          "output_type": "execute_result",
          "data": {
            "text/html": [
              "<div>\n",
              "<style scoped>\n",
              "    .dataframe tbody tr th:only-of-type {\n",
              "        vertical-align: middle;\n",
              "    }\n",
              "\n",
              "    .dataframe tbody tr th {\n",
              "        vertical-align: top;\n",
              "    }\n",
              "\n",
              "    .dataframe thead th {\n",
              "        text-align: right;\n",
              "    }\n",
              "</style>\n",
              "<table border=\"1\" class=\"dataframe\">\n",
              "  <thead>\n",
              "    <tr style=\"text-align: right;\">\n",
              "      <th></th>\n",
              "      <th>age</th>\n",
              "      <th>workclass</th>\n",
              "      <th>fnlwgt</th>\n",
              "      <th>education</th>\n",
              "      <th>education-num</th>\n",
              "      <th>marital-status</th>\n",
              "      <th>occupation</th>\n",
              "      <th>relationship</th>\n",
              "      <th>race</th>\n",
              "      <th>sex</th>\n",
              "      <th>capital-gain</th>\n",
              "      <th>capital-loss</th>\n",
              "      <th>hours-per-week</th>\n",
              "      <th>native-country</th>\n",
              "      <th>target</th>\n",
              "    </tr>\n",
              "  </thead>\n",
              "  <tbody>\n",
              "    <tr>\n",
              "      <th>0</th>\n",
              "      <td>39</td>\n",
              "      <td>5</td>\n",
              "      <td>77516</td>\n",
              "      <td>9</td>\n",
              "      <td>13</td>\n",
              "      <td>4</td>\n",
              "      <td>0</td>\n",
              "      <td>1</td>\n",
              "      <td>4</td>\n",
              "      <td>1</td>\n",
              "      <td>2174</td>\n",
              "      <td>0</td>\n",
              "      <td>40</td>\n",
              "      <td>38</td>\n",
              "      <td>0</td>\n",
              "    </tr>\n",
              "    <tr>\n",
              "      <th>1</th>\n",
              "      <td>50</td>\n",
              "      <td>4</td>\n",
              "      <td>83311</td>\n",
              "      <td>9</td>\n",
              "      <td>13</td>\n",
              "      <td>2</td>\n",
              "      <td>3</td>\n",
              "      <td>0</td>\n",
              "      <td>4</td>\n",
              "      <td>1</td>\n",
              "      <td>0</td>\n",
              "      <td>0</td>\n",
              "      <td>13</td>\n",
              "      <td>38</td>\n",
              "      <td>0</td>\n",
              "    </tr>\n",
              "    <tr>\n",
              "      <th>2</th>\n",
              "      <td>38</td>\n",
              "      <td>2</td>\n",
              "      <td>215646</td>\n",
              "      <td>11</td>\n",
              "      <td>9</td>\n",
              "      <td>0</td>\n",
              "      <td>5</td>\n",
              "      <td>1</td>\n",
              "      <td>4</td>\n",
              "      <td>1</td>\n",
              "      <td>0</td>\n",
              "      <td>0</td>\n",
              "      <td>40</td>\n",
              "      <td>38</td>\n",
              "      <td>0</td>\n",
              "    </tr>\n",
              "    <tr>\n",
              "      <th>3</th>\n",
              "      <td>53</td>\n",
              "      <td>2</td>\n",
              "      <td>234721</td>\n",
              "      <td>1</td>\n",
              "      <td>7</td>\n",
              "      <td>2</td>\n",
              "      <td>5</td>\n",
              "      <td>0</td>\n",
              "      <td>2</td>\n",
              "      <td>1</td>\n",
              "      <td>0</td>\n",
              "      <td>0</td>\n",
              "      <td>40</td>\n",
              "      <td>38</td>\n",
              "      <td>0</td>\n",
              "    </tr>\n",
              "    <tr>\n",
              "      <th>4</th>\n",
              "      <td>28</td>\n",
              "      <td>2</td>\n",
              "      <td>338409</td>\n",
              "      <td>9</td>\n",
              "      <td>13</td>\n",
              "      <td>2</td>\n",
              "      <td>9</td>\n",
              "      <td>5</td>\n",
              "      <td>2</td>\n",
              "      <td>0</td>\n",
              "      <td>0</td>\n",
              "      <td>0</td>\n",
              "      <td>40</td>\n",
              "      <td>4</td>\n",
              "      <td>0</td>\n",
              "    </tr>\n",
              "  </tbody>\n",
              "</table>\n",
              "</div>"
            ],
            "text/plain": [
              "   age  workclass  fnlwgt  ...  hours-per-week  native-country  target\n",
              "0   39          5   77516  ...              40              38       0\n",
              "1   50          4   83311  ...              13              38       0\n",
              "2   38          2  215646  ...              40              38       0\n",
              "3   53          2  234721  ...              40              38       0\n",
              "4   28          2  338409  ...              40               4       0\n",
              "\n",
              "[5 rows x 15 columns]"
            ]
          },
          "metadata": {
            "tags": []
          },
          "execution_count": 11
        }
      ]
    },
    {
      "cell_type": "markdown",
      "metadata": {
        "id": "VhVprWgjUfYN",
        "colab_type": "text"
      },
      "source": [
        "### **Splitting the train data further into training and testing for XGB evaluation**"
      ]
    },
    {
      "cell_type": "code",
      "metadata": {
        "id": "9PvRVz5SjGkE",
        "colab_type": "code",
        "outputId": "aa46426c-0ea3-4a7e-bc24-2abf67855745",
        "colab": {
          "base_uri": "https://localhost:8080/",
          "height": 34
        }
      },
      "source": [
        "X_train, X_test, y_train, y_test = train_test_split(train_data.drop(['target'], axis = 1), train_data['target'], random_state = 42)\n",
        "X_train.shape, X_test.shape, y_train.shape, y_test.shape"
      ],
      "execution_count": 12,
      "outputs": [
        {
          "output_type": "execute_result",
          "data": {
            "text/plain": [
              "((22621, 14), (7541, 14), (22621,), (7541,))"
            ]
          },
          "metadata": {
            "tags": []
          },
          "execution_count": 12
        }
      ]
    },
    {
      "cell_type": "markdown",
      "metadata": {
        "id": "F2x1E7a_Uxbu",
        "colab_type": "text"
      },
      "source": [
        "Building a vanilla XGB model on the training data"
      ]
    },
    {
      "cell_type": "code",
      "metadata": {
        "id": "OfQtCGFVjGcC",
        "colab_type": "code",
        "outputId": "19dffd94-7d48-44a8-fe7f-91e40a5c917b",
        "colab": {
          "base_uri": "https://localhost:8080/",
          "height": 1000
        }
      },
      "source": [
        "params = {'n_estimators' : 500,\n",
        "          'max_depth': 5,\n",
        "          'min_child_weight' : 50,\n",
        "          'gamma': 0.01}\n",
        "xgb_classifier = XGBClassifier(**params)\n",
        "xgb_classifier.fit(X_train, y_train, eval_set=[(X_test, y_test)], early_stopping_rounds=10)"
      ],
      "execution_count": 13,
      "outputs": [
        {
          "output_type": "stream",
          "text": [
            "[0]\tvalidation_0-error:0.152897\n",
            "Will train until validation_0-error hasn't improved in 10 rounds.\n",
            "[1]\tvalidation_0-error:0.148256\n",
            "[2]\tvalidation_0-error:0.147991\n",
            "[3]\tvalidation_0-error:0.148124\n",
            "[4]\tvalidation_0-error:0.150245\n",
            "[5]\tvalidation_0-error:0.149052\n",
            "[6]\tvalidation_0-error:0.148389\n",
            "[7]\tvalidation_0-error:0.149582\n",
            "[8]\tvalidation_0-error:0.1464\n",
            "[9]\tvalidation_0-error:0.147461\n",
            "[10]\tvalidation_0-error:0.147858\n",
            "[11]\tvalidation_0-error:0.147593\n",
            "[12]\tvalidation_0-error:0.147593\n",
            "[13]\tvalidation_0-error:0.146798\n",
            "[14]\tvalidation_0-error:0.146665\n",
            "[15]\tvalidation_0-error:0.145471\n",
            "[16]\tvalidation_0-error:0.145074\n",
            "[17]\tvalidation_0-error:0.144278\n",
            "[18]\tvalidation_0-error:0.144411\n",
            "[19]\tvalidation_0-error:0.144676\n",
            "[20]\tvalidation_0-error:0.144808\n",
            "[21]\tvalidation_0-error:0.144411\n",
            "[22]\tvalidation_0-error:0.144543\n",
            "[23]\tvalidation_0-error:0.14388\n",
            "[24]\tvalidation_0-error:0.144145\n",
            "[25]\tvalidation_0-error:0.144013\n",
            "[26]\tvalidation_0-error:0.143615\n",
            "[27]\tvalidation_0-error:0.14388\n",
            "[28]\tvalidation_0-error:0.143482\n",
            "[29]\tvalidation_0-error:0.144013\n",
            "[30]\tvalidation_0-error:0.143217\n",
            "[31]\tvalidation_0-error:0.142819\n",
            "[32]\tvalidation_0-error:0.143084\n",
            "[33]\tvalidation_0-error:0.143217\n",
            "[34]\tvalidation_0-error:0.14335\n",
            "[35]\tvalidation_0-error:0.143084\n",
            "[36]\tvalidation_0-error:0.142024\n",
            "[37]\tvalidation_0-error:0.142819\n",
            "[38]\tvalidation_0-error:0.141891\n",
            "[39]\tvalidation_0-error:0.141095\n",
            "[40]\tvalidation_0-error:0.14083\n",
            "[41]\tvalidation_0-error:0.14083\n",
            "[42]\tvalidation_0-error:0.140698\n",
            "[43]\tvalidation_0-error:0.140698\n",
            "[44]\tvalidation_0-error:0.139637\n",
            "[45]\tvalidation_0-error:0.139371\n",
            "[46]\tvalidation_0-error:0.139106\n",
            "[47]\tvalidation_0-error:0.138311\n",
            "[48]\tvalidation_0-error:0.138178\n",
            "[49]\tvalidation_0-error:0.138311\n",
            "[50]\tvalidation_0-error:0.137648\n",
            "[51]\tvalidation_0-error:0.137117\n",
            "[52]\tvalidation_0-error:0.137913\n",
            "[53]\tvalidation_0-error:0.137117\n",
            "[54]\tvalidation_0-error:0.137117\n",
            "[55]\tvalidation_0-error:0.13725\n",
            "[56]\tvalidation_0-error:0.137117\n",
            "[57]\tvalidation_0-error:0.137117\n",
            "[58]\tvalidation_0-error:0.136984\n",
            "[59]\tvalidation_0-error:0.136984\n",
            "[60]\tvalidation_0-error:0.136719\n",
            "[61]\tvalidation_0-error:0.136189\n",
            "[62]\tvalidation_0-error:0.136321\n",
            "[63]\tvalidation_0-error:0.136321\n",
            "[64]\tvalidation_0-error:0.136321\n",
            "[65]\tvalidation_0-error:0.136719\n",
            "[66]\tvalidation_0-error:0.136587\n",
            "[67]\tvalidation_0-error:0.136719\n",
            "[68]\tvalidation_0-error:0.13725\n",
            "[69]\tvalidation_0-error:0.136587\n",
            "[70]\tvalidation_0-error:0.136852\n",
            "[71]\tvalidation_0-error:0.136189\n",
            "Stopping. Best iteration:\n",
            "[61]\tvalidation_0-error:0.136189\n",
            "\n"
          ],
          "name": "stdout"
        },
        {
          "output_type": "execute_result",
          "data": {
            "text/plain": [
              "XGBClassifier(base_score=0.5, booster='gbtree', colsample_bylevel=1,\n",
              "              colsample_bynode=1, colsample_bytree=1, gamma=0.01,\n",
              "              learning_rate=0.1, max_delta_step=0, max_depth=5,\n",
              "              min_child_weight=50, missing=None, n_estimators=500, n_jobs=1,\n",
              "              nthread=None, objective='binary:logistic', random_state=0,\n",
              "              reg_alpha=0, reg_lambda=1, scale_pos_weight=1, seed=None,\n",
              "              silent=None, subsample=1, verbosity=1)"
            ]
          },
          "metadata": {
            "tags": []
          },
          "execution_count": 13
        }
      ]
    },
    {
      "cell_type": "markdown",
      "metadata": {
        "id": "Fqq8lbwjU58M",
        "colab_type": "text"
      },
      "source": [
        "Making predictions on the test data using XGB model"
      ]
    },
    {
      "cell_type": "code",
      "metadata": {
        "id": "HO5Os6BViZHX",
        "colab_type": "code",
        "outputId": "b93db9b3-ade3-4b39-de78-f4322a002a87",
        "colab": {
          "base_uri": "https://localhost:8080/",
          "height": 52
        }
      },
      "source": [
        "xgb_classifier.predict_proba(test_data.drop(['target'], axis = 1))[:,1]"
      ],
      "execution_count": 14,
      "outputs": [
        {
          "output_type": "execute_result",
          "data": {
            "text/plain": [
              "array([0.00637804, 0.2809648 , 0.2034492 , ..., 0.735052  , 0.40594822,\n",
              "       0.7455125 ], dtype=float32)"
            ]
          },
          "metadata": {
            "tags": []
          },
          "execution_count": 14
        }
      ]
    },
    {
      "cell_type": "markdown",
      "metadata": {
        "id": "RWv1MGQBU93c",
        "colab_type": "text"
      },
      "source": [
        "Checking the AUC of the ROC curve to evaluate the model"
      ]
    },
    {
      "cell_type": "code",
      "metadata": {
        "id": "-okRbh1Jp7-N",
        "colab_type": "code",
        "outputId": "8d4afe49-2281-4d6c-f7f3-f3fad7978563",
        "colab": {
          "base_uri": "https://localhost:8080/",
          "height": 34
        }
      },
      "source": [
        "roc_auc_score(test_data['target'], xgb_classifier.predict_proba(test_data.drop(['target'], axis = 1))[:,1])"
      ],
      "execution_count": 15,
      "outputs": [
        {
          "output_type": "execute_result",
          "data": {
            "text/plain": [
              "0.912648446421774"
            ]
          },
          "metadata": {
            "tags": []
          },
          "execution_count": 15
        }
      ]
    },
    {
      "cell_type": "markdown",
      "metadata": {
        "id": "4jYZ7I-UW00s",
        "colab_type": "text"
      },
      "source": [
        "## **Focus on the categorical embeddings**"
      ]
    },
    {
      "cell_type": "code",
      "metadata": {
        "id": "GACoyvTCp7zl",
        "colab_type": "code",
        "colab": {}
      },
      "source": [
        "# We need to do categorical embedding for workclass and occupation variables"
      ],
      "execution_count": 0,
      "outputs": []
    },
    {
      "cell_type": "code",
      "metadata": {
        "id": "ueow7Kf3qV7g",
        "colab_type": "code",
        "colab": {
          "base_uri": "https://localhost:8080/",
          "height": 34
        },
        "outputId": "685430a4-d007-403c-f55c-7e5eb3003810"
      },
      "source": [
        "# check how many unique values are present for occupation and workclass\n",
        "train_data.occupation.nunique(), train_data.workclass.nunique()"
      ],
      "execution_count": 17,
      "outputs": [
        {
          "output_type": "execute_result",
          "data": {
            "text/plain": [
              "(14, 7)"
            ]
          },
          "metadata": {
            "tags": []
          },
          "execution_count": 17
        }
      ]
    },
    {
      "cell_type": "markdown",
      "metadata": {
        "id": "tjNA0aPFakmf",
        "colab_type": "text"
      },
      "source": [
        "\n",
        "*   For categorical embedding training, we need to convert the inputs as list to be fed to neural network\n",
        "\n",
        "*  Appending Occupation and Workclass label encoded values into the list\n",
        "\n",
        "*   Using the previous XGB X_train and X_test dataset\n",
        "\n",
        "\n",
        "\n",
        "\n",
        "\n",
        "\n"
      ]
    },
    {
      "cell_type": "code",
      "metadata": {
        "id": "9dobx1HLqvb_",
        "colab_type": "code",
        "colab": {}
      },
      "source": [
        "categorical_columns = ['occupation','workclass']\n",
        "input_train_list = []\n",
        "input_test_list = []\n",
        "for c in categorical_columns:\n",
        "  input_train_list.append(X_train[c].values)\n",
        "  input_test_list.append(X_test[c].values)\n"
      ],
      "execution_count": 0,
      "outputs": []
    },
    {
      "cell_type": "code",
      "metadata": {
        "id": "xeRB5Bsi5P70",
        "colab_type": "code",
        "colab": {
          "base_uri": "https://localhost:8080/",
          "height": 34
        },
        "outputId": "a6ee4e36-ee90-42f0-c65f-12d4c79bee72"
      },
      "source": [
        "input_train_list\n"
      ],
      "execution_count": 19,
      "outputs": [
        {
          "output_type": "execute_result",
          "data": {
            "text/plain": [
              "[array([11, 11,  5, ...,  2,  7, 11]), array([2, 2, 2, ..., 2, 4, 3])]"
            ]
          },
          "metadata": {
            "tags": []
          },
          "execution_count": 19
        }
      ]
    },
    {
      "cell_type": "code",
      "metadata": {
        "id": "IA7xYqhWqvex",
        "colab_type": "code",
        "colab": {}
      },
      "source": [
        "# input models will capture all the input list\n",
        "input_models=[]\n",
        "# output embeddings will capture all the output embeddings\n",
        "output_embeddings=[]\n",
        "for c in categorical_columns:\n",
        "  cat_emb_name= c+'_Embedding'\n",
        "  #Identifying the number of unique values in the category\n",
        "  no_of_unique_cat  = X_train[c].nunique()\n",
        "  # Defining the output embedding size - currently taken it to be 10 for \n",
        "  # simplicity, Jeremy Howard Fast AI course gives empirical formula for this to\n",
        "  # be int(min(np.ceil(no_of_unique_cat/2, 50))) i.e choosing the minimum of\n",
        "  # 50 or half the number of categories in the column\n",
        "  embedding_size = 10\n",
        "  input_model = Input(shape=(1,),name = c+'_Input')\n",
        "  output_model = Embedding(no_of_unique_cat, embedding_size,name=cat_emb_name)(input_model)\n",
        "  output_model = Reshape(target_shape=(embedding_size,))(output_model)   \n",
        "\n",
        "  input_models.append(input_model)\n",
        "  output_embeddings.append(output_model) \n",
        "\n",
        "output = Concatenate()(output_embeddings)\n",
        "output = Dense(512, kernel_initializer=\"uniform\")(output)\n",
        "output = Activation('relu')(output)\n",
        "output= Dropout(0.4)(output)\n",
        "output = Dense(256, kernel_initializer=\"uniform\")(output)\n",
        "output = Activation('relu')(output)\n",
        "output= Dropout(0.3)(output)\n",
        "output = Dense(1, activation='sigmoid')(output)\n",
        "\n",
        "model = Model(inputs=input_models, outputs=output)\n",
        "model.compile(loss='binary_crossentropy', optimizer='Adam',metrics=['accuracy'])"
      ],
      "execution_count": 0,
      "outputs": []
    },
    {
      "cell_type": "code",
      "metadata": {
        "id": "OxyyTYOuu2_N",
        "colab_type": "code",
        "colab": {
          "base_uri": "https://localhost:8080/",
          "height": 1000
        },
        "outputId": "5322fdbc-3635-4b34-b5e7-a7db3b155d63"
      },
      "source": [
        "plot_model(model, show_shapes=True, show_layer_names=True, to_file='model.png')\n",
        "Image(retina=True, filename='model.png')"
      ],
      "execution_count": 21,
      "outputs": [
        {
          "output_type": "execute_result",
          "data": {
            "image/png": "[encoded data removed]",
            "text/plain": [
              "<IPython.core.display.Image object>"
            ]
          },
          "metadata": {
            "tags": []
          },
          "execution_count": 21
        },
        {
          "output_type": "execute_result",
          "data": {
            "image/png": "[encoded data removed]",
            "text/plain": [
              "<IPython.core.display.Image object>"
            ]
          },
          "metadata": {
            "tags": [],
            "image/png": {
              "width": 523,
              "height": 590
            }
          },
          "execution_count": 21
        }
      ]
    },
    {
      "cell_type": "code",
      "metadata": {
        "id": "wXCl1oAwu28k",
        "colab_type": "code",
        "colab": {
          "base_uri": "https://localhost:8080/",
          "height": 442
        },
        "outputId": "bd8371ed-7e14-4ef7-adbe-e2a84514c308"
      },
      "source": [
        "history  =  model.fit(input_train_list, y_train, validation_data=(input_test_list, y_test) , epochs =  10 , batch_size = 32, verbose= 2)"
      ],
      "execution_count": 22,
      "outputs": [
        {
          "output_type": "stream",
          "text": [
            "/usr/local/lib/python3.6/dist-packages/tensorflow/python/framework/indexed_slices.py:434: UserWarning: Converting sparse IndexedSlices to a dense Tensor of unknown shape. This may consume a large amount of memory.\n",
            "  \"Converting sparse IndexedSlices to a dense Tensor of unknown shape. \"\n"
          ],
          "name": "stderr"
        },
        {
          "output_type": "stream",
          "text": [
            "Train on 22621 samples, validate on 7541 samples\n",
            "Epoch 1/10\n",
            " - 4s - loss: 0.5036 - accuracy: 0.7564 - val_loss: 0.4928 - val_accuracy: 0.7559\n",
            "Epoch 2/10\n",
            " - 4s - loss: 0.4966 - accuracy: 0.7577 - val_loss: 0.4892 - val_accuracy: 0.7559\n",
            "Epoch 3/10\n",
            " - 4s - loss: 0.4947 - accuracy: 0.7598 - val_loss: 0.4897 - val_accuracy: 0.7548\n",
            "Epoch 4/10\n",
            " - 4s - loss: 0.4939 - accuracy: 0.7605 - val_loss: 0.4906 - val_accuracy: 0.7577\n",
            "Epoch 5/10\n",
            " - 4s - loss: 0.4946 - accuracy: 0.7595 - val_loss: 0.4890 - val_accuracy: 0.7577\n",
            "Epoch 6/10\n",
            " - 4s - loss: 0.4937 - accuracy: 0.7585 - val_loss: 0.4885 - val_accuracy: 0.7573\n",
            "Epoch 7/10\n",
            " - 4s - loss: 0.4936 - accuracy: 0.7593 - val_loss: 0.4877 - val_accuracy: 0.7584\n",
            "Epoch 8/10\n",
            " - 4s - loss: 0.4930 - accuracy: 0.7602 - val_loss: 0.4903 - val_accuracy: 0.7571\n",
            "Epoch 9/10\n",
            " - 4s - loss: 0.4926 - accuracy: 0.7615 - val_loss: 0.4889 - val_accuracy: 0.7567\n",
            "Epoch 10/10\n",
            " - 4s - loss: 0.4932 - accuracy: 0.7588 - val_loss: 0.4918 - val_accuracy: 0.7556\n"
          ],
          "name": "stdout"
        }
      ]
    },
    {
      "cell_type": "code",
      "metadata": {
        "id": "qSWNLaSzqV_L",
        "colab_type": "code",
        "colab": {
          "base_uri": "https://localhost:8080/",
          "height": 330
        },
        "outputId": "b7a00f67-c881-48c4-812b-0797fb9d9d8b"
      },
      "source": [
        "# summarize history for accuracy\n",
        "plt.plot(history.history['loss'])\n",
        "plt.plot(history.history['val_loss'])\n",
        "plt.title('loss')\n",
        "plt.ylabel('loss')\n",
        "plt.xlabel('epoch')\n",
        "plt.legend(['train', 'val'], loc='upper right')\n",
        "plt.show()"
      ],
      "execution_count": 23,
      "outputs": [
        {
          "output_type": "execute_result",
          "data": {
            "text/plain": [
              "[<matplotlib.lines.Line2D at 0x7f7540046f98>]"
            ]
          },
          "metadata": {
            "tags": []
          },
          "execution_count": 23
        },
        {
          "output_type": "execute_result",
          "data": {
            "text/plain": [
              "[<matplotlib.lines.Line2D at 0x7f75401ac4a8>]"
            ]
          },
          "metadata": {
            "tags": []
          },
          "execution_count": 23
        },
        {
          "output_type": "execute_result",
          "data": {
            "text/plain": [
              "Text(0.5, 1.0, 'loss')"
            ]
          },
          "metadata": {
            "tags": []
          },
          "execution_count": 23
        },
        {
          "output_type": "execute_result",
          "data": {
            "text/plain": [
              "Text(0, 0.5, 'loss')"
            ]
          },
          "metadata": {
            "tags": []
          },
          "execution_count": 23
        },
        {
          "output_type": "execute_result",
          "data": {
            "text/plain": [
              "Text(0.5, 0, 'epoch')"
            ]
          },
          "metadata": {
            "tags": []
          },
          "execution_count": 23
        },
        {
          "output_type": "execute_result",
          "data": {
            "text/plain": [
              "<matplotlib.legend.Legend at 0x7f75400318d0>"
            ]
          },
          "metadata": {
            "tags": []
          },
          "execution_count": 23
        },
        {
          "output_type": "display_data",
          "data": {
            "image/png": "[encoded data removed]",
            "text/plain": [
              "<Figure size 432x288 with 1 Axes>"
            ]
          },
          "metadata": {
            "tags": [],
            "needs_background": "light"
          }
        }
      ]
    },
    {
      "cell_type": "markdown",
      "metadata": {
        "id": "Pdf6F11ViTC-",
        "colab_type": "text"
      },
      "source": [
        "\n",
        "\n",
        "*   Extraction of the learned embeddings\n",
        "*   For embedding layers the weight of the layer is the learned embedding itself\n",
        "*   We can use get_layer function and then get_weights to extract the wrights\n",
        "\n",
        "\n"
      ]
    },
    {
      "cell_type": "code",
      "metadata": {
        "id": "3-yKQ6Xsz17X",
        "colab_type": "code",
        "colab": {
          "base_uri": "https://localhost:8080/",
          "height": 281
        },
        "outputId": "9ad22460-0b33-4e67-a615-802d016584ed"
      },
      "source": [
        "model.get_layer('workclass_Embedding').get_weights()[0]\n",
        "# Below are the learned embedding for each unique category in the workclass columns\n",
        "model.get_layer('workclass_Embedding').get_weights()[0].shape\n",
        "# The shape is (7,10) meaning 7 unique values each described by 10 values \n",
        "# (embedding size)"
      ],
      "execution_count": 24,
      "outputs": [
        {
          "output_type": "execute_result",
          "data": {
            "text/plain": [
              "array([[ 0.00891468, -0.06467341,  0.06645563,  0.00123326, -0.025052  ,\n",
              "         0.12698692, -0.08242813, -0.07432888, -0.14189154, -0.01735462],\n",
              "       [-0.09778014, -0.08134052,  0.26482302,  0.00278145, -0.11429178,\n",
              "        -0.02333427,  0.04283683, -0.01170752, -0.03258912, -0.04220036],\n",
              "       [-0.00403739,  0.03073743, -0.01824676, -0.02725531,  0.03014312,\n",
              "        -0.05237668,  0.02971129,  0.05180047,  0.05092912,  0.02458414],\n",
              "       [ 0.06841106,  0.16391657, -0.08735823, -0.0245417 , -0.07396923,\n",
              "         0.19762765, -0.14721854, -0.11621418, -0.17196855,  0.0122948 ],\n",
              "       [ 0.10296551, -0.14313838, -0.02616336,  0.13803944,  0.02079557,\n",
              "        -0.02366026, -0.05815905, -0.05069228, -0.0555746 , -0.12761535],\n",
              "       [-0.01933304, -0.14754799, -0.01765835,  0.04163672,  0.043397  ,\n",
              "        -0.06621815,  0.03235142,  0.04712053,  0.07208382,  0.00489123],\n",
              "       [-0.27043548,  0.5098829 , -0.44821262, -0.38487378,  0.33260903,\n",
              "        -0.42153022,  0.3180138 ,  0.37065467,  0.37168127,  0.46680513]],\n",
              "      dtype=float32)"
            ]
          },
          "metadata": {
            "tags": []
          },
          "execution_count": 24
        },
        {
          "output_type": "execute_result",
          "data": {
            "text/plain": [
              "(7, 10)"
            ]
          },
          "metadata": {
            "tags": []
          },
          "execution_count": 24
        }
      ]
    },
    {
      "cell_type": "code",
      "metadata": {
        "id": "kOCzjrVz40rI",
        "colab_type": "code",
        "colab": {
          "base_uri": "https://localhost:8080/",
          "height": 527
        },
        "outputId": "383a6d49-8d25-42d3-96e5-24cf63ac91cf"
      },
      "source": [
        "model.get_layer('occupation_Embedding').get_weights()[0]\n",
        "# Below are the learned embedding for each unique category in the occupation columns\n",
        "model.get_layer('occupation_Embedding').get_weights()[0].shape\n",
        "# The shape is (14,10) meaning 7 unique values each described by 10 values \n",
        "# (embedding size)"
      ],
      "execution_count": 25,
      "outputs": [
        {
          "output_type": "execute_result",
          "data": {
            "text/plain": [
              "array([[ 0.04995214, -0.07276401,  0.03566596,  0.01821038, -0.00813728,\n",
              "         0.05255678, -0.0419598 , -0.02526446, -0.0510785 , -0.04250706],\n",
              "       [ 0.05817195, -0.08896135,  0.11316393,  0.10726804,  0.07704798,\n",
              "         0.12884805,  0.08281785,  0.09341501, -0.13348712, -0.06584851],\n",
              "       [-0.09570209,  0.09928451,  0.04083937, -0.00217669,  0.11751041,\n",
              "        -0.01315136,  0.09228364,  0.06873428, -0.03928711,  0.09668647],\n",
              "       [-0.13376096,  0.25131518, -0.20604444,  0.02076605,  0.08657564,\n",
              "        -0.22731958, -0.01185756, -0.03531228,  0.12778299,  0.18528827],\n",
              "       [ 0.09834561, -0.06416649,  0.08750722,  0.01056843, -0.04916275,\n",
              "         0.06394995,  0.07299385,  0.0449761 , -0.13295764, -0.05004914],\n",
              "       [ 0.07787978, -0.07604587,  0.1262091 ,  0.07312801, -0.05563973,\n",
              "         0.10729332, -0.01840216,  0.05287153, -0.08386634, -0.11595782],\n",
              "       [ 0.07160261, -0.08463614,  0.00546318,  0.0146948 , -0.05800374,\n",
              "         0.0123863 , -0.04012269,  0.02212993, -0.07202298, -0.00677128],\n",
              "       [ 0.13363987, -0.12090948,  0.09798327,  0.03532444,  0.00165572,\n",
              "         0.09134252,  0.02860349,  0.11848674, -0.15724505, -0.14122604],\n",
              "       [ 0.4316106 , -0.4549948 ,  0.49236336,  0.3411579 , -0.12336002,\n",
              "         0.3748463 ,  0.11846154,  0.46270928, -0.43359238, -0.5223331 ],\n",
              "       [-0.17934741,  0.02884739, -0.21315436,  0.02411832, -0.02834585,\n",
              "        -0.00696238, -0.11770155, -0.10286172,  0.2055041 ,  0.13030936],\n",
              "       [ 0.04519425,  0.08415486, -0.0366138 , -0.17206836, -0.13775416,\n",
              "        -0.08157019,  0.00853729, -0.16390048,  0.04172977,  0.02791736],\n",
              "       [-0.00794629,  0.02598211,  0.00311513, -0.05039992, -0.05321265,\n",
              "        -0.00156514,  0.01126043, -0.09008972,  0.05003635,  0.00232389],\n",
              "       [ 0.00285706,  0.02936887, -0.06941319, -0.01484756,  0.00562391,\n",
              "        -0.04664561,  0.01389027, -0.03046776,  0.02516439,  0.09994946],\n",
              "       [-0.0242512 , -0.04343734,  0.05696109,  0.03308324,  0.10186686,\n",
              "        -0.02391393,  0.02360667,  0.10151255,  0.02287125,  0.0454097 ]],\n",
              "      dtype=float32)"
            ]
          },
          "metadata": {
            "tags": []
          },
          "execution_count": 25
        },
        {
          "output_type": "execute_result",
          "data": {
            "text/plain": [
              "(14, 10)"
            ]
          },
          "metadata": {
            "tags": []
          },
          "execution_count": 25
        }
      ]
    },
    {
      "cell_type": "code",
      "metadata": {
        "id": "hX5_TwKMJ71e",
        "colab_type": "code",
        "colab": {
          "base_uri": "https://localhost:8080/",
          "height": 54
        },
        "outputId": "8854d116-1963-4173-a0a4-0db069e5dc4b"
      },
      "source": [
        "# We saved the label encoder for extracting the embeddings\n",
        "le_dict['occupation'].items()"
      ],
      "execution_count": 26,
      "outputs": [
        {
          "output_type": "execute_result",
          "data": {
            "text/plain": [
              "dict_items([(' Adm-clerical', 0), (' Armed-Forces', 1), (' Craft-repair', 2), (' Exec-managerial', 3), (' Farming-fishing', 4), (' Handlers-cleaners', 5), (' Machine-op-inspct', 6), (' Other-service', 7), (' Priv-house-serv', 8), (' Prof-specialty', 9), (' Protective-serv', 10), (' Sales', 11), (' Tech-support', 12), (' Transport-moving', 13)])"
            ]
          },
          "metadata": {
            "tags": []
          },
          "execution_count": 26
        }
      ]
    },
    {
      "cell_type": "markdown",
      "metadata": {
        "id": "v8CUQ6DzjeoP",
        "colab_type": "text"
      },
      "source": [
        "# **Mapping of the embedding to the actual categories**"
      ]
    },
    {
      "cell_type": "code",
      "metadata": {
        "id": "vSXHKlq7J7yq",
        "colab_type": "code",
        "colab": {}
      },
      "source": [
        "# Need to extract embedding based on the label encoding\n",
        "occupation_embeddings = {idx:model.get_layer('occupation_Embedding').get_weights()[0][idx] for w, idx in le_dict['occupation'].items()}\n",
        "workclass_embeddings = {idx:model.get_layer('workclass_Embedding').get_weights()[0][idx] for w, idx in le_dict['workclass'].items()}\n"
      ],
      "execution_count": 0,
      "outputs": []
    },
    {
      "cell_type": "markdown",
      "metadata": {
        "id": "spLJlqs-yx-i",
        "colab_type": "text"
      },
      "source": [
        "Converting the arrays to DF to be merged with main dataset"
      ]
    },
    {
      "cell_type": "code",
      "metadata": {
        "id": "BlchMk7nJ7vX",
        "colab_type": "code",
        "colab": {}
      },
      "source": [
        "occupation_embeddings_df = pd.DataFrame(occupation_embeddings)\n",
        "workclass_embeddings_df = pd.DataFrame(workclass_embeddings)"
      ],
      "execution_count": 0,
      "outputs": []
    },
    {
      "cell_type": "code",
      "metadata": {
        "id": "7e86w1ksK0r_",
        "colab_type": "code",
        "colab": {
          "base_uri": "https://localhost:8080/",
          "height": 462
        },
        "outputId": "a6176b3f-8282-46b4-d668-83af2afe5973"
      },
      "source": [
        "occupation_embeddings_df = occupation_embeddings_df.T.reset_index()\n",
        "occupation_embeddings_df"
      ],
      "execution_count": 29,
      "outputs": [
        {
          "output_type": "execute_result",
          "data": {
            "text/html": [
              "<div>\n",
              "<style scoped>\n",
              "    .dataframe tbody tr th:only-of-type {\n",
              "        vertical-align: middle;\n",
              "    }\n",
              "\n",
              "    .dataframe tbody tr th {\n",
              "        vertical-align: top;\n",
              "    }\n",
              "\n",
              "    .dataframe thead th {\n",
              "        text-align: right;\n",
              "    }\n",
              "</style>\n",
              "<table border=\"1\" class=\"dataframe\">\n",
              "  <thead>\n",
              "    <tr style=\"text-align: right;\">\n",
              "      <th></th>\n",
              "      <th>index</th>\n",
              "      <th>0</th>\n",
              "      <th>1</th>\n",
              "      <th>2</th>\n",
              "      <th>3</th>\n",
              "      <th>4</th>\n",
              "      <th>5</th>\n",
              "      <th>6</th>\n",
              "      <th>7</th>\n",
              "      <th>8</th>\n",
              "      <th>9</th>\n",
              "    </tr>\n",
              "  </thead>\n",
              "  <tbody>\n",
              "    <tr>\n",
              "      <th>0</th>\n",
              "      <td>0</td>\n",
              "      <td>0.049952</td>\n",
              "      <td>-0.072764</td>\n",
              "      <td>0.035666</td>\n",
              "      <td>0.018210</td>\n",
              "      <td>-0.008137</td>\n",
              "      <td>0.052557</td>\n",
              "      <td>-0.041960</td>\n",
              "      <td>-0.025264</td>\n",
              "      <td>-0.051079</td>\n",
              "      <td>-0.042507</td>\n",
              "    </tr>\n",
              "    <tr>\n",
              "      <th>1</th>\n",
              "      <td>1</td>\n",
              "      <td>0.058172</td>\n",
              "      <td>-0.088961</td>\n",
              "      <td>0.113164</td>\n",
              "      <td>0.107268</td>\n",
              "      <td>0.077048</td>\n",
              "      <td>0.128848</td>\n",
              "      <td>0.082818</td>\n",
              "      <td>0.093415</td>\n",
              "      <td>-0.133487</td>\n",
              "      <td>-0.065849</td>\n",
              "    </tr>\n",
              "    <tr>\n",
              "      <th>2</th>\n",
              "      <td>2</td>\n",
              "      <td>-0.095702</td>\n",
              "      <td>0.099285</td>\n",
              "      <td>0.040839</td>\n",
              "      <td>-0.002177</td>\n",
              "      <td>0.117510</td>\n",
              "      <td>-0.013151</td>\n",
              "      <td>0.092284</td>\n",
              "      <td>0.068734</td>\n",
              "      <td>-0.039287</td>\n",
              "      <td>0.096686</td>\n",
              "    </tr>\n",
              "    <tr>\n",
              "      <th>3</th>\n",
              "      <td>3</td>\n",
              "      <td>-0.133761</td>\n",
              "      <td>0.251315</td>\n",
              "      <td>-0.206044</td>\n",
              "      <td>0.020766</td>\n",
              "      <td>0.086576</td>\n",
              "      <td>-0.227320</td>\n",
              "      <td>-0.011858</td>\n",
              "      <td>-0.035312</td>\n",
              "      <td>0.127783</td>\n",
              "      <td>0.185288</td>\n",
              "    </tr>\n",
              "    <tr>\n",
              "      <th>4</th>\n",
              "      <td>4</td>\n",
              "      <td>0.098346</td>\n",
              "      <td>-0.064166</td>\n",
              "      <td>0.087507</td>\n",
              "      <td>0.010568</td>\n",
              "      <td>-0.049163</td>\n",
              "      <td>0.063950</td>\n",
              "      <td>0.072994</td>\n",
              "      <td>0.044976</td>\n",
              "      <td>-0.132958</td>\n",
              "      <td>-0.050049</td>\n",
              "    </tr>\n",
              "    <tr>\n",
              "      <th>5</th>\n",
              "      <td>5</td>\n",
              "      <td>0.077880</td>\n",
              "      <td>-0.076046</td>\n",
              "      <td>0.126209</td>\n",
              "      <td>0.073128</td>\n",
              "      <td>-0.055640</td>\n",
              "      <td>0.107293</td>\n",
              "      <td>-0.018402</td>\n",
              "      <td>0.052872</td>\n",
              "      <td>-0.083866</td>\n",
              "      <td>-0.115958</td>\n",
              "    </tr>\n",
              "    <tr>\n",
              "      <th>6</th>\n",
              "      <td>6</td>\n",
              "      <td>0.071603</td>\n",
              "      <td>-0.084636</td>\n",
              "      <td>0.005463</td>\n",
              "      <td>0.014695</td>\n",
              "      <td>-0.058004</td>\n",
              "      <td>0.012386</td>\n",
              "      <td>-0.040123</td>\n",
              "      <td>0.022130</td>\n",
              "      <td>-0.072023</td>\n",
              "      <td>-0.006771</td>\n",
              "    </tr>\n",
              "    <tr>\n",
              "      <th>7</th>\n",
              "      <td>7</td>\n",
              "      <td>0.133640</td>\n",
              "      <td>-0.120909</td>\n",
              "      <td>0.097983</td>\n",
              "      <td>0.035324</td>\n",
              "      <td>0.001656</td>\n",
              "      <td>0.091343</td>\n",
              "      <td>0.028603</td>\n",
              "      <td>0.118487</td>\n",
              "      <td>-0.157245</td>\n",
              "      <td>-0.141226</td>\n",
              "    </tr>\n",
              "    <tr>\n",
              "      <th>8</th>\n",
              "      <td>8</td>\n",
              "      <td>0.431611</td>\n",
              "      <td>-0.454995</td>\n",
              "      <td>0.492363</td>\n",
              "      <td>0.341158</td>\n",
              "      <td>-0.123360</td>\n",
              "      <td>0.374846</td>\n",
              "      <td>0.118462</td>\n",
              "      <td>0.462709</td>\n",
              "      <td>-0.433592</td>\n",
              "      <td>-0.522333</td>\n",
              "    </tr>\n",
              "    <tr>\n",
              "      <th>9</th>\n",
              "      <td>9</td>\n",
              "      <td>-0.179347</td>\n",
              "      <td>0.028847</td>\n",
              "      <td>-0.213154</td>\n",
              "      <td>0.024118</td>\n",
              "      <td>-0.028346</td>\n",
              "      <td>-0.006962</td>\n",
              "      <td>-0.117702</td>\n",
              "      <td>-0.102862</td>\n",
              "      <td>0.205504</td>\n",
              "      <td>0.130309</td>\n",
              "    </tr>\n",
              "    <tr>\n",
              "      <th>10</th>\n",
              "      <td>10</td>\n",
              "      <td>0.045194</td>\n",
              "      <td>0.084155</td>\n",
              "      <td>-0.036614</td>\n",
              "      <td>-0.172068</td>\n",
              "      <td>-0.137754</td>\n",
              "      <td>-0.081570</td>\n",
              "      <td>0.008537</td>\n",
              "      <td>-0.163900</td>\n",
              "      <td>0.041730</td>\n",
              "      <td>0.027917</td>\n",
              "    </tr>\n",
              "    <tr>\n",
              "      <th>11</th>\n",
              "      <td>11</td>\n",
              "      <td>-0.007946</td>\n",
              "      <td>0.025982</td>\n",
              "      <td>0.003115</td>\n",
              "      <td>-0.050400</td>\n",
              "      <td>-0.053213</td>\n",
              "      <td>-0.001565</td>\n",
              "      <td>0.011260</td>\n",
              "      <td>-0.090090</td>\n",
              "      <td>0.050036</td>\n",
              "      <td>0.002324</td>\n",
              "    </tr>\n",
              "    <tr>\n",
              "      <th>12</th>\n",
              "      <td>12</td>\n",
              "      <td>0.002857</td>\n",
              "      <td>0.029369</td>\n",
              "      <td>-0.069413</td>\n",
              "      <td>-0.014848</td>\n",
              "      <td>0.005624</td>\n",
              "      <td>-0.046646</td>\n",
              "      <td>0.013890</td>\n",
              "      <td>-0.030468</td>\n",
              "      <td>0.025164</td>\n",
              "      <td>0.099949</td>\n",
              "    </tr>\n",
              "    <tr>\n",
              "      <th>13</th>\n",
              "      <td>13</td>\n",
              "      <td>-0.024251</td>\n",
              "      <td>-0.043437</td>\n",
              "      <td>0.056961</td>\n",
              "      <td>0.033083</td>\n",
              "      <td>0.101867</td>\n",
              "      <td>-0.023914</td>\n",
              "      <td>0.023607</td>\n",
              "      <td>0.101513</td>\n",
              "      <td>0.022871</td>\n",
              "      <td>0.045410</td>\n",
              "    </tr>\n",
              "  </tbody>\n",
              "</table>\n",
              "</div>"
            ],
            "text/plain": [
              "    index         0         1         2  ...         6         7         8         9\n",
              "0       0  0.049952 -0.072764  0.035666  ... -0.041960 -0.025264 -0.051079 -0.042507\n",
              "1       1  0.058172 -0.088961  0.113164  ...  0.082818  0.093415 -0.133487 -0.065849\n",
              "2       2 -0.095702  0.099285  0.040839  ...  0.092284  0.068734 -0.039287  0.096686\n",
              "3       3 -0.133761  0.251315 -0.206044  ... -0.011858 -0.035312  0.127783  0.185288\n",
              "4       4  0.098346 -0.064166  0.087507  ...  0.072994  0.044976 -0.132958 -0.050049\n",
              "5       5  0.077880 -0.076046  0.126209  ... -0.018402  0.052872 -0.083866 -0.115958\n",
              "6       6  0.071603 -0.084636  0.005463  ... -0.040123  0.022130 -0.072023 -0.006771\n",
              "7       7  0.133640 -0.120909  0.097983  ...  0.028603  0.118487 -0.157245 -0.141226\n",
              "8       8  0.431611 -0.454995  0.492363  ...  0.118462  0.462709 -0.433592 -0.522333\n",
              "9       9 -0.179347  0.028847 -0.213154  ... -0.117702 -0.102862  0.205504  0.130309\n",
              "10     10  0.045194  0.084155 -0.036614  ...  0.008537 -0.163900  0.041730  0.027917\n",
              "11     11 -0.007946  0.025982  0.003115  ...  0.011260 -0.090090  0.050036  0.002324\n",
              "12     12  0.002857  0.029369 -0.069413  ...  0.013890 -0.030468  0.025164  0.099949\n",
              "13     13 -0.024251 -0.043437  0.056961  ...  0.023607  0.101513  0.022871  0.045410\n",
              "\n",
              "[14 rows x 11 columns]"
            ]
          },
          "metadata": {
            "tags": []
          },
          "execution_count": 29
        }
      ]
    },
    {
      "cell_type": "code",
      "metadata": {
        "id": "SZ_9nRXLK0vX",
        "colab_type": "code",
        "colab": {
          "base_uri": "https://localhost:8080/",
          "height": 254
        },
        "outputId": "1d7ecf32-04f4-4503-d921-d990d1889fc3"
      },
      "source": [
        "workclass_embeddings_df = workclass_embeddings_df.T.reset_index()\n",
        "workclass_embeddings_df"
      ],
      "execution_count": 30,
      "outputs": [
        {
          "output_type": "execute_result",
          "data": {
            "text/html": [
              "<div>\n",
              "<style scoped>\n",
              "    .dataframe tbody tr th:only-of-type {\n",
              "        vertical-align: middle;\n",
              "    }\n",
              "\n",
              "    .dataframe tbody tr th {\n",
              "        vertical-align: top;\n",
              "    }\n",
              "\n",
              "    .dataframe thead th {\n",
              "        text-align: right;\n",
              "    }\n",
              "</style>\n",
              "<table border=\"1\" class=\"dataframe\">\n",
              "  <thead>\n",
              "    <tr style=\"text-align: right;\">\n",
              "      <th></th>\n",
              "      <th>index</th>\n",
              "      <th>0</th>\n",
              "      <th>1</th>\n",
              "      <th>2</th>\n",
              "      <th>3</th>\n",
              "      <th>4</th>\n",
              "      <th>5</th>\n",
              "      <th>6</th>\n",
              "      <th>7</th>\n",
              "      <th>8</th>\n",
              "      <th>9</th>\n",
              "    </tr>\n",
              "  </thead>\n",
              "  <tbody>\n",
              "    <tr>\n",
              "      <th>0</th>\n",
              "      <td>0</td>\n",
              "      <td>0.008915</td>\n",
              "      <td>-0.064673</td>\n",
              "      <td>0.066456</td>\n",
              "      <td>0.001233</td>\n",
              "      <td>-0.025052</td>\n",
              "      <td>0.126987</td>\n",
              "      <td>-0.082428</td>\n",
              "      <td>-0.074329</td>\n",
              "      <td>-0.141892</td>\n",
              "      <td>-0.017355</td>\n",
              "    </tr>\n",
              "    <tr>\n",
              "      <th>1</th>\n",
              "      <td>1</td>\n",
              "      <td>-0.097780</td>\n",
              "      <td>-0.081341</td>\n",
              "      <td>0.264823</td>\n",
              "      <td>0.002781</td>\n",
              "      <td>-0.114292</td>\n",
              "      <td>-0.023334</td>\n",
              "      <td>0.042837</td>\n",
              "      <td>-0.011708</td>\n",
              "      <td>-0.032589</td>\n",
              "      <td>-0.042200</td>\n",
              "    </tr>\n",
              "    <tr>\n",
              "      <th>2</th>\n",
              "      <td>2</td>\n",
              "      <td>-0.004037</td>\n",
              "      <td>0.030737</td>\n",
              "      <td>-0.018247</td>\n",
              "      <td>-0.027255</td>\n",
              "      <td>0.030143</td>\n",
              "      <td>-0.052377</td>\n",
              "      <td>0.029711</td>\n",
              "      <td>0.051800</td>\n",
              "      <td>0.050929</td>\n",
              "      <td>0.024584</td>\n",
              "    </tr>\n",
              "    <tr>\n",
              "      <th>3</th>\n",
              "      <td>3</td>\n",
              "      <td>0.068411</td>\n",
              "      <td>0.163917</td>\n",
              "      <td>-0.087358</td>\n",
              "      <td>-0.024542</td>\n",
              "      <td>-0.073969</td>\n",
              "      <td>0.197628</td>\n",
              "      <td>-0.147219</td>\n",
              "      <td>-0.116214</td>\n",
              "      <td>-0.171969</td>\n",
              "      <td>0.012295</td>\n",
              "    </tr>\n",
              "    <tr>\n",
              "      <th>4</th>\n",
              "      <td>4</td>\n",
              "      <td>0.102966</td>\n",
              "      <td>-0.143138</td>\n",
              "      <td>-0.026163</td>\n",
              "      <td>0.138039</td>\n",
              "      <td>0.020796</td>\n",
              "      <td>-0.023660</td>\n",
              "      <td>-0.058159</td>\n",
              "      <td>-0.050692</td>\n",
              "      <td>-0.055575</td>\n",
              "      <td>-0.127615</td>\n",
              "    </tr>\n",
              "    <tr>\n",
              "      <th>5</th>\n",
              "      <td>5</td>\n",
              "      <td>-0.019333</td>\n",
              "      <td>-0.147548</td>\n",
              "      <td>-0.017658</td>\n",
              "      <td>0.041637</td>\n",
              "      <td>0.043397</td>\n",
              "      <td>-0.066218</td>\n",
              "      <td>0.032351</td>\n",
              "      <td>0.047121</td>\n",
              "      <td>0.072084</td>\n",
              "      <td>0.004891</td>\n",
              "    </tr>\n",
              "    <tr>\n",
              "      <th>6</th>\n",
              "      <td>6</td>\n",
              "      <td>-0.270435</td>\n",
              "      <td>0.509883</td>\n",
              "      <td>-0.448213</td>\n",
              "      <td>-0.384874</td>\n",
              "      <td>0.332609</td>\n",
              "      <td>-0.421530</td>\n",
              "      <td>0.318014</td>\n",
              "      <td>0.370655</td>\n",
              "      <td>0.371681</td>\n",
              "      <td>0.466805</td>\n",
              "    </tr>\n",
              "  </tbody>\n",
              "</table>\n",
              "</div>"
            ],
            "text/plain": [
              "   index         0         1         2  ...         6         7         8         9\n",
              "0      0  0.008915 -0.064673  0.066456  ... -0.082428 -0.074329 -0.141892 -0.017355\n",
              "1      1 -0.097780 -0.081341  0.264823  ...  0.042837 -0.011708 -0.032589 -0.042200\n",
              "2      2 -0.004037  0.030737 -0.018247  ...  0.029711  0.051800  0.050929  0.024584\n",
              "3      3  0.068411  0.163917 -0.087358  ... -0.147219 -0.116214 -0.171969  0.012295\n",
              "4      4  0.102966 -0.143138 -0.026163  ... -0.058159 -0.050692 -0.055575 -0.127615\n",
              "5      5 -0.019333 -0.147548 -0.017658  ...  0.032351  0.047121  0.072084  0.004891\n",
              "6      6 -0.270435  0.509883 -0.448213  ...  0.318014  0.370655  0.371681  0.466805\n",
              "\n",
              "[7 rows x 11 columns]"
            ]
          },
          "metadata": {
            "tags": []
          },
          "execution_count": 30
        }
      ]
    },
    {
      "cell_type": "markdown",
      "metadata": {
        "id": "8emoB13XzOAM",
        "colab_type": "text"
      },
      "source": [
        "TSNE visualization for workclass embeddings"
      ]
    },
    {
      "cell_type": "code",
      "metadata": {
        "id": "UQKWsNqpLdeY",
        "colab_type": "code",
        "colab": {
          "base_uri": "https://localhost:8080/",
          "height": 140
        },
        "outputId": "3e234d23-7759-4482-8b10-9b3278c15689"
      },
      "source": [
        "time_start = time.time()\n",
        "tsne = TSNE(n_components=2, verbose=1, perplexity=40, n_iter=300)\n",
        "tsne_results = tsne.fit_transform(workclass_embeddings_df.T)"
      ],
      "execution_count": 31,
      "outputs": [
        {
          "output_type": "stream",
          "text": [
            "[t-SNE] Computing 10 nearest neighbors...\n",
            "[t-SNE] Indexed 11 samples in 0.000s...\n",
            "[t-SNE] Computed neighbors for 11 samples in 0.001s...\n",
            "[t-SNE] Computed conditional probabilities for sample 11 / 11\n",
            "[t-SNE] Mean sigma: 1125899906842624.000000\n",
            "[t-SNE] KL divergence after 250 iterations with early exaggeration: 45.150612\n",
            "[t-SNE] KL divergence after 300 iterations: 0.302636\n"
          ],
          "name": "stdout"
        }
      ]
    },
    {
      "cell_type": "code",
      "metadata": {
        "id": "0LBD775XLzt6",
        "colab_type": "code",
        "colab": {
          "base_uri": "https://localhost:8080/",
          "height": 624
        },
        "outputId": "7822cbb5-202d-4fb0-f64a-e9e3fcbcfcfb"
      },
      "source": [
        "tsne_df = pd.DataFrame()\n",
        "tsne_df['comp1'] = tsne_results[:,0]\n",
        "tsne_df['comp2'] = tsne_results[:,1]\n",
        "plt.figure(figsize=(16,10))\n",
        "sns.scatterplot(\n",
        "    x=\"comp1\", y=\"comp2\",\n",
        "    data=tsne_df,\n",
        "    legend=\"full\",\n",
        "    alpha=1\n",
        ")"
      ],
      "execution_count": 32,
      "outputs": [
        {
          "output_type": "execute_result",
          "data": {
            "text/plain": [
              "<Figure size 1152x720 with 0 Axes>"
            ]
          },
          "metadata": {
            "tags": []
          },
          "execution_count": 32
        },
        {
          "output_type": "execute_result",
          "data": {
            "text/plain": [
              "<matplotlib.axes._subplots.AxesSubplot at 0x7f74c66042b0>"
            ]
          },
          "metadata": {
            "tags": []
          },
          "execution_count": 32
        },
        {
          "output_type": "display_data",
          "data": {
            "image/png": "[encoded data removed]",
            "text/plain": [
              "<Figure size 1152x720 with 1 Axes>"
            ]
          },
          "metadata": {
            "tags": [],
            "needs_background": "light"
          }
        }
      ]
    },
    {
      "cell_type": "markdown",
      "metadata": {
        "id": "An9DALbKznHB",
        "colab_type": "text"
      },
      "source": [
        "*   Since we want to evaluate on the performance on the same data set as XGB\n",
        "*   Combining the XGB dataset together to replace workclass column with embedding\n",
        "\n"
      ]
    },
    {
      "cell_type": "code",
      "metadata": {
        "id": "QgL_NTT_Nhcw",
        "colab_type": "code",
        "colab": {}
      },
      "source": [
        "# Dataset used for training XGB model\n",
        "df_train_CE = pd.concat([X_train, y_train], axis = 1)\n",
        "# Dataset used for testing XGB model\n",
        "df_test_CE = pd.concat([X_test, y_test], axis = 1)"
      ],
      "execution_count": 0,
      "outputs": []
    },
    {
      "cell_type": "code",
      "metadata": {
        "id": "nfnKwItR7VcE",
        "colab_type": "code",
        "colab": {}
      },
      "source": [
        "# This is the hold out sample for final ROC calculation\n",
        "test_data_CE = test_data"
      ],
      "execution_count": 0,
      "outputs": []
    },
    {
      "cell_type": "markdown",
      "metadata": {
        "id": "jVcr5nWZ0iK-",
        "colab_type": "text"
      },
      "source": [
        "Merging the embedding into structured data for training data"
      ]
    },
    {
      "cell_type": "code",
      "metadata": {
        "id": "Yt0geXOANhaE",
        "colab_type": "code",
        "colab": {
          "base_uri": "https://localhost:8080/",
          "height": 455
        },
        "outputId": "e3405d80-9fdc-4378-f89b-6e24f81faa90"
      },
      "source": [
        "X_train_CE = pd.merge(df_train_CE, workclass_embeddings_df, how = 'inner', left_on='workclass', right_on='index')\n",
        "y_train = X_train_CE['target']\n",
        "X_train_CE.drop(['workclass', 'index', 'target'], axis=1, inplace=True)\n",
        "X_train_CE"
      ],
      "execution_count": 35,
      "outputs": [
        {
          "output_type": "execute_result",
          "data": {
            "text/html": [
              "<div>\n",
              "<style scoped>\n",
              "    .dataframe tbody tr th:only-of-type {\n",
              "        vertical-align: middle;\n",
              "    }\n",
              "\n",
              "    .dataframe tbody tr th {\n",
              "        vertical-align: top;\n",
              "    }\n",
              "\n",
              "    .dataframe thead th {\n",
              "        text-align: right;\n",
              "    }\n",
              "</style>\n",
              "<table border=\"1\" class=\"dataframe\">\n",
              "  <thead>\n",
              "    <tr style=\"text-align: right;\">\n",
              "      <th></th>\n",
              "      <th>age</th>\n",
              "      <th>fnlwgt</th>\n",
              "      <th>education</th>\n",
              "      <th>education-num</th>\n",
              "      <th>marital-status</th>\n",
              "      <th>occupation</th>\n",
              "      <th>relationship</th>\n",
              "      <th>race</th>\n",
              "      <th>sex</th>\n",
              "      <th>capital-gain</th>\n",
              "      <th>capital-loss</th>\n",
              "      <th>hours-per-week</th>\n",
              "      <th>native-country</th>\n",
              "      <th>0</th>\n",
              "      <th>1</th>\n",
              "      <th>2</th>\n",
              "      <th>3</th>\n",
              "      <th>4</th>\n",
              "      <th>5</th>\n",
              "      <th>6</th>\n",
              "      <th>7</th>\n",
              "      <th>8</th>\n",
              "      <th>9</th>\n",
              "    </tr>\n",
              "  </thead>\n",
              "  <tbody>\n",
              "    <tr>\n",
              "      <th>0</th>\n",
              "      <td>28</td>\n",
              "      <td>92262</td>\n",
              "      <td>9</td>\n",
              "      <td>13</td>\n",
              "      <td>2</td>\n",
              "      <td>11</td>\n",
              "      <td>0</td>\n",
              "      <td>4</td>\n",
              "      <td>1</td>\n",
              "      <td>0</td>\n",
              "      <td>0</td>\n",
              "      <td>40</td>\n",
              "      <td>38</td>\n",
              "      <td>-0.004037</td>\n",
              "      <td>0.030737</td>\n",
              "      <td>-0.018247</td>\n",
              "      <td>-0.027255</td>\n",
              "      <td>0.030143</td>\n",
              "      <td>-0.052377</td>\n",
              "      <td>0.029711</td>\n",
              "      <td>0.051800</td>\n",
              "      <td>0.050929</td>\n",
              "      <td>0.024584</td>\n",
              "    </tr>\n",
              "    <tr>\n",
              "      <th>1</th>\n",
              "      <td>49</td>\n",
              "      <td>281647</td>\n",
              "      <td>9</td>\n",
              "      <td>13</td>\n",
              "      <td>2</td>\n",
              "      <td>11</td>\n",
              "      <td>0</td>\n",
              "      <td>4</td>\n",
              "      <td>1</td>\n",
              "      <td>0</td>\n",
              "      <td>0</td>\n",
              "      <td>45</td>\n",
              "      <td>38</td>\n",
              "      <td>-0.004037</td>\n",
              "      <td>0.030737</td>\n",
              "      <td>-0.018247</td>\n",
              "      <td>-0.027255</td>\n",
              "      <td>0.030143</td>\n",
              "      <td>-0.052377</td>\n",
              "      <td>0.029711</td>\n",
              "      <td>0.051800</td>\n",
              "      <td>0.050929</td>\n",
              "      <td>0.024584</td>\n",
              "    </tr>\n",
              "    <tr>\n",
              "      <th>2</th>\n",
              "      <td>39</td>\n",
              "      <td>231491</td>\n",
              "      <td>11</td>\n",
              "      <td>9</td>\n",
              "      <td>4</td>\n",
              "      <td>5</td>\n",
              "      <td>2</td>\n",
              "      <td>4</td>\n",
              "      <td>1</td>\n",
              "      <td>0</td>\n",
              "      <td>0</td>\n",
              "      <td>40</td>\n",
              "      <td>38</td>\n",
              "      <td>-0.004037</td>\n",
              "      <td>0.030737</td>\n",
              "      <td>-0.018247</td>\n",
              "      <td>-0.027255</td>\n",
              "      <td>0.030143</td>\n",
              "      <td>-0.052377</td>\n",
              "      <td>0.029711</td>\n",
              "      <td>0.051800</td>\n",
              "      <td>0.050929</td>\n",
              "      <td>0.024584</td>\n",
              "    </tr>\n",
              "    <tr>\n",
              "      <th>3</th>\n",
              "      <td>36</td>\n",
              "      <td>183902</td>\n",
              "      <td>9</td>\n",
              "      <td>13</td>\n",
              "      <td>2</td>\n",
              "      <td>9</td>\n",
              "      <td>5</td>\n",
              "      <td>4</td>\n",
              "      <td>0</td>\n",
              "      <td>0</td>\n",
              "      <td>0</td>\n",
              "      <td>4</td>\n",
              "      <td>38</td>\n",
              "      <td>-0.004037</td>\n",
              "      <td>0.030737</td>\n",
              "      <td>-0.018247</td>\n",
              "      <td>-0.027255</td>\n",
              "      <td>0.030143</td>\n",
              "      <td>-0.052377</td>\n",
              "      <td>0.029711</td>\n",
              "      <td>0.051800</td>\n",
              "      <td>0.050929</td>\n",
              "      <td>0.024584</td>\n",
              "    </tr>\n",
              "    <tr>\n",
              "      <th>4</th>\n",
              "      <td>27</td>\n",
              "      <td>153078</td>\n",
              "      <td>14</td>\n",
              "      <td>15</td>\n",
              "      <td>4</td>\n",
              "      <td>9</td>\n",
              "      <td>3</td>\n",
              "      <td>1</td>\n",
              "      <td>1</td>\n",
              "      <td>0</td>\n",
              "      <td>0</td>\n",
              "      <td>40</td>\n",
              "      <td>38</td>\n",
              "      <td>-0.004037</td>\n",
              "      <td>0.030737</td>\n",
              "      <td>-0.018247</td>\n",
              "      <td>-0.027255</td>\n",
              "      <td>0.030143</td>\n",
              "      <td>-0.052377</td>\n",
              "      <td>0.029711</td>\n",
              "      <td>0.051800</td>\n",
              "      <td>0.050929</td>\n",
              "      <td>0.024584</td>\n",
              "    </tr>\n",
              "    <tr>\n",
              "      <th>...</th>\n",
              "      <td>...</td>\n",
              "      <td>...</td>\n",
              "      <td>...</td>\n",
              "      <td>...</td>\n",
              "      <td>...</td>\n",
              "      <td>...</td>\n",
              "      <td>...</td>\n",
              "      <td>...</td>\n",
              "      <td>...</td>\n",
              "      <td>...</td>\n",
              "      <td>...</td>\n",
              "      <td>...</td>\n",
              "      <td>...</td>\n",
              "      <td>...</td>\n",
              "      <td>...</td>\n",
              "      <td>...</td>\n",
              "      <td>...</td>\n",
              "      <td>...</td>\n",
              "      <td>...</td>\n",
              "      <td>...</td>\n",
              "      <td>...</td>\n",
              "      <td>...</td>\n",
              "      <td>...</td>\n",
              "    </tr>\n",
              "    <tr>\n",
              "      <th>22616</th>\n",
              "      <td>68</td>\n",
              "      <td>174695</td>\n",
              "      <td>15</td>\n",
              "      <td>10</td>\n",
              "      <td>3</td>\n",
              "      <td>4</td>\n",
              "      <td>4</td>\n",
              "      <td>4</td>\n",
              "      <td>0</td>\n",
              "      <td>0</td>\n",
              "      <td>0</td>\n",
              "      <td>25</td>\n",
              "      <td>38</td>\n",
              "      <td>-0.270435</td>\n",
              "      <td>0.509883</td>\n",
              "      <td>-0.448213</td>\n",
              "      <td>-0.384874</td>\n",
              "      <td>0.332609</td>\n",
              "      <td>-0.421530</td>\n",
              "      <td>0.318014</td>\n",
              "      <td>0.370655</td>\n",
              "      <td>0.371681</td>\n",
              "      <td>0.466805</td>\n",
              "    </tr>\n",
              "    <tr>\n",
              "      <th>22617</th>\n",
              "      <td>46</td>\n",
              "      <td>142210</td>\n",
              "      <td>11</td>\n",
              "      <td>9</td>\n",
              "      <td>2</td>\n",
              "      <td>6</td>\n",
              "      <td>5</td>\n",
              "      <td>4</td>\n",
              "      <td>0</td>\n",
              "      <td>0</td>\n",
              "      <td>0</td>\n",
              "      <td>25</td>\n",
              "      <td>38</td>\n",
              "      <td>-0.270435</td>\n",
              "      <td>0.509883</td>\n",
              "      <td>-0.448213</td>\n",
              "      <td>-0.384874</td>\n",
              "      <td>0.332609</td>\n",
              "      <td>-0.421530</td>\n",
              "      <td>0.318014</td>\n",
              "      <td>0.370655</td>\n",
              "      <td>0.371681</td>\n",
              "      <td>0.466805</td>\n",
              "    </tr>\n",
              "    <tr>\n",
              "      <th>22618</th>\n",
              "      <td>62</td>\n",
              "      <td>170114</td>\n",
              "      <td>7</td>\n",
              "      <td>12</td>\n",
              "      <td>2</td>\n",
              "      <td>4</td>\n",
              "      <td>0</td>\n",
              "      <td>4</td>\n",
              "      <td>1</td>\n",
              "      <td>0</td>\n",
              "      <td>0</td>\n",
              "      <td>50</td>\n",
              "      <td>38</td>\n",
              "      <td>-0.270435</td>\n",
              "      <td>0.509883</td>\n",
              "      <td>-0.448213</td>\n",
              "      <td>-0.384874</td>\n",
              "      <td>0.332609</td>\n",
              "      <td>-0.421530</td>\n",
              "      <td>0.318014</td>\n",
              "      <td>0.370655</td>\n",
              "      <td>0.371681</td>\n",
              "      <td>0.466805</td>\n",
              "    </tr>\n",
              "    <tr>\n",
              "      <th>22619</th>\n",
              "      <td>21</td>\n",
              "      <td>232719</td>\n",
              "      <td>11</td>\n",
              "      <td>9</td>\n",
              "      <td>4</td>\n",
              "      <td>2</td>\n",
              "      <td>3</td>\n",
              "      <td>2</td>\n",
              "      <td>1</td>\n",
              "      <td>0</td>\n",
              "      <td>0</td>\n",
              "      <td>40</td>\n",
              "      <td>38</td>\n",
              "      <td>-0.270435</td>\n",
              "      <td>0.509883</td>\n",
              "      <td>-0.448213</td>\n",
              "      <td>-0.384874</td>\n",
              "      <td>0.332609</td>\n",
              "      <td>-0.421530</td>\n",
              "      <td>0.318014</td>\n",
              "      <td>0.370655</td>\n",
              "      <td>0.371681</td>\n",
              "      <td>0.466805</td>\n",
              "    </tr>\n",
              "    <tr>\n",
              "      <th>22620</th>\n",
              "      <td>19</td>\n",
              "      <td>43887</td>\n",
              "      <td>11</td>\n",
              "      <td>9</td>\n",
              "      <td>4</td>\n",
              "      <td>4</td>\n",
              "      <td>3</td>\n",
              "      <td>4</td>\n",
              "      <td>1</td>\n",
              "      <td>0</td>\n",
              "      <td>0</td>\n",
              "      <td>10</td>\n",
              "      <td>38</td>\n",
              "      <td>-0.270435</td>\n",
              "      <td>0.509883</td>\n",
              "      <td>-0.448213</td>\n",
              "      <td>-0.384874</td>\n",
              "      <td>0.332609</td>\n",
              "      <td>-0.421530</td>\n",
              "      <td>0.318014</td>\n",
              "      <td>0.370655</td>\n",
              "      <td>0.371681</td>\n",
              "      <td>0.466805</td>\n",
              "    </tr>\n",
              "  </tbody>\n",
              "</table>\n",
              "<p>22621 rows × 23 columns</p>\n",
              "</div>"
            ],
            "text/plain": [
              "       age  fnlwgt  education  ...         7         8         9\n",
              "0       28   92262          9  ...  0.051800  0.050929  0.024584\n",
              "1       49  281647          9  ...  0.051800  0.050929  0.024584\n",
              "2       39  231491         11  ...  0.051800  0.050929  0.024584\n",
              "3       36  183902          9  ...  0.051800  0.050929  0.024584\n",
              "4       27  153078         14  ...  0.051800  0.050929  0.024584\n",
              "...    ...     ...        ...  ...       ...       ...       ...\n",
              "22616   68  174695         15  ...  0.370655  0.371681  0.466805\n",
              "22617   46  142210         11  ...  0.370655  0.371681  0.466805\n",
              "22618   62  170114          7  ...  0.370655  0.371681  0.466805\n",
              "22619   21  232719         11  ...  0.370655  0.371681  0.466805\n",
              "22620   19   43887         11  ...  0.370655  0.371681  0.466805\n",
              "\n",
              "[22621 rows x 23 columns]"
            ]
          },
          "metadata": {
            "tags": []
          },
          "execution_count": 35
        }
      ]
    },
    {
      "cell_type": "code",
      "metadata": {
        "id": "jFPPb6SKOC-L",
        "colab_type": "code",
        "colab": {
          "base_uri": "https://localhost:8080/",
          "height": 455
        },
        "outputId": "57c74d7e-dc77-45d3-934d-1ed619b5a0d7"
      },
      "source": [
        "X_test_CE = pd.merge(df_test_CE, workclass_embeddings_df, how = 'inner', left_on='workclass', right_on='index')\n",
        "y_test = X_test_CE['target']\n",
        "X_test_CE.drop(['workclass', 'index', 'target'], axis=1, inplace=True)\n",
        "X_test_CE"
      ],
      "execution_count": 36,
      "outputs": [
        {
          "output_type": "execute_result",
          "data": {
            "text/html": [
              "<div>\n",
              "<style scoped>\n",
              "    .dataframe tbody tr th:only-of-type {\n",
              "        vertical-align: middle;\n",
              "    }\n",
              "\n",
              "    .dataframe tbody tr th {\n",
              "        vertical-align: top;\n",
              "    }\n",
              "\n",
              "    .dataframe thead th {\n",
              "        text-align: right;\n",
              "    }\n",
              "</style>\n",
              "<table border=\"1\" class=\"dataframe\">\n",
              "  <thead>\n",
              "    <tr style=\"text-align: right;\">\n",
              "      <th></th>\n",
              "      <th>age</th>\n",
              "      <th>fnlwgt</th>\n",
              "      <th>education</th>\n",
              "      <th>education-num</th>\n",
              "      <th>marital-status</th>\n",
              "      <th>occupation</th>\n",
              "      <th>relationship</th>\n",
              "      <th>race</th>\n",
              "      <th>sex</th>\n",
              "      <th>capital-gain</th>\n",
              "      <th>capital-loss</th>\n",
              "      <th>hours-per-week</th>\n",
              "      <th>native-country</th>\n",
              "      <th>0</th>\n",
              "      <th>1</th>\n",
              "      <th>2</th>\n",
              "      <th>3</th>\n",
              "      <th>4</th>\n",
              "      <th>5</th>\n",
              "      <th>6</th>\n",
              "      <th>7</th>\n",
              "      <th>8</th>\n",
              "      <th>9</th>\n",
              "    </tr>\n",
              "  </thead>\n",
              "  <tbody>\n",
              "    <tr>\n",
              "      <th>0</th>\n",
              "      <td>28</td>\n",
              "      <td>76714</td>\n",
              "      <td>14</td>\n",
              "      <td>15</td>\n",
              "      <td>4</td>\n",
              "      <td>9</td>\n",
              "      <td>1</td>\n",
              "      <td>4</td>\n",
              "      <td>1</td>\n",
              "      <td>0</td>\n",
              "      <td>0</td>\n",
              "      <td>55</td>\n",
              "      <td>38</td>\n",
              "      <td>-0.004037</td>\n",
              "      <td>0.030737</td>\n",
              "      <td>-0.018247</td>\n",
              "      <td>-0.027255</td>\n",
              "      <td>0.030143</td>\n",
              "      <td>-0.052377</td>\n",
              "      <td>0.029711</td>\n",
              "      <td>0.051800</td>\n",
              "      <td>0.050929</td>\n",
              "      <td>0.024584</td>\n",
              "    </tr>\n",
              "    <tr>\n",
              "      <th>1</th>\n",
              "      <td>41</td>\n",
              "      <td>178431</td>\n",
              "      <td>11</td>\n",
              "      <td>9</td>\n",
              "      <td>2</td>\n",
              "      <td>2</td>\n",
              "      <td>0</td>\n",
              "      <td>1</td>\n",
              "      <td>1</td>\n",
              "      <td>0</td>\n",
              "      <td>0</td>\n",
              "      <td>40</td>\n",
              "      <td>35</td>\n",
              "      <td>-0.004037</td>\n",
              "      <td>0.030737</td>\n",
              "      <td>-0.018247</td>\n",
              "      <td>-0.027255</td>\n",
              "      <td>0.030143</td>\n",
              "      <td>-0.052377</td>\n",
              "      <td>0.029711</td>\n",
              "      <td>0.051800</td>\n",
              "      <td>0.050929</td>\n",
              "      <td>0.024584</td>\n",
              "    </tr>\n",
              "    <tr>\n",
              "      <th>2</th>\n",
              "      <td>53</td>\n",
              "      <td>290640</td>\n",
              "      <td>11</td>\n",
              "      <td>9</td>\n",
              "      <td>2</td>\n",
              "      <td>7</td>\n",
              "      <td>0</td>\n",
              "      <td>4</td>\n",
              "      <td>1</td>\n",
              "      <td>0</td>\n",
              "      <td>0</td>\n",
              "      <td>50</td>\n",
              "      <td>10</td>\n",
              "      <td>-0.004037</td>\n",
              "      <td>0.030737</td>\n",
              "      <td>-0.018247</td>\n",
              "      <td>-0.027255</td>\n",
              "      <td>0.030143</td>\n",
              "      <td>-0.052377</td>\n",
              "      <td>0.029711</td>\n",
              "      <td>0.051800</td>\n",
              "      <td>0.050929</td>\n",
              "      <td>0.024584</td>\n",
              "    </tr>\n",
              "    <tr>\n",
              "      <th>3</th>\n",
              "      <td>31</td>\n",
              "      <td>215297</td>\n",
              "      <td>11</td>\n",
              "      <td>9</td>\n",
              "      <td>2</td>\n",
              "      <td>2</td>\n",
              "      <td>0</td>\n",
              "      <td>4</td>\n",
              "      <td>1</td>\n",
              "      <td>0</td>\n",
              "      <td>0</td>\n",
              "      <td>45</td>\n",
              "      <td>38</td>\n",
              "      <td>-0.004037</td>\n",
              "      <td>0.030737</td>\n",
              "      <td>-0.018247</td>\n",
              "      <td>-0.027255</td>\n",
              "      <td>0.030143</td>\n",
              "      <td>-0.052377</td>\n",
              "      <td>0.029711</td>\n",
              "      <td>0.051800</td>\n",
              "      <td>0.050929</td>\n",
              "      <td>0.024584</td>\n",
              "    </tr>\n",
              "    <tr>\n",
              "      <th>4</th>\n",
              "      <td>34</td>\n",
              "      <td>94413</td>\n",
              "      <td>11</td>\n",
              "      <td>9</td>\n",
              "      <td>2</td>\n",
              "      <td>13</td>\n",
              "      <td>0</td>\n",
              "      <td>4</td>\n",
              "      <td>1</td>\n",
              "      <td>0</td>\n",
              "      <td>0</td>\n",
              "      <td>40</td>\n",
              "      <td>38</td>\n",
              "      <td>-0.004037</td>\n",
              "      <td>0.030737</td>\n",
              "      <td>-0.018247</td>\n",
              "      <td>-0.027255</td>\n",
              "      <td>0.030143</td>\n",
              "      <td>-0.052377</td>\n",
              "      <td>0.029711</td>\n",
              "      <td>0.051800</td>\n",
              "      <td>0.050929</td>\n",
              "      <td>0.024584</td>\n",
              "    </tr>\n",
              "    <tr>\n",
              "      <th>...</th>\n",
              "      <td>...</td>\n",
              "      <td>...</td>\n",
              "      <td>...</td>\n",
              "      <td>...</td>\n",
              "      <td>...</td>\n",
              "      <td>...</td>\n",
              "      <td>...</td>\n",
              "      <td>...</td>\n",
              "      <td>...</td>\n",
              "      <td>...</td>\n",
              "      <td>...</td>\n",
              "      <td>...</td>\n",
              "      <td>...</td>\n",
              "      <td>...</td>\n",
              "      <td>...</td>\n",
              "      <td>...</td>\n",
              "      <td>...</td>\n",
              "      <td>...</td>\n",
              "      <td>...</td>\n",
              "      <td>...</td>\n",
              "      <td>...</td>\n",
              "      <td>...</td>\n",
              "      <td>...</td>\n",
              "    </tr>\n",
              "    <tr>\n",
              "      <th>7536</th>\n",
              "      <td>29</td>\n",
              "      <td>31161</td>\n",
              "      <td>11</td>\n",
              "      <td>9</td>\n",
              "      <td>0</td>\n",
              "      <td>3</td>\n",
              "      <td>1</td>\n",
              "      <td>3</td>\n",
              "      <td>0</td>\n",
              "      <td>0</td>\n",
              "      <td>0</td>\n",
              "      <td>40</td>\n",
              "      <td>38</td>\n",
              "      <td>0.008915</td>\n",
              "      <td>-0.064673</td>\n",
              "      <td>0.066456</td>\n",
              "      <td>0.001233</td>\n",
              "      <td>-0.025052</td>\n",
              "      <td>0.126987</td>\n",
              "      <td>-0.082428</td>\n",
              "      <td>-0.074329</td>\n",
              "      <td>-0.141892</td>\n",
              "      <td>-0.017355</td>\n",
              "    </tr>\n",
              "    <tr>\n",
              "      <th>7537</th>\n",
              "      <td>30</td>\n",
              "      <td>321990</td>\n",
              "      <td>15</td>\n",
              "      <td>10</td>\n",
              "      <td>2</td>\n",
              "      <td>0</td>\n",
              "      <td>0</td>\n",
              "      <td>4</td>\n",
              "      <td>1</td>\n",
              "      <td>7298</td>\n",
              "      <td>0</td>\n",
              "      <td>48</td>\n",
              "      <td>4</td>\n",
              "      <td>0.008915</td>\n",
              "      <td>-0.064673</td>\n",
              "      <td>0.066456</td>\n",
              "      <td>0.001233</td>\n",
              "      <td>-0.025052</td>\n",
              "      <td>0.126987</td>\n",
              "      <td>-0.082428</td>\n",
              "      <td>-0.074329</td>\n",
              "      <td>-0.141892</td>\n",
              "      <td>-0.017355</td>\n",
              "    </tr>\n",
              "    <tr>\n",
              "      <th>7538</th>\n",
              "      <td>72</td>\n",
              "      <td>121004</td>\n",
              "      <td>11</td>\n",
              "      <td>9</td>\n",
              "      <td>2</td>\n",
              "      <td>7</td>\n",
              "      <td>0</td>\n",
              "      <td>4</td>\n",
              "      <td>1</td>\n",
              "      <td>0</td>\n",
              "      <td>0</td>\n",
              "      <td>55</td>\n",
              "      <td>38</td>\n",
              "      <td>-0.270435</td>\n",
              "      <td>0.509883</td>\n",
              "      <td>-0.448213</td>\n",
              "      <td>-0.384874</td>\n",
              "      <td>0.332609</td>\n",
              "      <td>-0.421530</td>\n",
              "      <td>0.318014</td>\n",
              "      <td>0.370655</td>\n",
              "      <td>0.371681</td>\n",
              "      <td>0.466805</td>\n",
              "    </tr>\n",
              "    <tr>\n",
              "      <th>7539</th>\n",
              "      <td>52</td>\n",
              "      <td>198262</td>\n",
              "      <td>11</td>\n",
              "      <td>9</td>\n",
              "      <td>2</td>\n",
              "      <td>0</td>\n",
              "      <td>5</td>\n",
              "      <td>4</td>\n",
              "      <td>0</td>\n",
              "      <td>0</td>\n",
              "      <td>0</td>\n",
              "      <td>30</td>\n",
              "      <td>38</td>\n",
              "      <td>-0.270435</td>\n",
              "      <td>0.509883</td>\n",
              "      <td>-0.448213</td>\n",
              "      <td>-0.384874</td>\n",
              "      <td>0.332609</td>\n",
              "      <td>-0.421530</td>\n",
              "      <td>0.318014</td>\n",
              "      <td>0.370655</td>\n",
              "      <td>0.371681</td>\n",
              "      <td>0.466805</td>\n",
              "    </tr>\n",
              "    <tr>\n",
              "      <th>7540</th>\n",
              "      <td>67</td>\n",
              "      <td>137192</td>\n",
              "      <td>11</td>\n",
              "      <td>9</td>\n",
              "      <td>2</td>\n",
              "      <td>0</td>\n",
              "      <td>0</td>\n",
              "      <td>1</td>\n",
              "      <td>1</td>\n",
              "      <td>0</td>\n",
              "      <td>0</td>\n",
              "      <td>12</td>\n",
              "      <td>29</td>\n",
              "      <td>-0.270435</td>\n",
              "      <td>0.509883</td>\n",
              "      <td>-0.448213</td>\n",
              "      <td>-0.384874</td>\n",
              "      <td>0.332609</td>\n",
              "      <td>-0.421530</td>\n",
              "      <td>0.318014</td>\n",
              "      <td>0.370655</td>\n",
              "      <td>0.371681</td>\n",
              "      <td>0.466805</td>\n",
              "    </tr>\n",
              "  </tbody>\n",
              "</table>\n",
              "<p>7541 rows × 23 columns</p>\n",
              "</div>"
            ],
            "text/plain": [
              "      age  fnlwgt  education  ...         7         8         9\n",
              "0      28   76714         14  ...  0.051800  0.050929  0.024584\n",
              "1      41  178431         11  ...  0.051800  0.050929  0.024584\n",
              "2      53  290640         11  ...  0.051800  0.050929  0.024584\n",
              "3      31  215297         11  ...  0.051800  0.050929  0.024584\n",
              "4      34   94413         11  ...  0.051800  0.050929  0.024584\n",
              "...   ...     ...        ...  ...       ...       ...       ...\n",
              "7536   29   31161         11  ... -0.074329 -0.141892 -0.017355\n",
              "7537   30  321990         15  ... -0.074329 -0.141892 -0.017355\n",
              "7538   72  121004         11  ...  0.370655  0.371681  0.466805\n",
              "7539   52  198262         11  ...  0.370655  0.371681  0.466805\n",
              "7540   67  137192         11  ...  0.370655  0.371681  0.466805\n",
              "\n",
              "[7541 rows x 23 columns]"
            ]
          },
          "metadata": {
            "tags": []
          },
          "execution_count": 36
        }
      ]
    },
    {
      "cell_type": "code",
      "metadata": {
        "id": "yuJOf0Y-5oxK",
        "colab_type": "code",
        "colab": {
          "base_uri": "https://localhost:8080/",
          "height": 455
        },
        "outputId": "6de81330-7565-4e9f-e099-cbf90739cbcc"
      },
      "source": [
        "test_data_CE = pd.merge(test_data_CE, workclass_embeddings_df, how = 'inner', left_on='workclass', right_on='index')\n",
        "test_data_CE.drop(['workclass', 'index'], axis=1, inplace=True)\n",
        "test_data_CE"
      ],
      "execution_count": 37,
      "outputs": [
        {
          "output_type": "execute_result",
          "data": {
            "text/html": [
              "<div>\n",
              "<style scoped>\n",
              "    .dataframe tbody tr th:only-of-type {\n",
              "        vertical-align: middle;\n",
              "    }\n",
              "\n",
              "    .dataframe tbody tr th {\n",
              "        vertical-align: top;\n",
              "    }\n",
              "\n",
              "    .dataframe thead th {\n",
              "        text-align: right;\n",
              "    }\n",
              "</style>\n",
              "<table border=\"1\" class=\"dataframe\">\n",
              "  <thead>\n",
              "    <tr style=\"text-align: right;\">\n",
              "      <th></th>\n",
              "      <th>age</th>\n",
              "      <th>fnlwgt</th>\n",
              "      <th>education</th>\n",
              "      <th>education-num</th>\n",
              "      <th>marital-status</th>\n",
              "      <th>occupation</th>\n",
              "      <th>relationship</th>\n",
              "      <th>race</th>\n",
              "      <th>sex</th>\n",
              "      <th>capital-gain</th>\n",
              "      <th>capital-loss</th>\n",
              "      <th>hours-per-week</th>\n",
              "      <th>native-country</th>\n",
              "      <th>target</th>\n",
              "      <th>0</th>\n",
              "      <th>1</th>\n",
              "      <th>2</th>\n",
              "      <th>3</th>\n",
              "      <th>4</th>\n",
              "      <th>5</th>\n",
              "      <th>6</th>\n",
              "      <th>7</th>\n",
              "      <th>8</th>\n",
              "      <th>9</th>\n",
              "    </tr>\n",
              "  </thead>\n",
              "  <tbody>\n",
              "    <tr>\n",
              "      <th>0</th>\n",
              "      <td>25</td>\n",
              "      <td>226802</td>\n",
              "      <td>1</td>\n",
              "      <td>7</td>\n",
              "      <td>4</td>\n",
              "      <td>6</td>\n",
              "      <td>3</td>\n",
              "      <td>2</td>\n",
              "      <td>1</td>\n",
              "      <td>0</td>\n",
              "      <td>0</td>\n",
              "      <td>40</td>\n",
              "      <td>38</td>\n",
              "      <td>0</td>\n",
              "      <td>-0.004037</td>\n",
              "      <td>0.030737</td>\n",
              "      <td>-0.018247</td>\n",
              "      <td>-0.027255</td>\n",
              "      <td>0.030143</td>\n",
              "      <td>-0.052377</td>\n",
              "      <td>0.029711</td>\n",
              "      <td>0.051800</td>\n",
              "      <td>0.050929</td>\n",
              "      <td>0.024584</td>\n",
              "    </tr>\n",
              "    <tr>\n",
              "      <th>1</th>\n",
              "      <td>38</td>\n",
              "      <td>89814</td>\n",
              "      <td>11</td>\n",
              "      <td>9</td>\n",
              "      <td>2</td>\n",
              "      <td>4</td>\n",
              "      <td>0</td>\n",
              "      <td>4</td>\n",
              "      <td>1</td>\n",
              "      <td>0</td>\n",
              "      <td>0</td>\n",
              "      <td>50</td>\n",
              "      <td>38</td>\n",
              "      <td>0</td>\n",
              "      <td>-0.004037</td>\n",
              "      <td>0.030737</td>\n",
              "      <td>-0.018247</td>\n",
              "      <td>-0.027255</td>\n",
              "      <td>0.030143</td>\n",
              "      <td>-0.052377</td>\n",
              "      <td>0.029711</td>\n",
              "      <td>0.051800</td>\n",
              "      <td>0.050929</td>\n",
              "      <td>0.024584</td>\n",
              "    </tr>\n",
              "    <tr>\n",
              "      <th>2</th>\n",
              "      <td>44</td>\n",
              "      <td>160323</td>\n",
              "      <td>15</td>\n",
              "      <td>10</td>\n",
              "      <td>2</td>\n",
              "      <td>6</td>\n",
              "      <td>0</td>\n",
              "      <td>2</td>\n",
              "      <td>1</td>\n",
              "      <td>7688</td>\n",
              "      <td>0</td>\n",
              "      <td>40</td>\n",
              "      <td>38</td>\n",
              "      <td>1</td>\n",
              "      <td>-0.004037</td>\n",
              "      <td>0.030737</td>\n",
              "      <td>-0.018247</td>\n",
              "      <td>-0.027255</td>\n",
              "      <td>0.030143</td>\n",
              "      <td>-0.052377</td>\n",
              "      <td>0.029711</td>\n",
              "      <td>0.051800</td>\n",
              "      <td>0.050929</td>\n",
              "      <td>0.024584</td>\n",
              "    </tr>\n",
              "    <tr>\n",
              "      <th>3</th>\n",
              "      <td>34</td>\n",
              "      <td>198693</td>\n",
              "      <td>0</td>\n",
              "      <td>6</td>\n",
              "      <td>4</td>\n",
              "      <td>7</td>\n",
              "      <td>1</td>\n",
              "      <td>4</td>\n",
              "      <td>1</td>\n",
              "      <td>0</td>\n",
              "      <td>0</td>\n",
              "      <td>30</td>\n",
              "      <td>38</td>\n",
              "      <td>0</td>\n",
              "      <td>-0.004037</td>\n",
              "      <td>0.030737</td>\n",
              "      <td>-0.018247</td>\n",
              "      <td>-0.027255</td>\n",
              "      <td>0.030143</td>\n",
              "      <td>-0.052377</td>\n",
              "      <td>0.029711</td>\n",
              "      <td>0.051800</td>\n",
              "      <td>0.050929</td>\n",
              "      <td>0.024584</td>\n",
              "    </tr>\n",
              "    <tr>\n",
              "      <th>4</th>\n",
              "      <td>24</td>\n",
              "      <td>369667</td>\n",
              "      <td>15</td>\n",
              "      <td>10</td>\n",
              "      <td>4</td>\n",
              "      <td>7</td>\n",
              "      <td>4</td>\n",
              "      <td>4</td>\n",
              "      <td>0</td>\n",
              "      <td>0</td>\n",
              "      <td>0</td>\n",
              "      <td>40</td>\n",
              "      <td>38</td>\n",
              "      <td>0</td>\n",
              "      <td>-0.004037</td>\n",
              "      <td>0.030737</td>\n",
              "      <td>-0.018247</td>\n",
              "      <td>-0.027255</td>\n",
              "      <td>0.030143</td>\n",
              "      <td>-0.052377</td>\n",
              "      <td>0.029711</td>\n",
              "      <td>0.051800</td>\n",
              "      <td>0.050929</td>\n",
              "      <td>0.024584</td>\n",
              "    </tr>\n",
              "    <tr>\n",
              "      <th>...</th>\n",
              "      <td>...</td>\n",
              "      <td>...</td>\n",
              "      <td>...</td>\n",
              "      <td>...</td>\n",
              "      <td>...</td>\n",
              "      <td>...</td>\n",
              "      <td>...</td>\n",
              "      <td>...</td>\n",
              "      <td>...</td>\n",
              "      <td>...</td>\n",
              "      <td>...</td>\n",
              "      <td>...</td>\n",
              "      <td>...</td>\n",
              "      <td>...</td>\n",
              "      <td>...</td>\n",
              "      <td>...</td>\n",
              "      <td>...</td>\n",
              "      <td>...</td>\n",
              "      <td>...</td>\n",
              "      <td>...</td>\n",
              "      <td>...</td>\n",
              "      <td>...</td>\n",
              "      <td>...</td>\n",
              "      <td>...</td>\n",
              "    </tr>\n",
              "    <tr>\n",
              "      <th>15055</th>\n",
              "      <td>51</td>\n",
              "      <td>124963</td>\n",
              "      <td>7</td>\n",
              "      <td>12</td>\n",
              "      <td>2</td>\n",
              "      <td>11</td>\n",
              "      <td>0</td>\n",
              "      <td>4</td>\n",
              "      <td>1</td>\n",
              "      <td>0</td>\n",
              "      <td>0</td>\n",
              "      <td>45</td>\n",
              "      <td>38</td>\n",
              "      <td>0</td>\n",
              "      <td>-0.270435</td>\n",
              "      <td>0.509883</td>\n",
              "      <td>-0.448213</td>\n",
              "      <td>-0.384874</td>\n",
              "      <td>0.332609</td>\n",
              "      <td>-0.421530</td>\n",
              "      <td>0.318014</td>\n",
              "      <td>0.370655</td>\n",
              "      <td>0.371681</td>\n",
              "      <td>0.466805</td>\n",
              "    </tr>\n",
              "    <tr>\n",
              "      <th>15056</th>\n",
              "      <td>64</td>\n",
              "      <td>209291</td>\n",
              "      <td>11</td>\n",
              "      <td>9</td>\n",
              "      <td>2</td>\n",
              "      <td>5</td>\n",
              "      <td>0</td>\n",
              "      <td>4</td>\n",
              "      <td>1</td>\n",
              "      <td>0</td>\n",
              "      <td>0</td>\n",
              "      <td>60</td>\n",
              "      <td>38</td>\n",
              "      <td>1</td>\n",
              "      <td>-0.270435</td>\n",
              "      <td>0.509883</td>\n",
              "      <td>-0.448213</td>\n",
              "      <td>-0.384874</td>\n",
              "      <td>0.332609</td>\n",
              "      <td>-0.421530</td>\n",
              "      <td>0.318014</td>\n",
              "      <td>0.370655</td>\n",
              "      <td>0.371681</td>\n",
              "      <td>0.466805</td>\n",
              "    </tr>\n",
              "    <tr>\n",
              "      <th>15057</th>\n",
              "      <td>50</td>\n",
              "      <td>123004</td>\n",
              "      <td>11</td>\n",
              "      <td>9</td>\n",
              "      <td>2</td>\n",
              "      <td>6</td>\n",
              "      <td>3</td>\n",
              "      <td>4</td>\n",
              "      <td>0</td>\n",
              "      <td>0</td>\n",
              "      <td>1887</td>\n",
              "      <td>40</td>\n",
              "      <td>38</td>\n",
              "      <td>1</td>\n",
              "      <td>-0.270435</td>\n",
              "      <td>0.509883</td>\n",
              "      <td>-0.448213</td>\n",
              "      <td>-0.384874</td>\n",
              "      <td>0.332609</td>\n",
              "      <td>-0.421530</td>\n",
              "      <td>0.318014</td>\n",
              "      <td>0.370655</td>\n",
              "      <td>0.371681</td>\n",
              "      <td>0.466805</td>\n",
              "    </tr>\n",
              "    <tr>\n",
              "      <th>15058</th>\n",
              "      <td>39</td>\n",
              "      <td>334291</td>\n",
              "      <td>11</td>\n",
              "      <td>9</td>\n",
              "      <td>2</td>\n",
              "      <td>3</td>\n",
              "      <td>0</td>\n",
              "      <td>4</td>\n",
              "      <td>1</td>\n",
              "      <td>0</td>\n",
              "      <td>0</td>\n",
              "      <td>40</td>\n",
              "      <td>38</td>\n",
              "      <td>0</td>\n",
              "      <td>-0.270435</td>\n",
              "      <td>0.509883</td>\n",
              "      <td>-0.448213</td>\n",
              "      <td>-0.384874</td>\n",
              "      <td>0.332609</td>\n",
              "      <td>-0.421530</td>\n",
              "      <td>0.318014</td>\n",
              "      <td>0.370655</td>\n",
              "      <td>0.371681</td>\n",
              "      <td>0.466805</td>\n",
              "    </tr>\n",
              "    <tr>\n",
              "      <th>15059</th>\n",
              "      <td>27</td>\n",
              "      <td>35034</td>\n",
              "      <td>11</td>\n",
              "      <td>9</td>\n",
              "      <td>4</td>\n",
              "      <td>4</td>\n",
              "      <td>3</td>\n",
              "      <td>4</td>\n",
              "      <td>0</td>\n",
              "      <td>0</td>\n",
              "      <td>0</td>\n",
              "      <td>40</td>\n",
              "      <td>38</td>\n",
              "      <td>0</td>\n",
              "      <td>-0.270435</td>\n",
              "      <td>0.509883</td>\n",
              "      <td>-0.448213</td>\n",
              "      <td>-0.384874</td>\n",
              "      <td>0.332609</td>\n",
              "      <td>-0.421530</td>\n",
              "      <td>0.318014</td>\n",
              "      <td>0.370655</td>\n",
              "      <td>0.371681</td>\n",
              "      <td>0.466805</td>\n",
              "    </tr>\n",
              "  </tbody>\n",
              "</table>\n",
              "<p>15060 rows × 24 columns</p>\n",
              "</div>"
            ],
            "text/plain": [
              "       age  fnlwgt  education  ...         7         8         9\n",
              "0       25  226802          1  ...  0.051800  0.050929  0.024584\n",
              "1       38   89814         11  ...  0.051800  0.050929  0.024584\n",
              "2       44  160323         15  ...  0.051800  0.050929  0.024584\n",
              "3       34  198693          0  ...  0.051800  0.050929  0.024584\n",
              "4       24  369667         15  ...  0.051800  0.050929  0.024584\n",
              "...    ...     ...        ...  ...       ...       ...       ...\n",
              "15055   51  124963          7  ...  0.370655  0.371681  0.466805\n",
              "15056   64  209291         11  ...  0.370655  0.371681  0.466805\n",
              "15057   50  123004         11  ...  0.370655  0.371681  0.466805\n",
              "15058   39  334291         11  ...  0.370655  0.371681  0.466805\n",
              "15059   27   35034         11  ...  0.370655  0.371681  0.466805\n",
              "\n",
              "[15060 rows x 24 columns]"
            ]
          },
          "metadata": {
            "tags": []
          },
          "execution_count": 37
        }
      ]
    },
    {
      "cell_type": "markdown",
      "metadata": {
        "id": "NnD-wHsP1HwJ",
        "colab_type": "text"
      },
      "source": [
        "Using the exact same XGB model used before as well again"
      ]
    },
    {
      "cell_type": "code",
      "metadata": {
        "id": "nDc-SdRoQFyM",
        "colab_type": "code",
        "colab": {
          "base_uri": "https://localhost:8080/",
          "height": 1000
        },
        "outputId": "b55644f3-2dea-4b20-acc6-7f74dc397ceb"
      },
      "source": [
        "params = {'n_estimators' : 500,\n",
        "          'max_depth': 5,\n",
        "          'min_child_weight' : 50,\n",
        "          'gamma': 0.01}\n",
        "xgb_classifier = XGBClassifier(**params)\n",
        "xgb_classifier.fit(X_train_CE, y_train, eval_set=[(X_test_CE, y_test)], early_stopping_rounds=10)"
      ],
      "execution_count": 38,
      "outputs": [
        {
          "output_type": "stream",
          "text": [
            "[0]\tvalidation_0-error:0.152897\n",
            "Will train until validation_0-error hasn't improved in 10 rounds.\n",
            "[1]\tvalidation_0-error:0.148256\n",
            "[2]\tvalidation_0-error:0.147991\n",
            "[3]\tvalidation_0-error:0.148124\n",
            "[4]\tvalidation_0-error:0.150245\n",
            "[5]\tvalidation_0-error:0.149052\n",
            "[6]\tvalidation_0-error:0.148389\n",
            "[7]\tvalidation_0-error:0.149582\n",
            "[8]\tvalidation_0-error:0.146532\n",
            "[9]\tvalidation_0-error:0.147328\n",
            "[10]\tvalidation_0-error:0.147195\n",
            "[11]\tvalidation_0-error:0.147461\n",
            "[12]\tvalidation_0-error:0.147461\n",
            "[13]\tvalidation_0-error:0.147195\n",
            "[14]\tvalidation_0-error:0.146798\n",
            "[15]\tvalidation_0-error:0.145471\n",
            "[16]\tvalidation_0-error:0.145737\n",
            "[17]\tvalidation_0-error:0.144941\n",
            "[18]\tvalidation_0-error:0.144411\n",
            "[19]\tvalidation_0-error:0.144278\n",
            "[20]\tvalidation_0-error:0.144145\n",
            "[21]\tvalidation_0-error:0.144676\n",
            "[22]\tvalidation_0-error:0.144278\n",
            "[23]\tvalidation_0-error:0.143748\n",
            "[24]\tvalidation_0-error:0.144013\n",
            "[25]\tvalidation_0-error:0.143615\n",
            "[26]\tvalidation_0-error:0.143615\n",
            "[27]\tvalidation_0-error:0.143748\n",
            "[28]\tvalidation_0-error:0.143748\n",
            "[29]\tvalidation_0-error:0.142289\n",
            "[30]\tvalidation_0-error:0.142156\n",
            "[31]\tvalidation_0-error:0.142156\n",
            "[32]\tvalidation_0-error:0.141493\n",
            "[33]\tvalidation_0-error:0.141493\n",
            "[34]\tvalidation_0-error:0.140698\n",
            "[35]\tvalidation_0-error:0.141228\n",
            "[36]\tvalidation_0-error:0.141361\n",
            "[37]\tvalidation_0-error:0.141228\n",
            "[38]\tvalidation_0-error:0.140167\n",
            "[39]\tvalidation_0-error:0.140034\n",
            "[40]\tvalidation_0-error:0.139504\n",
            "[41]\tvalidation_0-error:0.139504\n",
            "[42]\tvalidation_0-error:0.139106\n",
            "[43]\tvalidation_0-error:0.139371\n",
            "[44]\tvalidation_0-error:0.139504\n",
            "[45]\tvalidation_0-error:0.139106\n",
            "[46]\tvalidation_0-error:0.139239\n",
            "[47]\tvalidation_0-error:0.139371\n",
            "[48]\tvalidation_0-error:0.139239\n",
            "[49]\tvalidation_0-error:0.139239\n",
            "[50]\tvalidation_0-error:0.138311\n",
            "[51]\tvalidation_0-error:0.136852\n",
            "[52]\tvalidation_0-error:0.136852\n",
            "[53]\tvalidation_0-error:0.136454\n",
            "[54]\tvalidation_0-error:0.136587\n",
            "[55]\tvalidation_0-error:0.136454\n",
            "[56]\tvalidation_0-error:0.136852\n",
            "[57]\tvalidation_0-error:0.137117\n",
            "[58]\tvalidation_0-error:0.136984\n",
            "[59]\tvalidation_0-error:0.136852\n",
            "[60]\tvalidation_0-error:0.136189\n",
            "[61]\tvalidation_0-error:0.136454\n",
            "[62]\tvalidation_0-error:0.136321\n",
            "[63]\tvalidation_0-error:0.136056\n",
            "[64]\tvalidation_0-error:0.136321\n",
            "[65]\tvalidation_0-error:0.136852\n",
            "[66]\tvalidation_0-error:0.136587\n",
            "[67]\tvalidation_0-error:0.135791\n",
            "[68]\tvalidation_0-error:0.135791\n",
            "[69]\tvalidation_0-error:0.135526\n",
            "[70]\tvalidation_0-error:0.135658\n",
            "[71]\tvalidation_0-error:0.135924\n",
            "[72]\tvalidation_0-error:0.135261\n",
            "[73]\tvalidation_0-error:0.134863\n",
            "[74]\tvalidation_0-error:0.13473\n",
            "[75]\tvalidation_0-error:0.134863\n",
            "[76]\tvalidation_0-error:0.135261\n",
            "[77]\tvalidation_0-error:0.135393\n",
            "[78]\tvalidation_0-error:0.135393\n",
            "[79]\tvalidation_0-error:0.135393\n",
            "[80]\tvalidation_0-error:0.134995\n",
            "[81]\tvalidation_0-error:0.135128\n",
            "[82]\tvalidation_0-error:0.135393\n",
            "[83]\tvalidation_0-error:0.135393\n",
            "[84]\tvalidation_0-error:0.135261\n",
            "Stopping. Best iteration:\n",
            "[74]\tvalidation_0-error:0.13473\n",
            "\n"
          ],
          "name": "stdout"
        },
        {
          "output_type": "execute_result",
          "data": {
            "text/plain": [
              "XGBClassifier(base_score=0.5, booster='gbtree', colsample_bylevel=1,\n",
              "              colsample_bynode=1, colsample_bytree=1, gamma=0.01,\n",
              "              learning_rate=0.1, max_delta_step=0, max_depth=5,\n",
              "              min_child_weight=50, missing=None, n_estimators=500, n_jobs=1,\n",
              "              nthread=None, objective='binary:logistic', random_state=0,\n",
              "              reg_alpha=0, reg_lambda=1, scale_pos_weight=1, seed=None,\n",
              "              silent=None, subsample=1, verbosity=1)"
            ]
          },
          "metadata": {
            "tags": []
          },
          "execution_count": 38
        }
      ]
    },
    {
      "cell_type": "code",
      "metadata": {
        "id": "fK-TIMkiQFvU",
        "colab_type": "code",
        "colab": {
          "base_uri": "https://localhost:8080/",
          "height": 52
        },
        "outputId": "900977b3-7128-48bf-ce08-4cd6030f16a5"
      },
      "source": [
        "xgb_classifier.predict_proba(test_data_CE.drop(['target'], axis = 1))[:,1]"
      ],
      "execution_count": 39,
      "outputs": [
        {
          "output_type": "execute_result",
          "data": {
            "text/plain": [
              "array([0.00478686, 0.23662412, 0.963472  , ..., 0.32794988, 0.45034966,\n",
              "       0.00498401], dtype=float32)"
            ]
          },
          "metadata": {
            "tags": []
          },
          "execution_count": 39
        }
      ]
    },
    {
      "cell_type": "code",
      "metadata": {
        "id": "-P0TcNdzLzx3",
        "colab_type": "code",
        "colab": {
          "base_uri": "https://localhost:8080/",
          "height": 34
        },
        "outputId": "57571362-622c-4dc2-d70a-5be930ee36cf"
      },
      "source": [
        "roc_auc_score(test_data_CE['target'], xgb_classifier.predict_proba(test_data_CE.drop(['target'], axis = 1))[:,1])"
      ],
      "execution_count": 40,
      "outputs": [
        {
          "output_type": "execute_result",
          "data": {
            "text/plain": [
              "0.9135374476589265"
            ]
          },
          "metadata": {
            "tags": []
          },
          "execution_count": 40
        }
      ]
    },
    {
      "cell_type": "markdown",
      "metadata": {
        "id": "c80Drcmj1PrT",
        "colab_type": "text"
      },
      "source": [
        "# The performance of new model is slightly better than the old model"
      ]
    },
    {
      "cell_type": "code",
      "metadata": {
        "id": "xY1PVKRDLdiw",
        "colab_type": "code",
        "colab": {}
      },
      "source": [
        ""
      ],
      "execution_count": 0,
      "outputs": []
    },
    {
      "cell_type": "code",
      "metadata": {
        "id": "u0IWTMBAKsUr",
        "colab_type": "code",
        "colab": {}
      },
      "source": [
        ""
      ],
      "execution_count": 0,
      "outputs": []
    }
  ]
}