{
  "nbformat": 4,
  "nbformat_minor": 0,
  "metadata": {
    "colab": {
      "name": "Categorical Embedding.ipynb",
      "provenance": [],
      "collapsed_sections": [],
      "machine_shape": "hm",
      "mount_file_id": "1wGgGrqMxp34KNpxclbN0leKxxupB2Txa",
      "authorship_tag": "ABX9TyO4K7abGz2pb+ruqrAGzjMw",
      "include_colab_link": true
    },
    "kernelspec": {
      "name": "python3",
      "display_name": "Python 3"
    },
    "accelerator": "GPU"
  },
  "cells": [
    {
      "cell_type": "markdown",
      "metadata": {
        "id": "view-in-github",
        "colab_type": "text"
      },
      "source": [
        "<a href=\"https://colab.research.google.com/github/saurabhgoel1985/RMSEAccuracy/blob/master/Categorical_Embedding.ipynb\" target=\"_parent\"><img src=\"https://colab.research.google.com/assets/colab-badge.svg\" alt=\"Open In Colab\"/></a>"
      ]
    },
    {
      "cell_type": "markdown",
      "metadata": {
        "id": "YvxDeBTQRYnq",
        "colab_type": "text"
      },
      "source": [
        "## **Categorical Embedding in Structured Data**"
      ]
    },
    {
      "cell_type": "code",
      "metadata": {
        "id": "mamH3c_fRPXQ",
        "colab_type": "code",
        "colab": {
          "base_uri": "https://localhost:8080/",
          "height": 52
        },
        "outputId": "028a2d8c-88be-4eed-87cb-474580a72fcb"
      },
      "source": [
        "ls '/content/drive/My Drive/RmseAccuracy/CategoricalEmbedding'"
      ],
      "execution_count": 1,
      "outputs": [
        {
          "output_type": "stream",
          "text": [
            " adult.data    adult.test                     old.adult.names\n",
            " adult.names  'Categorical Embedding.ipynb'   Research.gdoc\n"
          ],
          "name": "stdout"
        }
      ]
    },
    {
      "cell_type": "markdown",
      "metadata": {
        "id": "4enEoq0GQ0tT",
        "colab_type": "text"
      },
      "source": [
        "## **Importing the required libraries**"
      ]
    },
    {
      "cell_type": "code",
      "metadata": {
        "id": "12zdIWiBb6wL",
        "colab_type": "code",
        "colab": {
          "base_uri": "https://localhost:8080/",
          "height": 90
        },
        "outputId": "087723ef-e869-4b24-b84d-8e748c93378f"
      },
      "source": [
        "import pandas as pd\n",
        "import numpy as np\n",
        "import xgboost as xgb\n",
        "from xgboost import XGBClassifier\n",
        "import sklearn\n",
        "from sklearn.model_selection import train_test_split\n",
        "from sklearn.preprocessing import LabelEncoder\n",
        "from sklearn.metrics import roc_auc_score, f1_score\n",
        "import tensorflow as tf\n",
        "import tensorflow.keras as keras\n",
        "import os\n",
        "from keras.models import Sequential,Model\n",
        "from keras.models import Model as KerasModel\n",
        "from keras.layers import Input, Dense, Activation, Reshape\n",
        "from keras.layers import Concatenate, Dropout\n",
        "from keras.layers.embeddings import Embedding\n",
        "from keras.callbacks import ModelCheckpoint\n",
        "from keras.utils import plot_model\n",
        "import pydot_ng as pydot\n",
        "from IPython.core.interactiveshell import InteractiveShell\n",
        "InteractiveShell.ast_node_interactivity = \"all\"\n",
        "import matplotlib.pyplot as plt\n",
        "from IPython.display import Image\n",
        "from sklearn.manifold import TSNE\n",
        "%matplotlib inline\n",
        "import matplotlib.pyplot as plt\n",
        "from mpl_toolkits.mplot3d import Axes3D\n",
        "import seaborn as sns\n",
        "import time"
      ],
      "execution_count": 2,
      "outputs": [
        {
          "output_type": "stream",
          "text": [
            "Using TensorFlow backend.\n",
            "/usr/local/lib/python3.6/dist-packages/statsmodels/tools/_testing.py:19: FutureWarning: pandas.util.testing is deprecated. Use the functions in the public API at pandas.testing instead.\n",
            "  import pandas.util.testing as tm\n"
          ],
          "name": "stderr"
        }
      ]
    },
    {
      "cell_type": "markdown",
      "metadata": {
        "id": "BEQodKqGRtQb",
        "colab_type": "text"
      },
      "source": [
        "**Column names**"
      ]
    },
    {
      "cell_type": "code",
      "metadata": {
        "id": "H_TRre49e0tV",
        "colab_type": "code",
        "colab": {}
      },
      "source": [
        "header = [\"age\", \"workclass\", 'fnlwgt', 'education', 'education-num', 'marital-status', \n",
        "          'occupation', 'relationship', 'race', 'sex', 'capital-gain', 'capital-loss',\n",
        "          'hours-per-week','native-country','target']"
      ],
      "execution_count": 0,
      "outputs": []
    },
    {
      "cell_type": "markdown",
      "metadata": {
        "id": "VYir7CsfSBnq",
        "colab_type": "text"
      },
      "source": [
        "Setting up the path of data"
      ]
    },
    {
      "cell_type": "code",
      "metadata": {
        "id": "SW-mwhaKUoKK",
        "colab_type": "code",
        "colab": {}
      },
      "source": [
        "path = '/content/drive/My Drive/RmseAccuracy/CategoricalEmbedding'"
      ],
      "execution_count": 0,
      "outputs": []
    },
    {
      "cell_type": "code",
      "metadata": {
        "id": "4TC3RzevUN-M",
        "colab_type": "code",
        "colab": {}
      },
      "source": [
        "def load_data(type='train', dataname = 'adult.data'):\n",
        "  \n",
        "  '''\n",
        "  This function load the train data and test data, does basic processing \n",
        "  required to load the data\n",
        "  Input - data type, data name\n",
        "  Return the pandas dataframe of the required csv file\n",
        "  '''\n",
        "\n",
        "  if type =='train':\n",
        "    data = pd.read_csv(os.path.join(path, dataname), header=None, names = header, na_values=[' ?'])\n",
        "    data = data.dropna()\n",
        "    data['target'] = np.where(data['target'].str.strip() == '<=50K', 0, 1)\n",
        "  else:\n",
        "    data = pd.read_csv(os.path.join(path, dataname), header=None, names = header, skiprows=1, na_values=[' ?'])\n",
        "    data = data.dropna()\n",
        "    data['target'] = np.where(data['target'].str.strip() == '<=50K.', 0, 1)\n",
        "  return data\n",
        "\n",
        "train_data = load_data('train', 'adult.data')\n",
        "test_data = load_data('test', 'adult.test')"
      ],
      "execution_count": 0,
      "outputs": []
    },
    {
      "cell_type": "code",
      "metadata": {
        "id": "uWoNMpq6Au4M",
        "colab_type": "code",
        "colab": {
          "base_uri": "https://localhost:8080/",
          "height": 279
        },
        "outputId": "c4de6959-bf1a-4ef9-fa5d-adf4ea673bb8"
      },
      "source": [
        "train_data.head()"
      ],
      "execution_count": 6,
      "outputs": [
        {
          "output_type": "execute_result",
          "data": {
            "text/html": [
              "<div>\n",
              "<style scoped>\n",
              "    .dataframe tbody tr th:only-of-type {\n",
              "        vertical-align: middle;\n",
              "    }\n",
              "\n",
              "    .dataframe tbody tr th {\n",
              "        vertical-align: top;\n",
              "    }\n",
              "\n",
              "    .dataframe thead th {\n",
              "        text-align: right;\n",
              "    }\n",
              "</style>\n",
              "<table border=\"1\" class=\"dataframe\">\n",
              "  <thead>\n",
              "    <tr style=\"text-align: right;\">\n",
              "      <th></th>\n",
              "      <th>age</th>\n",
              "      <th>workclass</th>\n",
              "      <th>fnlwgt</th>\n",
              "      <th>education</th>\n",
              "      <th>education-num</th>\n",
              "      <th>marital-status</th>\n",
              "      <th>occupation</th>\n",
              "      <th>relationship</th>\n",
              "      <th>race</th>\n",
              "      <th>sex</th>\n",
              "      <th>capital-gain</th>\n",
              "      <th>capital-loss</th>\n",
              "      <th>hours-per-week</th>\n",
              "      <th>native-country</th>\n",
              "      <th>target</th>\n",
              "    </tr>\n",
              "  </thead>\n",
              "  <tbody>\n",
              "    <tr>\n",
              "      <th>0</th>\n",
              "      <td>39</td>\n",
              "      <td>State-gov</td>\n",
              "      <td>77516</td>\n",
              "      <td>Bachelors</td>\n",
              "      <td>13</td>\n",
              "      <td>Never-married</td>\n",
              "      <td>Adm-clerical</td>\n",
              "      <td>Not-in-family</td>\n",
              "      <td>White</td>\n",
              "      <td>Male</td>\n",
              "      <td>2174</td>\n",
              "      <td>0</td>\n",
              "      <td>40</td>\n",
              "      <td>United-States</td>\n",
              "      <td>0</td>\n",
              "    </tr>\n",
              "    <tr>\n",
              "      <th>1</th>\n",
              "      <td>50</td>\n",
              "      <td>Self-emp-not-inc</td>\n",
              "      <td>83311</td>\n",
              "      <td>Bachelors</td>\n",
              "      <td>13</td>\n",
              "      <td>Married-civ-spouse</td>\n",
              "      <td>Exec-managerial</td>\n",
              "      <td>Husband</td>\n",
              "      <td>White</td>\n",
              "      <td>Male</td>\n",
              "      <td>0</td>\n",
              "      <td>0</td>\n",
              "      <td>13</td>\n",
              "      <td>United-States</td>\n",
              "      <td>0</td>\n",
              "    </tr>\n",
              "    <tr>\n",
              "      <th>2</th>\n",
              "      <td>38</td>\n",
              "      <td>Private</td>\n",
              "      <td>215646</td>\n",
              "      <td>HS-grad</td>\n",
              "      <td>9</td>\n",
              "      <td>Divorced</td>\n",
              "      <td>Handlers-cleaners</td>\n",
              "      <td>Not-in-family</td>\n",
              "      <td>White</td>\n",
              "      <td>Male</td>\n",
              "      <td>0</td>\n",
              "      <td>0</td>\n",
              "      <td>40</td>\n",
              "      <td>United-States</td>\n",
              "      <td>0</td>\n",
              "    </tr>\n",
              "    <tr>\n",
              "      <th>3</th>\n",
              "      <td>53</td>\n",
              "      <td>Private</td>\n",
              "      <td>234721</td>\n",
              "      <td>11th</td>\n",
              "      <td>7</td>\n",
              "      <td>Married-civ-spouse</td>\n",
              "      <td>Handlers-cleaners</td>\n",
              "      <td>Husband</td>\n",
              "      <td>Black</td>\n",
              "      <td>Male</td>\n",
              "      <td>0</td>\n",
              "      <td>0</td>\n",
              "      <td>40</td>\n",
              "      <td>United-States</td>\n",
              "      <td>0</td>\n",
              "    </tr>\n",
              "    <tr>\n",
              "      <th>4</th>\n",
              "      <td>28</td>\n",
              "      <td>Private</td>\n",
              "      <td>338409</td>\n",
              "      <td>Bachelors</td>\n",
              "      <td>13</td>\n",
              "      <td>Married-civ-spouse</td>\n",
              "      <td>Prof-specialty</td>\n",
              "      <td>Wife</td>\n",
              "      <td>Black</td>\n",
              "      <td>Female</td>\n",
              "      <td>0</td>\n",
              "      <td>0</td>\n",
              "      <td>40</td>\n",
              "      <td>Cuba</td>\n",
              "      <td>0</td>\n",
              "    </tr>\n",
              "  </tbody>\n",
              "</table>\n",
              "</div>"
            ],
            "text/plain": [
              "   age          workclass  fnlwgt  ... hours-per-week  native-country target\n",
              "0   39          State-gov   77516  ...             40   United-States      0\n",
              "1   50   Self-emp-not-inc   83311  ...             13   United-States      0\n",
              "2   38            Private  215646  ...             40   United-States      0\n",
              "3   53            Private  234721  ...             40   United-States      0\n",
              "4   28            Private  338409  ...             40            Cuba      0\n",
              "\n",
              "[5 rows x 15 columns]"
            ]
          },
          "metadata": {
            "tags": []
          },
          "execution_count": 6
        }
      ]
    },
    {
      "cell_type": "markdown",
      "metadata": {
        "id": "Xc2y-tScStWk",
        "colab_type": "text"
      },
      "source": [
        "Checking the categorical columns in the training data"
      ]
    },
    {
      "cell_type": "code",
      "metadata": {
        "id": "AgimJ0cBjGot",
        "colab_type": "code",
        "outputId": "aa1e9c38-6736-4a00-a2ce-188de68d17db",
        "colab": {
          "base_uri": "https://localhost:8080/",
          "height": 70
        }
      },
      "source": [
        "train_data.select_dtypes(['object']).columns"
      ],
      "execution_count": 7,
      "outputs": [
        {
          "output_type": "execute_result",
          "data": {
            "text/plain": [
              "Index(['workclass', 'education', 'marital-status', 'occupation',\n",
              "       'relationship', 'race', 'sex', 'native-country'],\n",
              "      dtype='object')"
            ]
          },
          "metadata": {
            "tags": []
          },
          "execution_count": 7
        }
      ]
    },
    {
      "cell_type": "markdown",
      "metadata": {
        "id": "FMnbGtYzS3HW",
        "colab_type": "text"
      },
      "source": [
        "**Label encoding of all the categorical columns and saving the label encoder as dictionary**"
      ]
    },
    {
      "cell_type": "code",
      "metadata": {
        "id": "wjGtILGJqFvo",
        "colab_type": "code",
        "colab": {}
      },
      "source": [
        "le_dict= {}\n",
        "for col in train_data.select_dtypes(['object']):\n",
        "  le = LabelEncoder()\n",
        "  train_data[col] = le.fit_transform(train_data[col])\n",
        "  test_data[col] = le.transform(test_data[col])\n",
        "  #Save a mapping of categorical columns values and its transforamtion - needed \n",
        "  #later on for mapping purposes\n",
        "  le_dict[col] = dict(zip(le.classes_, le.transform(le.classes_)))"
      ],
      "execution_count": 0,
      "outputs": []
    },
    {
      "cell_type": "code",
      "metadata": {
        "id": "rKucZos_IyAh",
        "colab_type": "code",
        "colab": {
          "base_uri": "https://localhost:8080/",
          "height": 1000
        },
        "outputId": "95d28206-ec7f-4a91-cb98-bf407e87a90d"
      },
      "source": [
        "# Printing the label encoder dictionary\n",
        "le_dict"
      ],
      "execution_count": 9,
      "outputs": [
        {
          "output_type": "execute_result",
          "data": {
            "text/plain": [
              "{'education': {' 10th': 0,\n",
              "  ' 11th': 1,\n",
              "  ' 12th': 2,\n",
              "  ' 1st-4th': 3,\n",
              "  ' 5th-6th': 4,\n",
              "  ' 7th-8th': 5,\n",
              "  ' 9th': 6,\n",
              "  ' Assoc-acdm': 7,\n",
              "  ' Assoc-voc': 8,\n",
              "  ' Bachelors': 9,\n",
              "  ' Doctorate': 10,\n",
              "  ' HS-grad': 11,\n",
              "  ' Masters': 12,\n",
              "  ' Preschool': 13,\n",
              "  ' Prof-school': 14,\n",
              "  ' Some-college': 15},\n",
              " 'marital-status': {' Divorced': 0,\n",
              "  ' Married-AF-spouse': 1,\n",
              "  ' Married-civ-spouse': 2,\n",
              "  ' Married-spouse-absent': 3,\n",
              "  ' Never-married': 4,\n",
              "  ' Separated': 5,\n",
              "  ' Widowed': 6},\n",
              " 'native-country': {' Cambodia': 0,\n",
              "  ' Canada': 1,\n",
              "  ' China': 2,\n",
              "  ' Columbia': 3,\n",
              "  ' Cuba': 4,\n",
              "  ' Dominican-Republic': 5,\n",
              "  ' Ecuador': 6,\n",
              "  ' El-Salvador': 7,\n",
              "  ' England': 8,\n",
              "  ' France': 9,\n",
              "  ' Germany': 10,\n",
              "  ' Greece': 11,\n",
              "  ' Guatemala': 12,\n",
              "  ' Haiti': 13,\n",
              "  ' Holand-Netherlands': 14,\n",
              "  ' Honduras': 15,\n",
              "  ' Hong': 16,\n",
              "  ' Hungary': 17,\n",
              "  ' India': 18,\n",
              "  ' Iran': 19,\n",
              "  ' Ireland': 20,\n",
              "  ' Italy': 21,\n",
              "  ' Jamaica': 22,\n",
              "  ' Japan': 23,\n",
              "  ' Laos': 24,\n",
              "  ' Mexico': 25,\n",
              "  ' Nicaragua': 26,\n",
              "  ' Outlying-US(Guam-USVI-etc)': 27,\n",
              "  ' Peru': 28,\n",
              "  ' Philippines': 29,\n",
              "  ' Poland': 30,\n",
              "  ' Portugal': 31,\n",
              "  ' Puerto-Rico': 32,\n",
              "  ' Scotland': 33,\n",
              "  ' South': 34,\n",
              "  ' Taiwan': 35,\n",
              "  ' Thailand': 36,\n",
              "  ' Trinadad&Tobago': 37,\n",
              "  ' United-States': 38,\n",
              "  ' Vietnam': 39,\n",
              "  ' Yugoslavia': 40},\n",
              " 'occupation': {' Adm-clerical': 0,\n",
              "  ' Armed-Forces': 1,\n",
              "  ' Craft-repair': 2,\n",
              "  ' Exec-managerial': 3,\n",
              "  ' Farming-fishing': 4,\n",
              "  ' Handlers-cleaners': 5,\n",
              "  ' Machine-op-inspct': 6,\n",
              "  ' Other-service': 7,\n",
              "  ' Priv-house-serv': 8,\n",
              "  ' Prof-specialty': 9,\n",
              "  ' Protective-serv': 10,\n",
              "  ' Sales': 11,\n",
              "  ' Tech-support': 12,\n",
              "  ' Transport-moving': 13},\n",
              " 'race': {' Amer-Indian-Eskimo': 0,\n",
              "  ' Asian-Pac-Islander': 1,\n",
              "  ' Black': 2,\n",
              "  ' Other': 3,\n",
              "  ' White': 4},\n",
              " 'relationship': {' Husband': 0,\n",
              "  ' Not-in-family': 1,\n",
              "  ' Other-relative': 2,\n",
              "  ' Own-child': 3,\n",
              "  ' Unmarried': 4,\n",
              "  ' Wife': 5},\n",
              " 'sex': {' Female': 0, ' Male': 1},\n",
              " 'workclass': {' Federal-gov': 0,\n",
              "  ' Local-gov': 1,\n",
              "  ' Private': 2,\n",
              "  ' Self-emp-inc': 3,\n",
              "  ' Self-emp-not-inc': 4,\n",
              "  ' State-gov': 5,\n",
              "  ' Without-pay': 6}}"
            ]
          },
          "metadata": {
            "tags": []
          },
          "execution_count": 9
        }
      ]
    },
    {
      "cell_type": "code",
      "metadata": {
        "id": "sff__B8EqchR",
        "colab_type": "code",
        "colab": {
          "base_uri": "https://localhost:8080/",
          "height": 195
        },
        "outputId": "53ab6de7-3311-453c-e256-9cd04b9e9bcc"
      },
      "source": [
        "# Viewing the data after label encoding\n",
        "train_data.head()\n"
      ],
      "execution_count": 10,
      "outputs": [
        {
          "output_type": "execute_result",
          "data": {
            "text/html": [
              "<div>\n",
              "<style scoped>\n",
              "    .dataframe tbody tr th:only-of-type {\n",
              "        vertical-align: middle;\n",
              "    }\n",
              "\n",
              "    .dataframe tbody tr th {\n",
              "        vertical-align: top;\n",
              "    }\n",
              "\n",
              "    .dataframe thead th {\n",
              "        text-align: right;\n",
              "    }\n",
              "</style>\n",
              "<table border=\"1\" class=\"dataframe\">\n",
              "  <thead>\n",
              "    <tr style=\"text-align: right;\">\n",
              "      <th></th>\n",
              "      <th>age</th>\n",
              "      <th>workclass</th>\n",
              "      <th>fnlwgt</th>\n",
              "      <th>education</th>\n",
              "      <th>education-num</th>\n",
              "      <th>marital-status</th>\n",
              "      <th>occupation</th>\n",
              "      <th>relationship</th>\n",
              "      <th>race</th>\n",
              "      <th>sex</th>\n",
              "      <th>capital-gain</th>\n",
              "      <th>capital-loss</th>\n",
              "      <th>hours-per-week</th>\n",
              "      <th>native-country</th>\n",
              "      <th>target</th>\n",
              "    </tr>\n",
              "  </thead>\n",
              "  <tbody>\n",
              "    <tr>\n",
              "      <th>0</th>\n",
              "      <td>39</td>\n",
              "      <td>5</td>\n",
              "      <td>77516</td>\n",
              "      <td>9</td>\n",
              "      <td>13</td>\n",
              "      <td>4</td>\n",
              "      <td>0</td>\n",
              "      <td>1</td>\n",
              "      <td>4</td>\n",
              "      <td>1</td>\n",
              "      <td>2174</td>\n",
              "      <td>0</td>\n",
              "      <td>40</td>\n",
              "      <td>38</td>\n",
              "      <td>0</td>\n",
              "    </tr>\n",
              "    <tr>\n",
              "      <th>1</th>\n",
              "      <td>50</td>\n",
              "      <td>4</td>\n",
              "      <td>83311</td>\n",
              "      <td>9</td>\n",
              "      <td>13</td>\n",
              "      <td>2</td>\n",
              "      <td>3</td>\n",
              "      <td>0</td>\n",
              "      <td>4</td>\n",
              "      <td>1</td>\n",
              "      <td>0</td>\n",
              "      <td>0</td>\n",
              "      <td>13</td>\n",
              "      <td>38</td>\n",
              "      <td>0</td>\n",
              "    </tr>\n",
              "    <tr>\n",
              "      <th>2</th>\n",
              "      <td>38</td>\n",
              "      <td>2</td>\n",
              "      <td>215646</td>\n",
              "      <td>11</td>\n",
              "      <td>9</td>\n",
              "      <td>0</td>\n",
              "      <td>5</td>\n",
              "      <td>1</td>\n",
              "      <td>4</td>\n",
              "      <td>1</td>\n",
              "      <td>0</td>\n",
              "      <td>0</td>\n",
              "      <td>40</td>\n",
              "      <td>38</td>\n",
              "      <td>0</td>\n",
              "    </tr>\n",
              "    <tr>\n",
              "      <th>3</th>\n",
              "      <td>53</td>\n",
              "      <td>2</td>\n",
              "      <td>234721</td>\n",
              "      <td>1</td>\n",
              "      <td>7</td>\n",
              "      <td>2</td>\n",
              "      <td>5</td>\n",
              "      <td>0</td>\n",
              "      <td>2</td>\n",
              "      <td>1</td>\n",
              "      <td>0</td>\n",
              "      <td>0</td>\n",
              "      <td>40</td>\n",
              "      <td>38</td>\n",
              "      <td>0</td>\n",
              "    </tr>\n",
              "    <tr>\n",
              "      <th>4</th>\n",
              "      <td>28</td>\n",
              "      <td>2</td>\n",
              "      <td>338409</td>\n",
              "      <td>9</td>\n",
              "      <td>13</td>\n",
              "      <td>2</td>\n",
              "      <td>9</td>\n",
              "      <td>5</td>\n",
              "      <td>2</td>\n",
              "      <td>0</td>\n",
              "      <td>0</td>\n",
              "      <td>0</td>\n",
              "      <td>40</td>\n",
              "      <td>4</td>\n",
              "      <td>0</td>\n",
              "    </tr>\n",
              "  </tbody>\n",
              "</table>\n",
              "</div>"
            ],
            "text/plain": [
              "   age  workclass  fnlwgt  ...  hours-per-week  native-country  target\n",
              "0   39          5   77516  ...              40              38       0\n",
              "1   50          4   83311  ...              13              38       0\n",
              "2   38          2  215646  ...              40              38       0\n",
              "3   53          2  234721  ...              40              38       0\n",
              "4   28          2  338409  ...              40               4       0\n",
              "\n",
              "[5 rows x 15 columns]"
            ]
          },
          "metadata": {
            "tags": []
          },
          "execution_count": 10
        }
      ]
    },
    {
      "cell_type": "markdown",
      "metadata": {
        "id": "VhVprWgjUfYN",
        "colab_type": "text"
      },
      "source": [
        "### **Splitting the train data further into training and testing for XGB evaluation**"
      ]
    },
    {
      "cell_type": "code",
      "metadata": {
        "id": "9PvRVz5SjGkE",
        "colab_type": "code",
        "outputId": "a22e02d2-f242-48d1-95ee-107621a7a445",
        "colab": {
          "base_uri": "https://localhost:8080/",
          "height": 34
        }
      },
      "source": [
        "X_train, X_test, y_train, y_test = train_test_split(train_data.drop(['target'], axis = 1), train_data['target'], random_state = 42)\n",
        "X_train.shape, X_test.shape, y_train.shape, y_test.shape"
      ],
      "execution_count": 11,
      "outputs": [
        {
          "output_type": "execute_result",
          "data": {
            "text/plain": [
              "((22621, 14), (7541, 14), (22621,), (7541,))"
            ]
          },
          "metadata": {
            "tags": []
          },
          "execution_count": 11
        }
      ]
    },
    {
      "cell_type": "markdown",
      "metadata": {
        "id": "F2x1E7a_Uxbu",
        "colab_type": "text"
      },
      "source": [
        "Building a vanilla XGB model on the training data"
      ]
    },
    {
      "cell_type": "code",
      "metadata": {
        "id": "OfQtCGFVjGcC",
        "colab_type": "code",
        "outputId": "657b6b44-551f-4641-89cd-60aec2bef31b",
        "colab": {
          "base_uri": "https://localhost:8080/",
          "height": 1000
        }
      },
      "source": [
        "params = {'n_estimators' : 500,\n",
        "          'max_depth': 5,\n",
        "          'min_child_weight' : 50,\n",
        "          'gamma': 0.01}\n",
        "xgb_classifier = XGBClassifier(**params)\n",
        "xgb_classifier.fit(X_train, y_train, eval_set=[(X_test, y_test)], early_stopping_rounds=10)"
      ],
      "execution_count": 12,
      "outputs": [
        {
          "output_type": "stream",
          "text": [
            "[0]\tvalidation_0-error:0.152897\n",
            "Will train until validation_0-error hasn't improved in 10 rounds.\n",
            "[1]\tvalidation_0-error:0.148256\n",
            "[2]\tvalidation_0-error:0.147991\n",
            "[3]\tvalidation_0-error:0.148124\n",
            "[4]\tvalidation_0-error:0.150245\n",
            "[5]\tvalidation_0-error:0.149052\n",
            "[6]\tvalidation_0-error:0.148389\n",
            "[7]\tvalidation_0-error:0.149582\n",
            "[8]\tvalidation_0-error:0.1464\n",
            "[9]\tvalidation_0-error:0.147461\n",
            "[10]\tvalidation_0-error:0.147858\n",
            "[11]\tvalidation_0-error:0.147593\n",
            "[12]\tvalidation_0-error:0.147593\n",
            "[13]\tvalidation_0-error:0.146798\n",
            "[14]\tvalidation_0-error:0.146665\n",
            "[15]\tvalidation_0-error:0.145471\n",
            "[16]\tvalidation_0-error:0.145074\n",
            "[17]\tvalidation_0-error:0.144278\n",
            "[18]\tvalidation_0-error:0.144411\n",
            "[19]\tvalidation_0-error:0.144676\n",
            "[20]\tvalidation_0-error:0.144808\n",
            "[21]\tvalidation_0-error:0.144411\n",
            "[22]\tvalidation_0-error:0.144543\n",
            "[23]\tvalidation_0-error:0.14388\n",
            "[24]\tvalidation_0-error:0.144145\n",
            "[25]\tvalidation_0-error:0.144013\n",
            "[26]\tvalidation_0-error:0.143615\n",
            "[27]\tvalidation_0-error:0.14388\n",
            "[28]\tvalidation_0-error:0.143482\n",
            "[29]\tvalidation_0-error:0.144013\n",
            "[30]\tvalidation_0-error:0.143217\n",
            "[31]\tvalidation_0-error:0.142819\n",
            "[32]\tvalidation_0-error:0.143084\n",
            "[33]\tvalidation_0-error:0.143217\n",
            "[34]\tvalidation_0-error:0.14335\n",
            "[35]\tvalidation_0-error:0.143084\n",
            "[36]\tvalidation_0-error:0.142024\n",
            "[37]\tvalidation_0-error:0.142819\n",
            "[38]\tvalidation_0-error:0.141891\n",
            "[39]\tvalidation_0-error:0.141095\n",
            "[40]\tvalidation_0-error:0.14083\n",
            "[41]\tvalidation_0-error:0.14083\n",
            "[42]\tvalidation_0-error:0.140698\n",
            "[43]\tvalidation_0-error:0.140698\n",
            "[44]\tvalidation_0-error:0.139637\n",
            "[45]\tvalidation_0-error:0.139371\n",
            "[46]\tvalidation_0-error:0.139106\n",
            "[47]\tvalidation_0-error:0.138311\n",
            "[48]\tvalidation_0-error:0.138178\n",
            "[49]\tvalidation_0-error:0.138311\n",
            "[50]\tvalidation_0-error:0.137648\n",
            "[51]\tvalidation_0-error:0.137117\n",
            "[52]\tvalidation_0-error:0.137913\n",
            "[53]\tvalidation_0-error:0.137117\n",
            "[54]\tvalidation_0-error:0.137117\n",
            "[55]\tvalidation_0-error:0.13725\n",
            "[56]\tvalidation_0-error:0.137117\n",
            "[57]\tvalidation_0-error:0.137117\n",
            "[58]\tvalidation_0-error:0.136984\n",
            "[59]\tvalidation_0-error:0.136984\n",
            "[60]\tvalidation_0-error:0.136719\n",
            "[61]\tvalidation_0-error:0.136189\n",
            "[62]\tvalidation_0-error:0.136321\n",
            "[63]\tvalidation_0-error:0.136321\n",
            "[64]\tvalidation_0-error:0.136321\n",
            "[65]\tvalidation_0-error:0.136719\n",
            "[66]\tvalidation_0-error:0.136587\n",
            "[67]\tvalidation_0-error:0.136719\n",
            "[68]\tvalidation_0-error:0.13725\n",
            "[69]\tvalidation_0-error:0.136587\n",
            "[70]\tvalidation_0-error:0.136852\n",
            "[71]\tvalidation_0-error:0.136189\n",
            "Stopping. Best iteration:\n",
            "[61]\tvalidation_0-error:0.136189\n",
            "\n"
          ],
          "name": "stdout"
        },
        {
          "output_type": "execute_result",
          "data": {
            "text/plain": [
              "XGBClassifier(base_score=0.5, booster='gbtree', colsample_bylevel=1,\n",
              "              colsample_bynode=1, colsample_bytree=1, gamma=0.01,\n",
              "              learning_rate=0.1, max_delta_step=0, max_depth=5,\n",
              "              min_child_weight=50, missing=None, n_estimators=500, n_jobs=1,\n",
              "              nthread=None, objective='binary:logistic', random_state=0,\n",
              "              reg_alpha=0, reg_lambda=1, scale_pos_weight=1, seed=None,\n",
              "              silent=None, subsample=1, verbosity=1)"
            ]
          },
          "metadata": {
            "tags": []
          },
          "execution_count": 12
        }
      ]
    },
    {
      "cell_type": "markdown",
      "metadata": {
        "id": "Fqq8lbwjU58M",
        "colab_type": "text"
      },
      "source": [
        "Making predictions on the test data using XGB model"
      ]
    },
    {
      "cell_type": "code",
      "metadata": {
        "id": "HO5Os6BViZHX",
        "colab_type": "code",
        "outputId": "b3155cb6-3595-42a3-c163-79e9c007ab77",
        "colab": {
          "base_uri": "https://localhost:8080/",
          "height": 52
        }
      },
      "source": [
        "xgb_classifier.predict_proba(test_data.drop(['target'], axis = 1))[:,1]"
      ],
      "execution_count": 13,
      "outputs": [
        {
          "output_type": "execute_result",
          "data": {
            "text/plain": [
              "array([0.00637804, 0.2809648 , 0.2034492 , ..., 0.735052  , 0.40594822,\n",
              "       0.7455125 ], dtype=float32)"
            ]
          },
          "metadata": {
            "tags": []
          },
          "execution_count": 13
        }
      ]
    },
    {
      "cell_type": "markdown",
      "metadata": {
        "id": "RWv1MGQBU93c",
        "colab_type": "text"
      },
      "source": [
        "Checking the AUC of the ROC curve to evaluate the model"
      ]
    },
    {
      "cell_type": "code",
      "metadata": {
        "id": "-okRbh1Jp7-N",
        "colab_type": "code",
        "outputId": "55631367-4290-4752-d33b-0e75c23b41d2",
        "colab": {
          "base_uri": "https://localhost:8080/",
          "height": 34
        }
      },
      "source": [
        "roc_auc_score(test_data['target'], xgb_classifier.predict_proba(test_data.drop(['target'], axis = 1))[:,1])"
      ],
      "execution_count": 14,
      "outputs": [
        {
          "output_type": "execute_result",
          "data": {
            "text/plain": [
              "0.912648446421774"
            ]
          },
          "metadata": {
            "tags": []
          },
          "execution_count": 14
        }
      ]
    },
    {
      "cell_type": "markdown",
      "metadata": {
        "id": "4jYZ7I-UW00s",
        "colab_type": "text"
      },
      "source": [
        "## **Focus on the categorical embeddings**"
      ]
    },
    {
      "cell_type": "code",
      "metadata": {
        "id": "GACoyvTCp7zl",
        "colab_type": "code",
        "colab": {}
      },
      "source": [
        "# We need to do categorical embedding for workclass and occupation variables"
      ],
      "execution_count": 0,
      "outputs": []
    },
    {
      "cell_type": "code",
      "metadata": {
        "id": "ueow7Kf3qV7g",
        "colab_type": "code",
        "colab": {
          "base_uri": "https://localhost:8080/",
          "height": 34
        },
        "outputId": "beeebd33-62ea-46e1-f996-c00b79ead831"
      },
      "source": [
        "# check how many unique values are present for occupation and workclass\n",
        "train_data.occupation.nunique(), train_data.workclass.nunique()"
      ],
      "execution_count": 16,
      "outputs": [
        {
          "output_type": "execute_result",
          "data": {
            "text/plain": [
              "(14, 7)"
            ]
          },
          "metadata": {
            "tags": []
          },
          "execution_count": 16
        }
      ]
    },
    {
      "cell_type": "markdown",
      "metadata": {
        "id": "tjNA0aPFakmf",
        "colab_type": "text"
      },
      "source": [
        "\n",
        "*   For categorical embedding training, we need to convert the inputs as list to be fed to neural network\n",
        "\n",
        "*  Appending Occupation and Workclass label encoded values into the list\n",
        "\n",
        "*   Using the previous XGB X_train and X_test dataset\n",
        "\n",
        "\n",
        "\n",
        "\n",
        "\n",
        "\n"
      ]
    },
    {
      "cell_type": "code",
      "metadata": {
        "id": "9dobx1HLqvb_",
        "colab_type": "code",
        "colab": {}
      },
      "source": [
        "categorical_columns = ['occupation','workclass']\n",
        "input_train_list = []\n",
        "input_test_list = []\n",
        "for c in categorical_columns:\n",
        "  input_train_list.append(X_train[c].values)\n",
        "  input_test_list.append(X_test[c].values)\n"
      ],
      "execution_count": 0,
      "outputs": []
    },
    {
      "cell_type": "code",
      "metadata": {
        "id": "xeRB5Bsi5P70",
        "colab_type": "code",
        "colab": {
          "base_uri": "https://localhost:8080/",
          "height": 34
        },
        "outputId": "4a8b390e-9f9f-4cf8-8ff3-661756f2d571"
      },
      "source": [
        "input_train_list\n"
      ],
      "execution_count": 18,
      "outputs": [
        {
          "output_type": "execute_result",
          "data": {
            "text/plain": [
              "[array([11, 11,  5, ...,  2,  7, 11]), array([2, 2, 2, ..., 2, 4, 3])]"
            ]
          },
          "metadata": {
            "tags": []
          },
          "execution_count": 18
        }
      ]
    },
    {
      "cell_type": "code",
      "metadata": {
        "id": "IA7xYqhWqvex",
        "colab_type": "code",
        "colab": {}
      },
      "source": [
        "# input models will capture all the input list\n",
        "input_models=[]\n",
        "# output embeddings will capture all the output embeddings\n",
        "output_embeddings=[]\n",
        "for c in categorical_columns:\n",
        "  cat_emb_name= c+'_Embedding'\n",
        "  #Identifying the number of unique values in the category\n",
        "  no_of_unique_cat  = X_train[c].nunique()\n",
        "  # Defining the output embedding size - currently taken it to be 10 for \n",
        "  # simplicity, Jeremy Howard Fast AI course gives empirical formula for this to\n",
        "  # be int(min(np.ceil(no_of_unique_cat/2, 50))) i.e choosing the minimum of\n",
        "  # 50 or half the number of categories in the column\n",
        "  embedding_size = 10\n",
        "  input_model = Input(shape=(1,),name = c+'_Input')\n",
        "  output_model = Embedding(no_of_unique_cat, embedding_size,name=cat_emb_name)(input_model)\n",
        "  output_model = Reshape(target_shape=(embedding_size,))(output_model)   \n",
        "\n",
        "  input_models.append(input_model)\n",
        "  output_embeddings.append(output_model) \n",
        "\n",
        "output = Concatenate()(output_embeddings)\n",
        "output = Dense(512, kernel_initializer=\"uniform\")(output)\n",
        "output = Activation('relu')(output)\n",
        "output= Dropout(0.4)(output)\n",
        "output = Dense(256, kernel_initializer=\"uniform\")(output)\n",
        "output = Activation('relu')(output)\n",
        "output= Dropout(0.3)(output)\n",
        "output = Dense(1, activation='sigmoid')(output)\n",
        "\n",
        "model = Model(inputs=input_models, outputs=output)\n",
        "model.compile(loss='binary_crossentropy', optimizer='Adam',metrics=['accuracy'])"
      ],
      "execution_count": 0,
      "outputs": []
    },
    {
      "cell_type": "code",
      "metadata": {
        "id": "OxyyTYOuu2_N",
        "colab_type": "code",
        "colab": {
          "base_uri": "https://localhost:8080/",
          "height": 1000
        },
        "outputId": "31f43c16-20e4-47b9-a02c-315596e4bb9a"
      },
      "source": [
        "plot_model(model, show_shapes=True, show_layer_names=True, to_file='model.png')\n",
        "Image(retina=True, filename='model.png')"
      ],
      "execution_count": 20,
      "outputs": [
        {
          "output_type": "execute_result",
          "data": {
            "image/png": "[encoded data removed]",
            "text/plain": [
              "<IPython.core.display.Image object>"
            ]
          },
          "metadata": {
            "tags": []
          },
          "execution_count": 20
        },
        {
          "output_type": "execute_result",
          "data": {
            "image/png": "[encoded data removed]",
            "text/plain": [
              "<IPython.core.display.Image object>"
            ]
          },
          "metadata": {
            "tags": [],
            "image/png": {
              "width": 523,
              "height": 590
            }
          },
          "execution_count": 20
        }
      ]
    },
    {
      "cell_type": "code",
      "metadata": {
        "id": "wXCl1oAwu28k",
        "colab_type": "code",
        "colab": {
          "base_uri": "https://localhost:8080/",
          "height": 442
        },
        "outputId": "62c58dcf-9388-4094-f869-abd08f2e33ed"
      },
      "source": [
        "history  =  model.fit(input_train_list, y_train, validation_data=(input_test_list, y_test) , epochs =  10 , batch_size = 32, verbose= 2)"
      ],
      "execution_count": 21,
      "outputs": [
        {
          "output_type": "stream",
          "text": [
            "/usr/local/lib/python3.6/dist-packages/tensorflow/python/framework/indexed_slices.py:434: UserWarning: Converting sparse IndexedSlices to a dense Tensor of unknown shape. This may consume a large amount of memory.\n",
            "  \"Converting sparse IndexedSlices to a dense Tensor of unknown shape. \"\n"
          ],
          "name": "stderr"
        },
        {
          "output_type": "stream",
          "text": [
            "Train on 22621 samples, validate on 7541 samples\n",
            "Epoch 1/10\n",
            " - 4s - loss: 0.5037 - accuracy: 0.7537 - val_loss: 0.4939 - val_accuracy: 0.7559\n",
            "Epoch 2/10\n",
            " - 3s - loss: 0.4963 - accuracy: 0.7576 - val_loss: 0.4913 - val_accuracy: 0.7540\n",
            "Epoch 3/10\n",
            " - 4s - loss: 0.4951 - accuracy: 0.7576 - val_loss: 0.4893 - val_accuracy: 0.7555\n",
            "Epoch 4/10\n",
            " - 3s - loss: 0.4952 - accuracy: 0.7582 - val_loss: 0.4901 - val_accuracy: 0.7559\n",
            "Epoch 5/10\n",
            " - 3s - loss: 0.4938 - accuracy: 0.7616 - val_loss: 0.4895 - val_accuracy: 0.7557\n",
            "Epoch 6/10\n",
            " - 3s - loss: 0.4944 - accuracy: 0.7581 - val_loss: 0.4889 - val_accuracy: 0.7548\n",
            "Epoch 7/10\n",
            " - 3s - loss: 0.4931 - accuracy: 0.7577 - val_loss: 0.4893 - val_accuracy: 0.7548\n",
            "Epoch 8/10\n",
            " - 3s - loss: 0.4934 - accuracy: 0.7596 - val_loss: 0.4910 - val_accuracy: 0.7548\n",
            "Epoch 9/10\n",
            " - 3s - loss: 0.4928 - accuracy: 0.7600 - val_loss: 0.4909 - val_accuracy: 0.7577\n",
            "Epoch 10/10\n",
            " - 3s - loss: 0.4927 - accuracy: 0.7593 - val_loss: 0.4882 - val_accuracy: 0.7577\n"
          ],
          "name": "stdout"
        }
      ]
    },
    {
      "cell_type": "code",
      "metadata": {
        "id": "qSWNLaSzqV_L",
        "colab_type": "code",
        "colab": {
          "base_uri": "https://localhost:8080/",
          "height": 330
        },
        "outputId": "51d06b04-bf11-4819-f485-159eca250b15"
      },
      "source": [
        "# summarize history for accuracy\n",
        "plt.plot(history.history['loss'])\n",
        "plt.plot(history.history['val_loss'])\n",
        "plt.title('loss')\n",
        "plt.ylabel('loss')\n",
        "plt.xlabel('epoch')\n",
        "plt.legend(['train', 'val'], loc='upper right')\n",
        "plt.show()"
      ],
      "execution_count": 22,
      "outputs": [
        {
          "output_type": "execute_result",
          "data": {
            "text/plain": [
              "[<matplotlib.lines.Line2D at 0x7f265c162e48>]"
            ]
          },
          "metadata": {
            "tags": []
          },
          "execution_count": 22
        },
        {
          "output_type": "execute_result",
          "data": {
            "text/plain": [
              "[<matplotlib.lines.Line2D at 0x7f265c2ce358>]"
            ]
          },
          "metadata": {
            "tags": []
          },
          "execution_count": 22
        },
        {
          "output_type": "execute_result",
          "data": {
            "text/plain": [
              "Text(0.5, 1.0, 'loss')"
            ]
          },
          "metadata": {
            "tags": []
          },
          "execution_count": 22
        },
        {
          "output_type": "execute_result",
          "data": {
            "text/plain": [
              "Text(0, 0.5, 'loss')"
            ]
          },
          "metadata": {
            "tags": []
          },
          "execution_count": 22
        },
        {
          "output_type": "execute_result",
          "data": {
            "text/plain": [
              "Text(0.5, 0, 'epoch')"
            ]
          },
          "metadata": {
            "tags": []
          },
          "execution_count": 22
        },
        {
          "output_type": "execute_result",
          "data": {
            "text/plain": [
              "<matplotlib.legend.Legend at 0x7f265c170198>"
            ]
          },
          "metadata": {
            "tags": []
          },
          "execution_count": 22
        },
        {
          "output_type": "display_data",
          "data": {
            "image/png": "[encoded data removed]",
            "text/plain": [
              "<Figure size 432x288 with 1 Axes>"
            ]
          },
          "metadata": {
            "tags": [],
            "needs_background": "light"
          }
        }
      ]
    },
    {
      "cell_type": "markdown",
      "metadata": {
        "id": "Pdf6F11ViTC-",
        "colab_type": "text"
      },
      "source": [
        "\n",
        "\n",
        "*   Extraction of the learned embeddings\n",
        "*   For embedding layers the weight of the layer is the learned embedding itself\n",
        "*   We can use get_layer function and then get_weights to extract the wrights\n",
        "\n",
        "\n"
      ]
    },
    {
      "cell_type": "code",
      "metadata": {
        "id": "3-yKQ6Xsz17X",
        "colab_type": "code",
        "colab": {
          "base_uri": "https://localhost:8080/",
          "height": 281
        },
        "outputId": "4cb309d5-19d0-4f91-f9df-7998ffaf1ab9"
      },
      "source": [
        "model.get_layer('workclass_Embedding').get_weights()[0]\n",
        "# Below are the learned embedding for each unique category in the workclass columns\n",
        "model.get_layer('workclass_Embedding').get_weights()[0].shape\n",
        "# The shape is (7,10) meaning 7 unique values each described by 10 values \n",
        "# (embedding size)"
      ],
      "execution_count": 23,
      "outputs": [
        {
          "output_type": "execute_result",
          "data": {
            "text/plain": [
              "array([[ 0.06525061,  0.05482947,  0.05216768, -0.04279175, -0.12339019,\n",
              "        -0.04013455,  0.01737   ,  0.10570763, -0.01695549,  0.06585839],\n",
              "       [-0.07772887, -0.04628103,  0.08701079,  0.08918982, -0.05603178,\n",
              "        -0.07619662,  0.02730367,  0.01926741, -0.17744297, -0.0579962 ],\n",
              "       [-0.01938917, -0.0323904 , -0.05962486,  0.00237398,  0.0739515 ,\n",
              "         0.01555368,  0.00401622, -0.03250292,  0.02215522, -0.01866258],\n",
              "       [ 0.18676852,  0.1675361 , -0.03035234, -0.15788324, -0.14538448,\n",
              "        -0.08789986, -0.07921328,  0.05444631,  0.09954448,  0.14155932],\n",
              "       [ 0.05910562,  0.02369875,  0.18263212,  0.00749892, -0.09033343,\n",
              "         0.14106072,  0.0331905 ,  0.02282883,  0.0859113 ,  0.02634527],\n",
              "       [-0.07729258, -0.02762457,  0.00331947,  0.10304805,  0.03739286,\n",
              "         0.11586085,  0.02871732, -0.09301504, -0.00908325, -0.03618846],\n",
              "       [-0.395478  , -0.42273545, -0.48221248,  0.23901209,  0.47412392,\n",
              "        -0.2743146 , -0.24313755, -0.4443801 , -0.39637503, -0.41591057]],\n",
              "      dtype=float32)"
            ]
          },
          "metadata": {
            "tags": []
          },
          "execution_count": 23
        },
        {
          "output_type": "execute_result",
          "data": {
            "text/plain": [
              "(7, 10)"
            ]
          },
          "metadata": {
            "tags": []
          },
          "execution_count": 23
        }
      ]
    },
    {
      "cell_type": "code",
      "metadata": {
        "id": "kOCzjrVz40rI",
        "colab_type": "code",
        "colab": {
          "base_uri": "https://localhost:8080/",
          "height": 527
        },
        "outputId": "ee79e77c-8768-4a9b-c77d-d013fef71f7b"
      },
      "source": [
        "model.get_layer('occupation_Embedding').get_weights()[0]\n",
        "# Below are the learned embedding for each unique category in the occupation columns\n",
        "model.get_layer('occupation_Embedding').get_weights()[0].shape\n",
        "# The shape is (14,10) meaning 7 unique values each described by 10 values \n",
        "# (embedding size)"
      ],
      "execution_count": 24,
      "outputs": [
        {
          "output_type": "execute_result",
          "data": {
            "text/plain": [
              "array([[-0.05620529, -0.03087875,  0.0400634 ,  0.05928771, -0.00541748,\n",
              "        -0.05688063, -0.01935204,  0.00813962,  0.08772072, -0.10334653],\n",
              "       [-0.08468782, -0.03953376,  0.08121008,  0.08263997, -0.13964817,\n",
              "        -0.15508653, -0.16278589,  0.14482252,  0.00222568, -0.11490573],\n",
              "       [-0.02275396,  0.00157042,  0.00755943, -0.10778545,  0.01889654,\n",
              "        -0.01549456, -0.06874995, -0.02058832, -0.21455543,  0.10962018],\n",
              "       [ 0.25603503,  0.1406158 , -0.12749423, -0.17956214, -0.04715111,\n",
              "         0.1039613 ,  0.15220225, -0.13433747, -0.06029575,  0.17108466],\n",
              "       [-0.11317135, -0.02254032,  0.05965933,  0.04338259, -0.11289197,\n",
              "        -0.04989321, -0.11767583,  0.11157784,  0.00094867, -0.03068121],\n",
              "       [-0.1161765 , -0.10968423,  0.05371368,  0.08930682, -0.07522094,\n",
              "        -0.07239382, -0.1292128 ,  0.09544174,  0.06558997, -0.1268126 ],\n",
              "       [-0.0617846 , -0.00725447,  0.03051146,  0.08150325, -0.00883741,\n",
              "         0.00109176, -0.04143984,  0.06623121,  0.04024671, -0.05482775],\n",
              "       [-0.15447672, -0.07348624,  0.15387176,  0.09142315, -0.13158737,\n",
              "        -0.15635015, -0.13672717,  0.12790975,  0.05957793, -0.14301407],\n",
              "       [-0.53229976, -0.3810082 ,  0.41827032,  0.4091799 , -0.5477596 ,\n",
              "        -0.5352392 , -0.5200455 ,  0.53145194,  0.2580926 , -0.49332595],\n",
              "       [ 0.1443278 ,  0.00943018, -0.12084386, -0.03355069,  0.16469161,\n",
              "         0.20023344,  0.11268413, -0.08590641,  0.12978445,  0.08048134],\n",
              "       [ 0.07615982,  0.04346942, -0.06564588, -0.02521539, -0.05847974,\n",
              "        -0.0276792 ,  0.05395128,  0.01101557,  0.01609309, -0.00773044],\n",
              "       [-0.00806261,  0.00630238, -0.00782519, -0.05965032,  0.03494971,\n",
              "         0.03582537,  0.00726535,  0.00167205,  0.01560071, -0.01774277],\n",
              "       [ 0.07288131,  0.00608206, -0.03828615, -0.0401794 ,  0.0844957 ,\n",
              "         0.07903732, -0.00402353, -0.01395912, -0.03705047,  0.05797658],\n",
              "       [-0.0049801 , -0.00593746, -0.01379501, -0.01872819, -0.02410615,\n",
              "        -0.04946835, -0.01319673, -0.03904151, -0.21711619, -0.0317557 ]],\n",
              "      dtype=float32)"
            ]
          },
          "metadata": {
            "tags": []
          },
          "execution_count": 24
        },
        {
          "output_type": "execute_result",
          "data": {
            "text/plain": [
              "(14, 10)"
            ]
          },
          "metadata": {
            "tags": []
          },
          "execution_count": 24
        }
      ]
    },
    {
      "cell_type": "code",
      "metadata": {
        "id": "hX5_TwKMJ71e",
        "colab_type": "code",
        "colab": {
          "base_uri": "https://localhost:8080/",
          "height": 54
        },
        "outputId": "79ed129e-0a40-4b9d-c009-6667ef50217e"
      },
      "source": [
        "# We saved the label encoder for extracting the embeddings\n",
        "le_dict['occupation'].items()"
      ],
      "execution_count": 25,
      "outputs": [
        {
          "output_type": "execute_result",
          "data": {
            "text/plain": [
              "dict_items([(' Adm-clerical', 0), (' Armed-Forces', 1), (' Craft-repair', 2), (' Exec-managerial', 3), (' Farming-fishing', 4), (' Handlers-cleaners', 5), (' Machine-op-inspct', 6), (' Other-service', 7), (' Priv-house-serv', 8), (' Prof-specialty', 9), (' Protective-serv', 10), (' Sales', 11), (' Tech-support', 12), (' Transport-moving', 13)])"
            ]
          },
          "metadata": {
            "tags": []
          },
          "execution_count": 25
        }
      ]
    },
    {
      "cell_type": "markdown",
      "metadata": {
        "id": "v8CUQ6DzjeoP",
        "colab_type": "text"
      },
      "source": [
        "# **Mapping of the embedding to the actual categories**"
      ]
    },
    {
      "cell_type": "code",
      "metadata": {
        "id": "vSXHKlq7J7yq",
        "colab_type": "code",
        "colab": {}
      },
      "source": [
        "# Need to extract embedding based on the label encoding\n",
        "occupation_embeddings = {idx:model.get_layer('occupation_Embedding').get_weights()[0][idx] for w, idx in le_dict['occupation'].items()}\n",
        "workclass_embeddings = {idx:model.get_layer('workclass_Embedding').get_weights()[0][idx] for w, idx in le_dict['workclass'].items()}\n"
      ],
      "execution_count": 0,
      "outputs": []
    },
    {
      "cell_type": "markdown",
      "metadata": {
        "id": "spLJlqs-yx-i",
        "colab_type": "text"
      },
      "source": [
        "Converting the arrays to DF to be merged with main dataset"
      ]
    },
    {
      "cell_type": "code",
      "metadata": {
        "id": "BlchMk7nJ7vX",
        "colab_type": "code",
        "colab": {}
      },
      "source": [
        "occupation_embeddings_df = pd.DataFrame(occupation_embeddings)\n",
        "workclass_embeddings_df = pd.DataFrame(workclass_embeddings)"
      ],
      "execution_count": 0,
      "outputs": []
    },
    {
      "cell_type": "code",
      "metadata": {
        "id": "7e86w1ksK0r_",
        "colab_type": "code",
        "colab": {
          "base_uri": "https://localhost:8080/",
          "height": 462
        },
        "outputId": "46b580de-b28c-4bf3-9e7e-a0c42fbee78f"
      },
      "source": [
        "occupation_embeddings_df = occupation_embeddings_df.T.reset_index()\n",
        "occupation_embeddings_df"
      ],
      "execution_count": 28,
      "outputs": [
        {
          "output_type": "execute_result",
          "data": {
            "text/html": [
              "<div>\n",
              "<style scoped>\n",
              "    .dataframe tbody tr th:only-of-type {\n",
              "        vertical-align: middle;\n",
              "    }\n",
              "\n",
              "    .dataframe tbody tr th {\n",
              "        vertical-align: top;\n",
              "    }\n",
              "\n",
              "    .dataframe thead th {\n",
              "        text-align: right;\n",
              "    }\n",
              "</style>\n",
              "<table border=\"1\" class=\"dataframe\">\n",
              "  <thead>\n",
              "    <tr style=\"text-align: right;\">\n",
              "      <th></th>\n",
              "      <th>index</th>\n",
              "      <th>0</th>\n",
              "      <th>1</th>\n",
              "      <th>2</th>\n",
              "      <th>3</th>\n",
              "      <th>4</th>\n",
              "      <th>5</th>\n",
              "      <th>6</th>\n",
              "      <th>7</th>\n",
              "      <th>8</th>\n",
              "      <th>9</th>\n",
              "    </tr>\n",
              "  </thead>\n",
              "  <tbody>\n",
              "    <tr>\n",
              "      <th>0</th>\n",
              "      <td>0</td>\n",
              "      <td>-0.056205</td>\n",
              "      <td>-0.030879</td>\n",
              "      <td>0.040063</td>\n",
              "      <td>0.059288</td>\n",
              "      <td>-0.005417</td>\n",
              "      <td>-0.056881</td>\n",
              "      <td>-0.019352</td>\n",
              "      <td>0.008140</td>\n",
              "      <td>0.087721</td>\n",
              "      <td>-0.103347</td>\n",
              "    </tr>\n",
              "    <tr>\n",
              "      <th>1</th>\n",
              "      <td>1</td>\n",
              "      <td>-0.084688</td>\n",
              "      <td>-0.039534</td>\n",
              "      <td>0.081210</td>\n",
              "      <td>0.082640</td>\n",
              "      <td>-0.139648</td>\n",
              "      <td>-0.155087</td>\n",
              "      <td>-0.162786</td>\n",
              "      <td>0.144823</td>\n",
              "      <td>0.002226</td>\n",
              "      <td>-0.114906</td>\n",
              "    </tr>\n",
              "    <tr>\n",
              "      <th>2</th>\n",
              "      <td>2</td>\n",
              "      <td>-0.022754</td>\n",
              "      <td>0.001570</td>\n",
              "      <td>0.007559</td>\n",
              "      <td>-0.107785</td>\n",
              "      <td>0.018897</td>\n",
              "      <td>-0.015495</td>\n",
              "      <td>-0.068750</td>\n",
              "      <td>-0.020588</td>\n",
              "      <td>-0.214555</td>\n",
              "      <td>0.109620</td>\n",
              "    </tr>\n",
              "    <tr>\n",
              "      <th>3</th>\n",
              "      <td>3</td>\n",
              "      <td>0.256035</td>\n",
              "      <td>0.140616</td>\n",
              "      <td>-0.127494</td>\n",
              "      <td>-0.179562</td>\n",
              "      <td>-0.047151</td>\n",
              "      <td>0.103961</td>\n",
              "      <td>0.152202</td>\n",
              "      <td>-0.134337</td>\n",
              "      <td>-0.060296</td>\n",
              "      <td>0.171085</td>\n",
              "    </tr>\n",
              "    <tr>\n",
              "      <th>4</th>\n",
              "      <td>4</td>\n",
              "      <td>-0.113171</td>\n",
              "      <td>-0.022540</td>\n",
              "      <td>0.059659</td>\n",
              "      <td>0.043383</td>\n",
              "      <td>-0.112892</td>\n",
              "      <td>-0.049893</td>\n",
              "      <td>-0.117676</td>\n",
              "      <td>0.111578</td>\n",
              "      <td>0.000949</td>\n",
              "      <td>-0.030681</td>\n",
              "    </tr>\n",
              "    <tr>\n",
              "      <th>5</th>\n",
              "      <td>5</td>\n",
              "      <td>-0.116177</td>\n",
              "      <td>-0.109684</td>\n",
              "      <td>0.053714</td>\n",
              "      <td>0.089307</td>\n",
              "      <td>-0.075221</td>\n",
              "      <td>-0.072394</td>\n",
              "      <td>-0.129213</td>\n",
              "      <td>0.095442</td>\n",
              "      <td>0.065590</td>\n",
              "      <td>-0.126813</td>\n",
              "    </tr>\n",
              "    <tr>\n",
              "      <th>6</th>\n",
              "      <td>6</td>\n",
              "      <td>-0.061785</td>\n",
              "      <td>-0.007254</td>\n",
              "      <td>0.030511</td>\n",
              "      <td>0.081503</td>\n",
              "      <td>-0.008837</td>\n",
              "      <td>0.001092</td>\n",
              "      <td>-0.041440</td>\n",
              "      <td>0.066231</td>\n",
              "      <td>0.040247</td>\n",
              "      <td>-0.054828</td>\n",
              "    </tr>\n",
              "    <tr>\n",
              "      <th>7</th>\n",
              "      <td>7</td>\n",
              "      <td>-0.154477</td>\n",
              "      <td>-0.073486</td>\n",
              "      <td>0.153872</td>\n",
              "      <td>0.091423</td>\n",
              "      <td>-0.131587</td>\n",
              "      <td>-0.156350</td>\n",
              "      <td>-0.136727</td>\n",
              "      <td>0.127910</td>\n",
              "      <td>0.059578</td>\n",
              "      <td>-0.143014</td>\n",
              "    </tr>\n",
              "    <tr>\n",
              "      <th>8</th>\n",
              "      <td>8</td>\n",
              "      <td>-0.532300</td>\n",
              "      <td>-0.381008</td>\n",
              "      <td>0.418270</td>\n",
              "      <td>0.409180</td>\n",
              "      <td>-0.547760</td>\n",
              "      <td>-0.535239</td>\n",
              "      <td>-0.520046</td>\n",
              "      <td>0.531452</td>\n",
              "      <td>0.258093</td>\n",
              "      <td>-0.493326</td>\n",
              "    </tr>\n",
              "    <tr>\n",
              "      <th>9</th>\n",
              "      <td>9</td>\n",
              "      <td>0.144328</td>\n",
              "      <td>0.009430</td>\n",
              "      <td>-0.120844</td>\n",
              "      <td>-0.033551</td>\n",
              "      <td>0.164692</td>\n",
              "      <td>0.200233</td>\n",
              "      <td>0.112684</td>\n",
              "      <td>-0.085906</td>\n",
              "      <td>0.129784</td>\n",
              "      <td>0.080481</td>\n",
              "    </tr>\n",
              "    <tr>\n",
              "      <th>10</th>\n",
              "      <td>10</td>\n",
              "      <td>0.076160</td>\n",
              "      <td>0.043469</td>\n",
              "      <td>-0.065646</td>\n",
              "      <td>-0.025215</td>\n",
              "      <td>-0.058480</td>\n",
              "      <td>-0.027679</td>\n",
              "      <td>0.053951</td>\n",
              "      <td>0.011016</td>\n",
              "      <td>0.016093</td>\n",
              "      <td>-0.007730</td>\n",
              "    </tr>\n",
              "    <tr>\n",
              "      <th>11</th>\n",
              "      <td>11</td>\n",
              "      <td>-0.008063</td>\n",
              "      <td>0.006302</td>\n",
              "      <td>-0.007825</td>\n",
              "      <td>-0.059650</td>\n",
              "      <td>0.034950</td>\n",
              "      <td>0.035825</td>\n",
              "      <td>0.007265</td>\n",
              "      <td>0.001672</td>\n",
              "      <td>0.015601</td>\n",
              "      <td>-0.017743</td>\n",
              "    </tr>\n",
              "    <tr>\n",
              "      <th>12</th>\n",
              "      <td>12</td>\n",
              "      <td>0.072881</td>\n",
              "      <td>0.006082</td>\n",
              "      <td>-0.038286</td>\n",
              "      <td>-0.040179</td>\n",
              "      <td>0.084496</td>\n",
              "      <td>0.079037</td>\n",
              "      <td>-0.004024</td>\n",
              "      <td>-0.013959</td>\n",
              "      <td>-0.037050</td>\n",
              "      <td>0.057977</td>\n",
              "    </tr>\n",
              "    <tr>\n",
              "      <th>13</th>\n",
              "      <td>13</td>\n",
              "      <td>-0.004980</td>\n",
              "      <td>-0.005937</td>\n",
              "      <td>-0.013795</td>\n",
              "      <td>-0.018728</td>\n",
              "      <td>-0.024106</td>\n",
              "      <td>-0.049468</td>\n",
              "      <td>-0.013197</td>\n",
              "      <td>-0.039042</td>\n",
              "      <td>-0.217116</td>\n",
              "      <td>-0.031756</td>\n",
              "    </tr>\n",
              "  </tbody>\n",
              "</table>\n",
              "</div>"
            ],
            "text/plain": [
              "    index         0         1         2  ...         6         7         8         9\n",
              "0       0 -0.056205 -0.030879  0.040063  ... -0.019352  0.008140  0.087721 -0.103347\n",
              "1       1 -0.084688 -0.039534  0.081210  ... -0.162786  0.144823  0.002226 -0.114906\n",
              "2       2 -0.022754  0.001570  0.007559  ... -0.068750 -0.020588 -0.214555  0.109620\n",
              "3       3  0.256035  0.140616 -0.127494  ...  0.152202 -0.134337 -0.060296  0.171085\n",
              "4       4 -0.113171 -0.022540  0.059659  ... -0.117676  0.111578  0.000949 -0.030681\n",
              "5       5 -0.116177 -0.109684  0.053714  ... -0.129213  0.095442  0.065590 -0.126813\n",
              "6       6 -0.061785 -0.007254  0.030511  ... -0.041440  0.066231  0.040247 -0.054828\n",
              "7       7 -0.154477 -0.073486  0.153872  ... -0.136727  0.127910  0.059578 -0.143014\n",
              "8       8 -0.532300 -0.381008  0.418270  ... -0.520046  0.531452  0.258093 -0.493326\n",
              "9       9  0.144328  0.009430 -0.120844  ...  0.112684 -0.085906  0.129784  0.080481\n",
              "10     10  0.076160  0.043469 -0.065646  ...  0.053951  0.011016  0.016093 -0.007730\n",
              "11     11 -0.008063  0.006302 -0.007825  ...  0.007265  0.001672  0.015601 -0.017743\n",
              "12     12  0.072881  0.006082 -0.038286  ... -0.004024 -0.013959 -0.037050  0.057977\n",
              "13     13 -0.004980 -0.005937 -0.013795  ... -0.013197 -0.039042 -0.217116 -0.031756\n",
              "\n",
              "[14 rows x 11 columns]"
            ]
          },
          "metadata": {
            "tags": []
          },
          "execution_count": 28
        }
      ]
    },
    {
      "cell_type": "code",
      "metadata": {
        "id": "SZ_9nRXLK0vX",
        "colab_type": "code",
        "colab": {
          "base_uri": "https://localhost:8080/",
          "height": 254
        },
        "outputId": "e141433d-21a4-4ac0-89b6-e8ba639d3c27"
      },
      "source": [
        "workclass_embeddings_df = workclass_embeddings_df.T.reset_index()\n",
        "workclass_embeddings_df"
      ],
      "execution_count": 29,
      "outputs": [
        {
          "output_type": "execute_result",
          "data": {
            "text/html": [
              "<div>\n",
              "<style scoped>\n",
              "    .dataframe tbody tr th:only-of-type {\n",
              "        vertical-align: middle;\n",
              "    }\n",
              "\n",
              "    .dataframe tbody tr th {\n",
              "        vertical-align: top;\n",
              "    }\n",
              "\n",
              "    .dataframe thead th {\n",
              "        text-align: right;\n",
              "    }\n",
              "</style>\n",
              "<table border=\"1\" class=\"dataframe\">\n",
              "  <thead>\n",
              "    <tr style=\"text-align: right;\">\n",
              "      <th></th>\n",
              "      <th>index</th>\n",
              "      <th>0</th>\n",
              "      <th>1</th>\n",
              "      <th>2</th>\n",
              "      <th>3</th>\n",
              "      <th>4</th>\n",
              "      <th>5</th>\n",
              "      <th>6</th>\n",
              "      <th>7</th>\n",
              "      <th>8</th>\n",
              "      <th>9</th>\n",
              "    </tr>\n",
              "  </thead>\n",
              "  <tbody>\n",
              "    <tr>\n",
              "      <th>0</th>\n",
              "      <td>0</td>\n",
              "      <td>0.065251</td>\n",
              "      <td>0.054829</td>\n",
              "      <td>0.052168</td>\n",
              "      <td>-0.042792</td>\n",
              "      <td>-0.123390</td>\n",
              "      <td>-0.040135</td>\n",
              "      <td>0.017370</td>\n",
              "      <td>0.105708</td>\n",
              "      <td>-0.016955</td>\n",
              "      <td>0.065858</td>\n",
              "    </tr>\n",
              "    <tr>\n",
              "      <th>1</th>\n",
              "      <td>1</td>\n",
              "      <td>-0.077729</td>\n",
              "      <td>-0.046281</td>\n",
              "      <td>0.087011</td>\n",
              "      <td>0.089190</td>\n",
              "      <td>-0.056032</td>\n",
              "      <td>-0.076197</td>\n",
              "      <td>0.027304</td>\n",
              "      <td>0.019267</td>\n",
              "      <td>-0.177443</td>\n",
              "      <td>-0.057996</td>\n",
              "    </tr>\n",
              "    <tr>\n",
              "      <th>2</th>\n",
              "      <td>2</td>\n",
              "      <td>-0.019389</td>\n",
              "      <td>-0.032390</td>\n",
              "      <td>-0.059625</td>\n",
              "      <td>0.002374</td>\n",
              "      <td>0.073951</td>\n",
              "      <td>0.015554</td>\n",
              "      <td>0.004016</td>\n",
              "      <td>-0.032503</td>\n",
              "      <td>0.022155</td>\n",
              "      <td>-0.018663</td>\n",
              "    </tr>\n",
              "    <tr>\n",
              "      <th>3</th>\n",
              "      <td>3</td>\n",
              "      <td>0.186769</td>\n",
              "      <td>0.167536</td>\n",
              "      <td>-0.030352</td>\n",
              "      <td>-0.157883</td>\n",
              "      <td>-0.145384</td>\n",
              "      <td>-0.087900</td>\n",
              "      <td>-0.079213</td>\n",
              "      <td>0.054446</td>\n",
              "      <td>0.099544</td>\n",
              "      <td>0.141559</td>\n",
              "    </tr>\n",
              "    <tr>\n",
              "      <th>4</th>\n",
              "      <td>4</td>\n",
              "      <td>0.059106</td>\n",
              "      <td>0.023699</td>\n",
              "      <td>0.182632</td>\n",
              "      <td>0.007499</td>\n",
              "      <td>-0.090333</td>\n",
              "      <td>0.141061</td>\n",
              "      <td>0.033191</td>\n",
              "      <td>0.022829</td>\n",
              "      <td>0.085911</td>\n",
              "      <td>0.026345</td>\n",
              "    </tr>\n",
              "    <tr>\n",
              "      <th>5</th>\n",
              "      <td>5</td>\n",
              "      <td>-0.077293</td>\n",
              "      <td>-0.027625</td>\n",
              "      <td>0.003319</td>\n",
              "      <td>0.103048</td>\n",
              "      <td>0.037393</td>\n",
              "      <td>0.115861</td>\n",
              "      <td>0.028717</td>\n",
              "      <td>-0.093015</td>\n",
              "      <td>-0.009083</td>\n",
              "      <td>-0.036188</td>\n",
              "    </tr>\n",
              "    <tr>\n",
              "      <th>6</th>\n",
              "      <td>6</td>\n",
              "      <td>-0.395478</td>\n",
              "      <td>-0.422735</td>\n",
              "      <td>-0.482212</td>\n",
              "      <td>0.239012</td>\n",
              "      <td>0.474124</td>\n",
              "      <td>-0.274315</td>\n",
              "      <td>-0.243138</td>\n",
              "      <td>-0.444380</td>\n",
              "      <td>-0.396375</td>\n",
              "      <td>-0.415911</td>\n",
              "    </tr>\n",
              "  </tbody>\n",
              "</table>\n",
              "</div>"
            ],
            "text/plain": [
              "   index         0         1         2  ...         6         7         8         9\n",
              "0      0  0.065251  0.054829  0.052168  ...  0.017370  0.105708 -0.016955  0.065858\n",
              "1      1 -0.077729 -0.046281  0.087011  ...  0.027304  0.019267 -0.177443 -0.057996\n",
              "2      2 -0.019389 -0.032390 -0.059625  ...  0.004016 -0.032503  0.022155 -0.018663\n",
              "3      3  0.186769  0.167536 -0.030352  ... -0.079213  0.054446  0.099544  0.141559\n",
              "4      4  0.059106  0.023699  0.182632  ...  0.033191  0.022829  0.085911  0.026345\n",
              "5      5 -0.077293 -0.027625  0.003319  ...  0.028717 -0.093015 -0.009083 -0.036188\n",
              "6      6 -0.395478 -0.422735 -0.482212  ... -0.243138 -0.444380 -0.396375 -0.415911\n",
              "\n",
              "[7 rows x 11 columns]"
            ]
          },
          "metadata": {
            "tags": []
          },
          "execution_count": 29
        }
      ]
    },
    {
      "cell_type": "markdown",
      "metadata": {
        "id": "8emoB13XzOAM",
        "colab_type": "text"
      },
      "source": [
        "TSNE visualization for workclass embeddings"
      ]
    },
    {
      "cell_type": "code",
      "metadata": {
        "id": "UQKWsNqpLdeY",
        "colab_type": "code",
        "colab": {
          "base_uri": "https://localhost:8080/",
          "height": 140
        },
        "outputId": "3b7010b9-dbbf-4b6f-8714-c8dadcc6ba76"
      },
      "source": [
        "time_start = time.time()\n",
        "tsne = TSNE(n_components=2, verbose=1, perplexity=40, n_iter=300)\n",
        "tsne_results = tsne.fit_transform(workclass_embeddings_df.T)"
      ],
      "execution_count": 30,
      "outputs": [
        {
          "output_type": "stream",
          "text": [
            "[t-SNE] Computing 10 nearest neighbors...\n",
            "[t-SNE] Indexed 11 samples in 0.000s...\n",
            "[t-SNE] Computed neighbors for 11 samples in 0.001s...\n",
            "[t-SNE] Computed conditional probabilities for sample 11 / 11\n",
            "[t-SNE] Mean sigma: 1125899906842624.000000\n",
            "[t-SNE] KL divergence after 250 iterations with early exaggeration: 61.591038\n",
            "[t-SNE] KL divergence after 300 iterations: 0.723627\n"
          ],
          "name": "stdout"
        }
      ]
    },
    {
      "cell_type": "code",
      "metadata": {
        "id": "0LBD775XLzt6",
        "colab_type": "code",
        "colab": {
          "base_uri": "https://localhost:8080/",
          "height": 624
        },
        "outputId": "f26d3cb7-ac73-4600-ddc2-823c17fabc18"
      },
      "source": [
        "tsne_df = pd.DataFrame()\n",
        "tsne_df['comp1'] = tsne_results[:,0]\n",
        "tsne_df['comp2'] = tsne_results[:,1]\n",
        "plt.figure(figsize=(16,10))\n",
        "sns.scatterplot(\n",
        "    x=\"comp1\", y=\"comp2\",\n",
        "    data=tsne_df,\n",
        "    legend=\"full\",\n",
        "    alpha=1\n",
        ")"
      ],
      "execution_count": 31,
      "outputs": [
        {
          "output_type": "execute_result",
          "data": {
            "text/plain": [
              "<Figure size 1152x720 with 0 Axes>"
            ]
          },
          "metadata": {
            "tags": []
          },
          "execution_count": 31
        },
        {
          "output_type": "execute_result",
          "data": {
            "text/plain": [
              "<matplotlib.axes._subplots.AxesSubplot at 0x7f265c3fd240>"
            ]
          },
          "metadata": {
            "tags": []
          },
          "execution_count": 31
        },
        {
          "output_type": "display_data",
          "data": {
            "image/png": "[encoded data removed]",
            "text/plain": [
              "<Figure size 1152x720 with 1 Axes>"
            ]
          },
          "metadata": {
            "tags": [],
            "needs_background": "light"
          }
        }
      ]
    },
    {
      "cell_type": "markdown",
      "metadata": {
        "id": "An9DALbKznHB",
        "colab_type": "text"
      },
      "source": [
        "*   Since we want to evaluate on the performance on the same data set as XGB\n",
        "*   Combining the XGB dataset together to replace workclass column with embedding\n",
        "\n"
      ]
    },
    {
      "cell_type": "code",
      "metadata": {
        "id": "QgL_NTT_Nhcw",
        "colab_type": "code",
        "colab": {}
      },
      "source": [
        "# Dataset used for training XGB model\n",
        "df_train_CE = pd.concat([X_train, y_train], axis = 1)\n",
        "# Dataset used for testing XGB model\n",
        "df_test_CE = pd.concat([X_test, y_test], axis = 1)"
      ],
      "execution_count": 0,
      "outputs": []
    },
    {
      "cell_type": "code",
      "metadata": {
        "id": "nfnKwItR7VcE",
        "colab_type": "code",
        "colab": {}
      },
      "source": [
        "# This is the hold out sample for final ROC calculation\n",
        "test_data_CE = test_data"
      ],
      "execution_count": 0,
      "outputs": []
    },
    {
      "cell_type": "markdown",
      "metadata": {
        "id": "jVcr5nWZ0iK-",
        "colab_type": "text"
      },
      "source": [
        "Merging the embedding into structured data for training data"
      ]
    },
    {
      "cell_type": "code",
      "metadata": {
        "id": "Yt0geXOANhaE",
        "colab_type": "code",
        "colab": {
          "base_uri": "https://localhost:8080/",
          "height": 455
        },
        "outputId": "f2d5e3b5-e547-4cee-f93c-8d77970eb03b"
      },
      "source": [
        "X_train_CE = pd.merge(df_train_CE, workclass_embeddings_df, how = 'inner', left_on='workclass', right_on='index')\n",
        "y_train = X_train_CE['target']\n",
        "X_train_CE.drop(['workclass', 'index', 'target'], axis=1, inplace=True)\n",
        "X_train_CE"
      ],
      "execution_count": 34,
      "outputs": [
        {
          "output_type": "execute_result",
          "data": {
            "text/html": [
              "<div>\n",
              "<style scoped>\n",
              "    .dataframe tbody tr th:only-of-type {\n",
              "        vertical-align: middle;\n",
              "    }\n",
              "\n",
              "    .dataframe tbody tr th {\n",
              "        vertical-align: top;\n",
              "    }\n",
              "\n",
              "    .dataframe thead th {\n",
              "        text-align: right;\n",
              "    }\n",
              "</style>\n",
              "<table border=\"1\" class=\"dataframe\">\n",
              "  <thead>\n",
              "    <tr style=\"text-align: right;\">\n",
              "      <th></th>\n",
              "      <th>age</th>\n",
              "      <th>fnlwgt</th>\n",
              "      <th>education</th>\n",
              "      <th>education-num</th>\n",
              "      <th>marital-status</th>\n",
              "      <th>occupation</th>\n",
              "      <th>relationship</th>\n",
              "      <th>race</th>\n",
              "      <th>sex</th>\n",
              "      <th>capital-gain</th>\n",
              "      <th>capital-loss</th>\n",
              "      <th>hours-per-week</th>\n",
              "      <th>native-country</th>\n",
              "      <th>0</th>\n",
              "      <th>1</th>\n",
              "      <th>2</th>\n",
              "      <th>3</th>\n",
              "      <th>4</th>\n",
              "      <th>5</th>\n",
              "      <th>6</th>\n",
              "      <th>7</th>\n",
              "      <th>8</th>\n",
              "      <th>9</th>\n",
              "    </tr>\n",
              "  </thead>\n",
              "  <tbody>\n",
              "    <tr>\n",
              "      <th>0</th>\n",
              "      <td>28</td>\n",
              "      <td>92262</td>\n",
              "      <td>9</td>\n",
              "      <td>13</td>\n",
              "      <td>2</td>\n",
              "      <td>11</td>\n",
              "      <td>0</td>\n",
              "      <td>4</td>\n",
              "      <td>1</td>\n",
              "      <td>0</td>\n",
              "      <td>0</td>\n",
              "      <td>40</td>\n",
              "      <td>38</td>\n",
              "      <td>-0.019389</td>\n",
              "      <td>-0.032390</td>\n",
              "      <td>-0.059625</td>\n",
              "      <td>0.002374</td>\n",
              "      <td>0.073951</td>\n",
              "      <td>0.015554</td>\n",
              "      <td>0.004016</td>\n",
              "      <td>-0.032503</td>\n",
              "      <td>0.022155</td>\n",
              "      <td>-0.018663</td>\n",
              "    </tr>\n",
              "    <tr>\n",
              "      <th>1</th>\n",
              "      <td>49</td>\n",
              "      <td>281647</td>\n",
              "      <td>9</td>\n",
              "      <td>13</td>\n",
              "      <td>2</td>\n",
              "      <td>11</td>\n",
              "      <td>0</td>\n",
              "      <td>4</td>\n",
              "      <td>1</td>\n",
              "      <td>0</td>\n",
              "      <td>0</td>\n",
              "      <td>45</td>\n",
              "      <td>38</td>\n",
              "      <td>-0.019389</td>\n",
              "      <td>-0.032390</td>\n",
              "      <td>-0.059625</td>\n",
              "      <td>0.002374</td>\n",
              "      <td>0.073951</td>\n",
              "      <td>0.015554</td>\n",
              "      <td>0.004016</td>\n",
              "      <td>-0.032503</td>\n",
              "      <td>0.022155</td>\n",
              "      <td>-0.018663</td>\n",
              "    </tr>\n",
              "    <tr>\n",
              "      <th>2</th>\n",
              "      <td>39</td>\n",
              "      <td>231491</td>\n",
              "      <td>11</td>\n",
              "      <td>9</td>\n",
              "      <td>4</td>\n",
              "      <td>5</td>\n",
              "      <td>2</td>\n",
              "      <td>4</td>\n",
              "      <td>1</td>\n",
              "      <td>0</td>\n",
              "      <td>0</td>\n",
              "      <td>40</td>\n",
              "      <td>38</td>\n",
              "      <td>-0.019389</td>\n",
              "      <td>-0.032390</td>\n",
              "      <td>-0.059625</td>\n",
              "      <td>0.002374</td>\n",
              "      <td>0.073951</td>\n",
              "      <td>0.015554</td>\n",
              "      <td>0.004016</td>\n",
              "      <td>-0.032503</td>\n",
              "      <td>0.022155</td>\n",
              "      <td>-0.018663</td>\n",
              "    </tr>\n",
              "    <tr>\n",
              "      <th>3</th>\n",
              "      <td>36</td>\n",
              "      <td>183902</td>\n",
              "      <td>9</td>\n",
              "      <td>13</td>\n",
              "      <td>2</td>\n",
              "      <td>9</td>\n",
              "      <td>5</td>\n",
              "      <td>4</td>\n",
              "      <td>0</td>\n",
              "      <td>0</td>\n",
              "      <td>0</td>\n",
              "      <td>4</td>\n",
              "      <td>38</td>\n",
              "      <td>-0.019389</td>\n",
              "      <td>-0.032390</td>\n",
              "      <td>-0.059625</td>\n",
              "      <td>0.002374</td>\n",
              "      <td>0.073951</td>\n",
              "      <td>0.015554</td>\n",
              "      <td>0.004016</td>\n",
              "      <td>-0.032503</td>\n",
              "      <td>0.022155</td>\n",
              "      <td>-0.018663</td>\n",
              "    </tr>\n",
              "    <tr>\n",
              "      <th>4</th>\n",
              "      <td>27</td>\n",
              "      <td>153078</td>\n",
              "      <td>14</td>\n",
              "      <td>15</td>\n",
              "      <td>4</td>\n",
              "      <td>9</td>\n",
              "      <td>3</td>\n",
              "      <td>1</td>\n",
              "      <td>1</td>\n",
              "      <td>0</td>\n",
              "      <td>0</td>\n",
              "      <td>40</td>\n",
              "      <td>38</td>\n",
              "      <td>-0.019389</td>\n",
              "      <td>-0.032390</td>\n",
              "      <td>-0.059625</td>\n",
              "      <td>0.002374</td>\n",
              "      <td>0.073951</td>\n",
              "      <td>0.015554</td>\n",
              "      <td>0.004016</td>\n",
              "      <td>-0.032503</td>\n",
              "      <td>0.022155</td>\n",
              "      <td>-0.018663</td>\n",
              "    </tr>\n",
              "    <tr>\n",
              "      <th>...</th>\n",
              "      <td>...</td>\n",
              "      <td>...</td>\n",
              "      <td>...</td>\n",
              "      <td>...</td>\n",
              "      <td>...</td>\n",
              "      <td>...</td>\n",
              "      <td>...</td>\n",
              "      <td>...</td>\n",
              "      <td>...</td>\n",
              "      <td>...</td>\n",
              "      <td>...</td>\n",
              "      <td>...</td>\n",
              "      <td>...</td>\n",
              "      <td>...</td>\n",
              "      <td>...</td>\n",
              "      <td>...</td>\n",
              "      <td>...</td>\n",
              "      <td>...</td>\n",
              "      <td>...</td>\n",
              "      <td>...</td>\n",
              "      <td>...</td>\n",
              "      <td>...</td>\n",
              "      <td>...</td>\n",
              "    </tr>\n",
              "    <tr>\n",
              "      <th>22616</th>\n",
              "      <td>68</td>\n",
              "      <td>174695</td>\n",
              "      <td>15</td>\n",
              "      <td>10</td>\n",
              "      <td>3</td>\n",
              "      <td>4</td>\n",
              "      <td>4</td>\n",
              "      <td>4</td>\n",
              "      <td>0</td>\n",
              "      <td>0</td>\n",
              "      <td>0</td>\n",
              "      <td>25</td>\n",
              "      <td>38</td>\n",
              "      <td>-0.395478</td>\n",
              "      <td>-0.422735</td>\n",
              "      <td>-0.482212</td>\n",
              "      <td>0.239012</td>\n",
              "      <td>0.474124</td>\n",
              "      <td>-0.274315</td>\n",
              "      <td>-0.243138</td>\n",
              "      <td>-0.444380</td>\n",
              "      <td>-0.396375</td>\n",
              "      <td>-0.415911</td>\n",
              "    </tr>\n",
              "    <tr>\n",
              "      <th>22617</th>\n",
              "      <td>46</td>\n",
              "      <td>142210</td>\n",
              "      <td>11</td>\n",
              "      <td>9</td>\n",
              "      <td>2</td>\n",
              "      <td>6</td>\n",
              "      <td>5</td>\n",
              "      <td>4</td>\n",
              "      <td>0</td>\n",
              "      <td>0</td>\n",
              "      <td>0</td>\n",
              "      <td>25</td>\n",
              "      <td>38</td>\n",
              "      <td>-0.395478</td>\n",
              "      <td>-0.422735</td>\n",
              "      <td>-0.482212</td>\n",
              "      <td>0.239012</td>\n",
              "      <td>0.474124</td>\n",
              "      <td>-0.274315</td>\n",
              "      <td>-0.243138</td>\n",
              "      <td>-0.444380</td>\n",
              "      <td>-0.396375</td>\n",
              "      <td>-0.415911</td>\n",
              "    </tr>\n",
              "    <tr>\n",
              "      <th>22618</th>\n",
              "      <td>62</td>\n",
              "      <td>170114</td>\n",
              "      <td>7</td>\n",
              "      <td>12</td>\n",
              "      <td>2</td>\n",
              "      <td>4</td>\n",
              "      <td>0</td>\n",
              "      <td>4</td>\n",
              "      <td>1</td>\n",
              "      <td>0</td>\n",
              "      <td>0</td>\n",
              "      <td>50</td>\n",
              "      <td>38</td>\n",
              "      <td>-0.395478</td>\n",
              "      <td>-0.422735</td>\n",
              "      <td>-0.482212</td>\n",
              "      <td>0.239012</td>\n",
              "      <td>0.474124</td>\n",
              "      <td>-0.274315</td>\n",
              "      <td>-0.243138</td>\n",
              "      <td>-0.444380</td>\n",
              "      <td>-0.396375</td>\n",
              "      <td>-0.415911</td>\n",
              "    </tr>\n",
              "    <tr>\n",
              "      <th>22619</th>\n",
              "      <td>21</td>\n",
              "      <td>232719</td>\n",
              "      <td>11</td>\n",
              "      <td>9</td>\n",
              "      <td>4</td>\n",
              "      <td>2</td>\n",
              "      <td>3</td>\n",
              "      <td>2</td>\n",
              "      <td>1</td>\n",
              "      <td>0</td>\n",
              "      <td>0</td>\n",
              "      <td>40</td>\n",
              "      <td>38</td>\n",
              "      <td>-0.395478</td>\n",
              "      <td>-0.422735</td>\n",
              "      <td>-0.482212</td>\n",
              "      <td>0.239012</td>\n",
              "      <td>0.474124</td>\n",
              "      <td>-0.274315</td>\n",
              "      <td>-0.243138</td>\n",
              "      <td>-0.444380</td>\n",
              "      <td>-0.396375</td>\n",
              "      <td>-0.415911</td>\n",
              "    </tr>\n",
              "    <tr>\n",
              "      <th>22620</th>\n",
              "      <td>19</td>\n",
              "      <td>43887</td>\n",
              "      <td>11</td>\n",
              "      <td>9</td>\n",
              "      <td>4</td>\n",
              "      <td>4</td>\n",
              "      <td>3</td>\n",
              "      <td>4</td>\n",
              "      <td>1</td>\n",
              "      <td>0</td>\n",
              "      <td>0</td>\n",
              "      <td>10</td>\n",
              "      <td>38</td>\n",
              "      <td>-0.395478</td>\n",
              "      <td>-0.422735</td>\n",
              "      <td>-0.482212</td>\n",
              "      <td>0.239012</td>\n",
              "      <td>0.474124</td>\n",
              "      <td>-0.274315</td>\n",
              "      <td>-0.243138</td>\n",
              "      <td>-0.444380</td>\n",
              "      <td>-0.396375</td>\n",
              "      <td>-0.415911</td>\n",
              "    </tr>\n",
              "  </tbody>\n",
              "</table>\n",
              "<p>22621 rows × 23 columns</p>\n",
              "</div>"
            ],
            "text/plain": [
              "       age  fnlwgt  education  ...         7         8         9\n",
              "0       28   92262          9  ... -0.032503  0.022155 -0.018663\n",
              "1       49  281647          9  ... -0.032503  0.022155 -0.018663\n",
              "2       39  231491         11  ... -0.032503  0.022155 -0.018663\n",
              "3       36  183902          9  ... -0.032503  0.022155 -0.018663\n",
              "4       27  153078         14  ... -0.032503  0.022155 -0.018663\n",
              "...    ...     ...        ...  ...       ...       ...       ...\n",
              "22616   68  174695         15  ... -0.444380 -0.396375 -0.415911\n",
              "22617   46  142210         11  ... -0.444380 -0.396375 -0.415911\n",
              "22618   62  170114          7  ... -0.444380 -0.396375 -0.415911\n",
              "22619   21  232719         11  ... -0.444380 -0.396375 -0.415911\n",
              "22620   19   43887         11  ... -0.444380 -0.396375 -0.415911\n",
              "\n",
              "[22621 rows x 23 columns]"
            ]
          },
          "metadata": {
            "tags": []
          },
          "execution_count": 34
        }
      ]
    },
    {
      "cell_type": "code",
      "metadata": {
        "id": "jFPPb6SKOC-L",
        "colab_type": "code",
        "colab": {
          "base_uri": "https://localhost:8080/",
          "height": 455
        },
        "outputId": "b06d9227-da23-4f4d-e1a5-7a6b026748b4"
      },
      "source": [
        "X_test_CE = pd.merge(df_test_CE, workclass_embeddings_df, how = 'inner', left_on='workclass', right_on='index')\n",
        "y_test = X_test_CE['target']\n",
        "X_test_CE.drop(['workclass', 'index', 'target'], axis=1, inplace=True)\n",
        "X_test_CE"
      ],
      "execution_count": 35,
      "outputs": [
        {
          "output_type": "execute_result",
          "data": {
            "text/html": [
              "<div>\n",
              "<style scoped>\n",
              "    .dataframe tbody tr th:only-of-type {\n",
              "        vertical-align: middle;\n",
              "    }\n",
              "\n",
              "    .dataframe tbody tr th {\n",
              "        vertical-align: top;\n",
              "    }\n",
              "\n",
              "    .dataframe thead th {\n",
              "        text-align: right;\n",
              "    }\n",
              "</style>\n",
              "<table border=\"1\" class=\"dataframe\">\n",
              "  <thead>\n",
              "    <tr style=\"text-align: right;\">\n",
              "      <th></th>\n",
              "      <th>age</th>\n",
              "      <th>fnlwgt</th>\n",
              "      <th>education</th>\n",
              "      <th>education-num</th>\n",
              "      <th>marital-status</th>\n",
              "      <th>occupation</th>\n",
              "      <th>relationship</th>\n",
              "      <th>race</th>\n",
              "      <th>sex</th>\n",
              "      <th>capital-gain</th>\n",
              "      <th>capital-loss</th>\n",
              "      <th>hours-per-week</th>\n",
              "      <th>native-country</th>\n",
              "      <th>0</th>\n",
              "      <th>1</th>\n",
              "      <th>2</th>\n",
              "      <th>3</th>\n",
              "      <th>4</th>\n",
              "      <th>5</th>\n",
              "      <th>6</th>\n",
              "      <th>7</th>\n",
              "      <th>8</th>\n",
              "      <th>9</th>\n",
              "    </tr>\n",
              "  </thead>\n",
              "  <tbody>\n",
              "    <tr>\n",
              "      <th>0</th>\n",
              "      <td>28</td>\n",
              "      <td>76714</td>\n",
              "      <td>14</td>\n",
              "      <td>15</td>\n",
              "      <td>4</td>\n",
              "      <td>9</td>\n",
              "      <td>1</td>\n",
              "      <td>4</td>\n",
              "      <td>1</td>\n",
              "      <td>0</td>\n",
              "      <td>0</td>\n",
              "      <td>55</td>\n",
              "      <td>38</td>\n",
              "      <td>-0.019389</td>\n",
              "      <td>-0.032390</td>\n",
              "      <td>-0.059625</td>\n",
              "      <td>0.002374</td>\n",
              "      <td>0.073951</td>\n",
              "      <td>0.015554</td>\n",
              "      <td>0.004016</td>\n",
              "      <td>-0.032503</td>\n",
              "      <td>0.022155</td>\n",
              "      <td>-0.018663</td>\n",
              "    </tr>\n",
              "    <tr>\n",
              "      <th>1</th>\n",
              "      <td>41</td>\n",
              "      <td>178431</td>\n",
              "      <td>11</td>\n",
              "      <td>9</td>\n",
              "      <td>2</td>\n",
              "      <td>2</td>\n",
              "      <td>0</td>\n",
              "      <td>1</td>\n",
              "      <td>1</td>\n",
              "      <td>0</td>\n",
              "      <td>0</td>\n",
              "      <td>40</td>\n",
              "      <td>35</td>\n",
              "      <td>-0.019389</td>\n",
              "      <td>-0.032390</td>\n",
              "      <td>-0.059625</td>\n",
              "      <td>0.002374</td>\n",
              "      <td>0.073951</td>\n",
              "      <td>0.015554</td>\n",
              "      <td>0.004016</td>\n",
              "      <td>-0.032503</td>\n",
              "      <td>0.022155</td>\n",
              "      <td>-0.018663</td>\n",
              "    </tr>\n",
              "    <tr>\n",
              "      <th>2</th>\n",
              "      <td>53</td>\n",
              "      <td>290640</td>\n",
              "      <td>11</td>\n",
              "      <td>9</td>\n",
              "      <td>2</td>\n",
              "      <td>7</td>\n",
              "      <td>0</td>\n",
              "      <td>4</td>\n",
              "      <td>1</td>\n",
              "      <td>0</td>\n",
              "      <td>0</td>\n",
              "      <td>50</td>\n",
              "      <td>10</td>\n",
              "      <td>-0.019389</td>\n",
              "      <td>-0.032390</td>\n",
              "      <td>-0.059625</td>\n",
              "      <td>0.002374</td>\n",
              "      <td>0.073951</td>\n",
              "      <td>0.015554</td>\n",
              "      <td>0.004016</td>\n",
              "      <td>-0.032503</td>\n",
              "      <td>0.022155</td>\n",
              "      <td>-0.018663</td>\n",
              "    </tr>\n",
              "    <tr>\n",
              "      <th>3</th>\n",
              "      <td>31</td>\n",
              "      <td>215297</td>\n",
              "      <td>11</td>\n",
              "      <td>9</td>\n",
              "      <td>2</td>\n",
              "      <td>2</td>\n",
              "      <td>0</td>\n",
              "      <td>4</td>\n",
              "      <td>1</td>\n",
              "      <td>0</td>\n",
              "      <td>0</td>\n",
              "      <td>45</td>\n",
              "      <td>38</td>\n",
              "      <td>-0.019389</td>\n",
              "      <td>-0.032390</td>\n",
              "      <td>-0.059625</td>\n",
              "      <td>0.002374</td>\n",
              "      <td>0.073951</td>\n",
              "      <td>0.015554</td>\n",
              "      <td>0.004016</td>\n",
              "      <td>-0.032503</td>\n",
              "      <td>0.022155</td>\n",
              "      <td>-0.018663</td>\n",
              "    </tr>\n",
              "    <tr>\n",
              "      <th>4</th>\n",
              "      <td>34</td>\n",
              "      <td>94413</td>\n",
              "      <td>11</td>\n",
              "      <td>9</td>\n",
              "      <td>2</td>\n",
              "      <td>13</td>\n",
              "      <td>0</td>\n",
              "      <td>4</td>\n",
              "      <td>1</td>\n",
              "      <td>0</td>\n",
              "      <td>0</td>\n",
              "      <td>40</td>\n",
              "      <td>38</td>\n",
              "      <td>-0.019389</td>\n",
              "      <td>-0.032390</td>\n",
              "      <td>-0.059625</td>\n",
              "      <td>0.002374</td>\n",
              "      <td>0.073951</td>\n",
              "      <td>0.015554</td>\n",
              "      <td>0.004016</td>\n",
              "      <td>-0.032503</td>\n",
              "      <td>0.022155</td>\n",
              "      <td>-0.018663</td>\n",
              "    </tr>\n",
              "    <tr>\n",
              "      <th>...</th>\n",
              "      <td>...</td>\n",
              "      <td>...</td>\n",
              "      <td>...</td>\n",
              "      <td>...</td>\n",
              "      <td>...</td>\n",
              "      <td>...</td>\n",
              "      <td>...</td>\n",
              "      <td>...</td>\n",
              "      <td>...</td>\n",
              "      <td>...</td>\n",
              "      <td>...</td>\n",
              "      <td>...</td>\n",
              "      <td>...</td>\n",
              "      <td>...</td>\n",
              "      <td>...</td>\n",
              "      <td>...</td>\n",
              "      <td>...</td>\n",
              "      <td>...</td>\n",
              "      <td>...</td>\n",
              "      <td>...</td>\n",
              "      <td>...</td>\n",
              "      <td>...</td>\n",
              "      <td>...</td>\n",
              "    </tr>\n",
              "    <tr>\n",
              "      <th>7536</th>\n",
              "      <td>29</td>\n",
              "      <td>31161</td>\n",
              "      <td>11</td>\n",
              "      <td>9</td>\n",
              "      <td>0</td>\n",
              "      <td>3</td>\n",
              "      <td>1</td>\n",
              "      <td>3</td>\n",
              "      <td>0</td>\n",
              "      <td>0</td>\n",
              "      <td>0</td>\n",
              "      <td>40</td>\n",
              "      <td>38</td>\n",
              "      <td>0.065251</td>\n",
              "      <td>0.054829</td>\n",
              "      <td>0.052168</td>\n",
              "      <td>-0.042792</td>\n",
              "      <td>-0.123390</td>\n",
              "      <td>-0.040135</td>\n",
              "      <td>0.017370</td>\n",
              "      <td>0.105708</td>\n",
              "      <td>-0.016955</td>\n",
              "      <td>0.065858</td>\n",
              "    </tr>\n",
              "    <tr>\n",
              "      <th>7537</th>\n",
              "      <td>30</td>\n",
              "      <td>321990</td>\n",
              "      <td>15</td>\n",
              "      <td>10</td>\n",
              "      <td>2</td>\n",
              "      <td>0</td>\n",
              "      <td>0</td>\n",
              "      <td>4</td>\n",
              "      <td>1</td>\n",
              "      <td>7298</td>\n",
              "      <td>0</td>\n",
              "      <td>48</td>\n",
              "      <td>4</td>\n",
              "      <td>0.065251</td>\n",
              "      <td>0.054829</td>\n",
              "      <td>0.052168</td>\n",
              "      <td>-0.042792</td>\n",
              "      <td>-0.123390</td>\n",
              "      <td>-0.040135</td>\n",
              "      <td>0.017370</td>\n",
              "      <td>0.105708</td>\n",
              "      <td>-0.016955</td>\n",
              "      <td>0.065858</td>\n",
              "    </tr>\n",
              "    <tr>\n",
              "      <th>7538</th>\n",
              "      <td>72</td>\n",
              "      <td>121004</td>\n",
              "      <td>11</td>\n",
              "      <td>9</td>\n",
              "      <td>2</td>\n",
              "      <td>7</td>\n",
              "      <td>0</td>\n",
              "      <td>4</td>\n",
              "      <td>1</td>\n",
              "      <td>0</td>\n",
              "      <td>0</td>\n",
              "      <td>55</td>\n",
              "      <td>38</td>\n",
              "      <td>-0.395478</td>\n",
              "      <td>-0.422735</td>\n",
              "      <td>-0.482212</td>\n",
              "      <td>0.239012</td>\n",
              "      <td>0.474124</td>\n",
              "      <td>-0.274315</td>\n",
              "      <td>-0.243138</td>\n",
              "      <td>-0.444380</td>\n",
              "      <td>-0.396375</td>\n",
              "      <td>-0.415911</td>\n",
              "    </tr>\n",
              "    <tr>\n",
              "      <th>7539</th>\n",
              "      <td>52</td>\n",
              "      <td>198262</td>\n",
              "      <td>11</td>\n",
              "      <td>9</td>\n",
              "      <td>2</td>\n",
              "      <td>0</td>\n",
              "      <td>5</td>\n",
              "      <td>4</td>\n",
              "      <td>0</td>\n",
              "      <td>0</td>\n",
              "      <td>0</td>\n",
              "      <td>30</td>\n",
              "      <td>38</td>\n",
              "      <td>-0.395478</td>\n",
              "      <td>-0.422735</td>\n",
              "      <td>-0.482212</td>\n",
              "      <td>0.239012</td>\n",
              "      <td>0.474124</td>\n",
              "      <td>-0.274315</td>\n",
              "      <td>-0.243138</td>\n",
              "      <td>-0.444380</td>\n",
              "      <td>-0.396375</td>\n",
              "      <td>-0.415911</td>\n",
              "    </tr>\n",
              "    <tr>\n",
              "      <th>7540</th>\n",
              "      <td>67</td>\n",
              "      <td>137192</td>\n",
              "      <td>11</td>\n",
              "      <td>9</td>\n",
              "      <td>2</td>\n",
              "      <td>0</td>\n",
              "      <td>0</td>\n",
              "      <td>1</td>\n",
              "      <td>1</td>\n",
              "      <td>0</td>\n",
              "      <td>0</td>\n",
              "      <td>12</td>\n",
              "      <td>29</td>\n",
              "      <td>-0.395478</td>\n",
              "      <td>-0.422735</td>\n",
              "      <td>-0.482212</td>\n",
              "      <td>0.239012</td>\n",
              "      <td>0.474124</td>\n",
              "      <td>-0.274315</td>\n",
              "      <td>-0.243138</td>\n",
              "      <td>-0.444380</td>\n",
              "      <td>-0.396375</td>\n",
              "      <td>-0.415911</td>\n",
              "    </tr>\n",
              "  </tbody>\n",
              "</table>\n",
              "<p>7541 rows × 23 columns</p>\n",
              "</div>"
            ],
            "text/plain": [
              "      age  fnlwgt  education  ...         7         8         9\n",
              "0      28   76714         14  ... -0.032503  0.022155 -0.018663\n",
              "1      41  178431         11  ... -0.032503  0.022155 -0.018663\n",
              "2      53  290640         11  ... -0.032503  0.022155 -0.018663\n",
              "3      31  215297         11  ... -0.032503  0.022155 -0.018663\n",
              "4      34   94413         11  ... -0.032503  0.022155 -0.018663\n",
              "...   ...     ...        ...  ...       ...       ...       ...\n",
              "7536   29   31161         11  ...  0.105708 -0.016955  0.065858\n",
              "7537   30  321990         15  ...  0.105708 -0.016955  0.065858\n",
              "7538   72  121004         11  ... -0.444380 -0.396375 -0.415911\n",
              "7539   52  198262         11  ... -0.444380 -0.396375 -0.415911\n",
              "7540   67  137192         11  ... -0.444380 -0.396375 -0.415911\n",
              "\n",
              "[7541 rows x 23 columns]"
            ]
          },
          "metadata": {
            "tags": []
          },
          "execution_count": 35
        }
      ]
    },
    {
      "cell_type": "code",
      "metadata": {
        "id": "yuJOf0Y-5oxK",
        "colab_type": "code",
        "colab": {
          "base_uri": "https://localhost:8080/",
          "height": 455
        },
        "outputId": "ab03288c-ddb1-47a3-eeb1-1c6512c5f651"
      },
      "source": [
        "test_data_CE = pd.merge(test_data_CE, workclass_embeddings_df, how = 'inner', left_on='workclass', right_on='index')\n",
        "test_data_CE.drop(['workclass', 'index'], axis=1, inplace=True)\n",
        "test_data_CE"
      ],
      "execution_count": 36,
      "outputs": [
        {
          "output_type": "execute_result",
          "data": {
            "text/html": [
              "<div>\n",
              "<style scoped>\n",
              "    .dataframe tbody tr th:only-of-type {\n",
              "        vertical-align: middle;\n",
              "    }\n",
              "\n",
              "    .dataframe tbody tr th {\n",
              "        vertical-align: top;\n",
              "    }\n",
              "\n",
              "    .dataframe thead th {\n",
              "        text-align: right;\n",
              "    }\n",
              "</style>\n",
              "<table border=\"1\" class=\"dataframe\">\n",
              "  <thead>\n",
              "    <tr style=\"text-align: right;\">\n",
              "      <th></th>\n",
              "      <th>age</th>\n",
              "      <th>fnlwgt</th>\n",
              "      <th>education</th>\n",
              "      <th>education-num</th>\n",
              "      <th>marital-status</th>\n",
              "      <th>occupation</th>\n",
              "      <th>relationship</th>\n",
              "      <th>race</th>\n",
              "      <th>sex</th>\n",
              "      <th>capital-gain</th>\n",
              "      <th>capital-loss</th>\n",
              "      <th>hours-per-week</th>\n",
              "      <th>native-country</th>\n",
              "      <th>target</th>\n",
              "      <th>0</th>\n",
              "      <th>1</th>\n",
              "      <th>2</th>\n",
              "      <th>3</th>\n",
              "      <th>4</th>\n",
              "      <th>5</th>\n",
              "      <th>6</th>\n",
              "      <th>7</th>\n",
              "      <th>8</th>\n",
              "      <th>9</th>\n",
              "    </tr>\n",
              "  </thead>\n",
              "  <tbody>\n",
              "    <tr>\n",
              "      <th>0</th>\n",
              "      <td>25</td>\n",
              "      <td>226802</td>\n",
              "      <td>1</td>\n",
              "      <td>7</td>\n",
              "      <td>4</td>\n",
              "      <td>6</td>\n",
              "      <td>3</td>\n",
              "      <td>2</td>\n",
              "      <td>1</td>\n",
              "      <td>0</td>\n",
              "      <td>0</td>\n",
              "      <td>40</td>\n",
              "      <td>38</td>\n",
              "      <td>0</td>\n",
              "      <td>-0.019389</td>\n",
              "      <td>-0.032390</td>\n",
              "      <td>-0.059625</td>\n",
              "      <td>0.002374</td>\n",
              "      <td>0.073951</td>\n",
              "      <td>0.015554</td>\n",
              "      <td>0.004016</td>\n",
              "      <td>-0.032503</td>\n",
              "      <td>0.022155</td>\n",
              "      <td>-0.018663</td>\n",
              "    </tr>\n",
              "    <tr>\n",
              "      <th>1</th>\n",
              "      <td>38</td>\n",
              "      <td>89814</td>\n",
              "      <td>11</td>\n",
              "      <td>9</td>\n",
              "      <td>2</td>\n",
              "      <td>4</td>\n",
              "      <td>0</td>\n",
              "      <td>4</td>\n",
              "      <td>1</td>\n",
              "      <td>0</td>\n",
              "      <td>0</td>\n",
              "      <td>50</td>\n",
              "      <td>38</td>\n",
              "      <td>0</td>\n",
              "      <td>-0.019389</td>\n",
              "      <td>-0.032390</td>\n",
              "      <td>-0.059625</td>\n",
              "      <td>0.002374</td>\n",
              "      <td>0.073951</td>\n",
              "      <td>0.015554</td>\n",
              "      <td>0.004016</td>\n",
              "      <td>-0.032503</td>\n",
              "      <td>0.022155</td>\n",
              "      <td>-0.018663</td>\n",
              "    </tr>\n",
              "    <tr>\n",
              "      <th>2</th>\n",
              "      <td>44</td>\n",
              "      <td>160323</td>\n",
              "      <td>15</td>\n",
              "      <td>10</td>\n",
              "      <td>2</td>\n",
              "      <td>6</td>\n",
              "      <td>0</td>\n",
              "      <td>2</td>\n",
              "      <td>1</td>\n",
              "      <td>7688</td>\n",
              "      <td>0</td>\n",
              "      <td>40</td>\n",
              "      <td>38</td>\n",
              "      <td>1</td>\n",
              "      <td>-0.019389</td>\n",
              "      <td>-0.032390</td>\n",
              "      <td>-0.059625</td>\n",
              "      <td>0.002374</td>\n",
              "      <td>0.073951</td>\n",
              "      <td>0.015554</td>\n",
              "      <td>0.004016</td>\n",
              "      <td>-0.032503</td>\n",
              "      <td>0.022155</td>\n",
              "      <td>-0.018663</td>\n",
              "    </tr>\n",
              "    <tr>\n",
              "      <th>3</th>\n",
              "      <td>34</td>\n",
              "      <td>198693</td>\n",
              "      <td>0</td>\n",
              "      <td>6</td>\n",
              "      <td>4</td>\n",
              "      <td>7</td>\n",
              "      <td>1</td>\n",
              "      <td>4</td>\n",
              "      <td>1</td>\n",
              "      <td>0</td>\n",
              "      <td>0</td>\n",
              "      <td>30</td>\n",
              "      <td>38</td>\n",
              "      <td>0</td>\n",
              "      <td>-0.019389</td>\n",
              "      <td>-0.032390</td>\n",
              "      <td>-0.059625</td>\n",
              "      <td>0.002374</td>\n",
              "      <td>0.073951</td>\n",
              "      <td>0.015554</td>\n",
              "      <td>0.004016</td>\n",
              "      <td>-0.032503</td>\n",
              "      <td>0.022155</td>\n",
              "      <td>-0.018663</td>\n",
              "    </tr>\n",
              "    <tr>\n",
              "      <th>4</th>\n",
              "      <td>24</td>\n",
              "      <td>369667</td>\n",
              "      <td>15</td>\n",
              "      <td>10</td>\n",
              "      <td>4</td>\n",
              "      <td>7</td>\n",
              "      <td>4</td>\n",
              "      <td>4</td>\n",
              "      <td>0</td>\n",
              "      <td>0</td>\n",
              "      <td>0</td>\n",
              "      <td>40</td>\n",
              "      <td>38</td>\n",
              "      <td>0</td>\n",
              "      <td>-0.019389</td>\n",
              "      <td>-0.032390</td>\n",
              "      <td>-0.059625</td>\n",
              "      <td>0.002374</td>\n",
              "      <td>0.073951</td>\n",
              "      <td>0.015554</td>\n",
              "      <td>0.004016</td>\n",
              "      <td>-0.032503</td>\n",
              "      <td>0.022155</td>\n",
              "      <td>-0.018663</td>\n",
              "    </tr>\n",
              "    <tr>\n",
              "      <th>...</th>\n",
              "      <td>...</td>\n",
              "      <td>...</td>\n",
              "      <td>...</td>\n",
              "      <td>...</td>\n",
              "      <td>...</td>\n",
              "      <td>...</td>\n",
              "      <td>...</td>\n",
              "      <td>...</td>\n",
              "      <td>...</td>\n",
              "      <td>...</td>\n",
              "      <td>...</td>\n",
              "      <td>...</td>\n",
              "      <td>...</td>\n",
              "      <td>...</td>\n",
              "      <td>...</td>\n",
              "      <td>...</td>\n",
              "      <td>...</td>\n",
              "      <td>...</td>\n",
              "      <td>...</td>\n",
              "      <td>...</td>\n",
              "      <td>...</td>\n",
              "      <td>...</td>\n",
              "      <td>...</td>\n",
              "      <td>...</td>\n",
              "    </tr>\n",
              "    <tr>\n",
              "      <th>15055</th>\n",
              "      <td>51</td>\n",
              "      <td>124963</td>\n",
              "      <td>7</td>\n",
              "      <td>12</td>\n",
              "      <td>2</td>\n",
              "      <td>11</td>\n",
              "      <td>0</td>\n",
              "      <td>4</td>\n",
              "      <td>1</td>\n",
              "      <td>0</td>\n",
              "      <td>0</td>\n",
              "      <td>45</td>\n",
              "      <td>38</td>\n",
              "      <td>0</td>\n",
              "      <td>-0.395478</td>\n",
              "      <td>-0.422735</td>\n",
              "      <td>-0.482212</td>\n",
              "      <td>0.239012</td>\n",
              "      <td>0.474124</td>\n",
              "      <td>-0.274315</td>\n",
              "      <td>-0.243138</td>\n",
              "      <td>-0.444380</td>\n",
              "      <td>-0.396375</td>\n",
              "      <td>-0.415911</td>\n",
              "    </tr>\n",
              "    <tr>\n",
              "      <th>15056</th>\n",
              "      <td>64</td>\n",
              "      <td>209291</td>\n",
              "      <td>11</td>\n",
              "      <td>9</td>\n",
              "      <td>2</td>\n",
              "      <td>5</td>\n",
              "      <td>0</td>\n",
              "      <td>4</td>\n",
              "      <td>1</td>\n",
              "      <td>0</td>\n",
              "      <td>0</td>\n",
              "      <td>60</td>\n",
              "      <td>38</td>\n",
              "      <td>1</td>\n",
              "      <td>-0.395478</td>\n",
              "      <td>-0.422735</td>\n",
              "      <td>-0.482212</td>\n",
              "      <td>0.239012</td>\n",
              "      <td>0.474124</td>\n",
              "      <td>-0.274315</td>\n",
              "      <td>-0.243138</td>\n",
              "      <td>-0.444380</td>\n",
              "      <td>-0.396375</td>\n",
              "      <td>-0.415911</td>\n",
              "    </tr>\n",
              "    <tr>\n",
              "      <th>15057</th>\n",
              "      <td>50</td>\n",
              "      <td>123004</td>\n",
              "      <td>11</td>\n",
              "      <td>9</td>\n",
              "      <td>2</td>\n",
              "      <td>6</td>\n",
              "      <td>3</td>\n",
              "      <td>4</td>\n",
              "      <td>0</td>\n",
              "      <td>0</td>\n",
              "      <td>1887</td>\n",
              "      <td>40</td>\n",
              "      <td>38</td>\n",
              "      <td>1</td>\n",
              "      <td>-0.395478</td>\n",
              "      <td>-0.422735</td>\n",
              "      <td>-0.482212</td>\n",
              "      <td>0.239012</td>\n",
              "      <td>0.474124</td>\n",
              "      <td>-0.274315</td>\n",
              "      <td>-0.243138</td>\n",
              "      <td>-0.444380</td>\n",
              "      <td>-0.396375</td>\n",
              "      <td>-0.415911</td>\n",
              "    </tr>\n",
              "    <tr>\n",
              "      <th>15058</th>\n",
              "      <td>39</td>\n",
              "      <td>334291</td>\n",
              "      <td>11</td>\n",
              "      <td>9</td>\n",
              "      <td>2</td>\n",
              "      <td>3</td>\n",
              "      <td>0</td>\n",
              "      <td>4</td>\n",
              "      <td>1</td>\n",
              "      <td>0</td>\n",
              "      <td>0</td>\n",
              "      <td>40</td>\n",
              "      <td>38</td>\n",
              "      <td>0</td>\n",
              "      <td>-0.395478</td>\n",
              "      <td>-0.422735</td>\n",
              "      <td>-0.482212</td>\n",
              "      <td>0.239012</td>\n",
              "      <td>0.474124</td>\n",
              "      <td>-0.274315</td>\n",
              "      <td>-0.243138</td>\n",
              "      <td>-0.444380</td>\n",
              "      <td>-0.396375</td>\n",
              "      <td>-0.415911</td>\n",
              "    </tr>\n",
              "    <tr>\n",
              "      <th>15059</th>\n",
              "      <td>27</td>\n",
              "      <td>35034</td>\n",
              "      <td>11</td>\n",
              "      <td>9</td>\n",
              "      <td>4</td>\n",
              "      <td>4</td>\n",
              "      <td>3</td>\n",
              "      <td>4</td>\n",
              "      <td>0</td>\n",
              "      <td>0</td>\n",
              "      <td>0</td>\n",
              "      <td>40</td>\n",
              "      <td>38</td>\n",
              "      <td>0</td>\n",
              "      <td>-0.395478</td>\n",
              "      <td>-0.422735</td>\n",
              "      <td>-0.482212</td>\n",
              "      <td>0.239012</td>\n",
              "      <td>0.474124</td>\n",
              "      <td>-0.274315</td>\n",
              "      <td>-0.243138</td>\n",
              "      <td>-0.444380</td>\n",
              "      <td>-0.396375</td>\n",
              "      <td>-0.415911</td>\n",
              "    </tr>\n",
              "  </tbody>\n",
              "</table>\n",
              "<p>15060 rows × 24 columns</p>\n",
              "</div>"
            ],
            "text/plain": [
              "       age  fnlwgt  education  ...         7         8         9\n",
              "0       25  226802          1  ... -0.032503  0.022155 -0.018663\n",
              "1       38   89814         11  ... -0.032503  0.022155 -0.018663\n",
              "2       44  160323         15  ... -0.032503  0.022155 -0.018663\n",
              "3       34  198693          0  ... -0.032503  0.022155 -0.018663\n",
              "4       24  369667         15  ... -0.032503  0.022155 -0.018663\n",
              "...    ...     ...        ...  ...       ...       ...       ...\n",
              "15055   51  124963          7  ... -0.444380 -0.396375 -0.415911\n",
              "15056   64  209291         11  ... -0.444380 -0.396375 -0.415911\n",
              "15057   50  123004         11  ... -0.444380 -0.396375 -0.415911\n",
              "15058   39  334291         11  ... -0.444380 -0.396375 -0.415911\n",
              "15059   27   35034         11  ... -0.444380 -0.396375 -0.415911\n",
              "\n",
              "[15060 rows x 24 columns]"
            ]
          },
          "metadata": {
            "tags": []
          },
          "execution_count": 36
        }
      ]
    },
    {
      "cell_type": "markdown",
      "metadata": {
        "id": "NnD-wHsP1HwJ",
        "colab_type": "text"
      },
      "source": [
        "Using the exact same XGB model used before as well again"
      ]
    },
    {
      "cell_type": "code",
      "metadata": {
        "id": "nDc-SdRoQFyM",
        "colab_type": "code",
        "colab": {
          "base_uri": "https://localhost:8080/",
          "height": 1000
        },
        "outputId": "876fde5e-86e2-4238-d8a3-c6e6bb52f8ad"
      },
      "source": [
        "params = {'n_estimators' : 500,\n",
        "          'max_depth': 5,\n",
        "          'min_child_weight' : 50,\n",
        "          'gamma': 0.01}\n",
        "xgb_classifier = XGBClassifier(**params)\n",
        "xgb_classifier.fit(X_train_CE, y_train, eval_set=[(X_test_CE, y_test)], early_stopping_rounds=10)"
      ],
      "execution_count": 37,
      "outputs": [
        {
          "output_type": "stream",
          "text": [
            "[0]\tvalidation_0-error:0.152897\n",
            "Will train until validation_0-error hasn't improved in 10 rounds.\n",
            "[1]\tvalidation_0-error:0.148256\n",
            "[2]\tvalidation_0-error:0.147991\n",
            "[3]\tvalidation_0-error:0.148124\n",
            "[4]\tvalidation_0-error:0.150245\n",
            "[5]\tvalidation_0-error:0.149052\n",
            "[6]\tvalidation_0-error:0.148389\n",
            "[7]\tvalidation_0-error:0.149582\n",
            "[8]\tvalidation_0-error:0.146532\n",
            "[9]\tvalidation_0-error:0.147328\n",
            "[10]\tvalidation_0-error:0.147195\n",
            "[11]\tvalidation_0-error:0.147461\n",
            "[12]\tvalidation_0-error:0.147461\n",
            "[13]\tvalidation_0-error:0.147195\n",
            "[14]\tvalidation_0-error:0.146798\n",
            "[15]\tvalidation_0-error:0.145471\n",
            "[16]\tvalidation_0-error:0.145737\n",
            "[17]\tvalidation_0-error:0.144941\n",
            "[18]\tvalidation_0-error:0.144411\n",
            "[19]\tvalidation_0-error:0.144278\n",
            "[20]\tvalidation_0-error:0.144145\n",
            "[21]\tvalidation_0-error:0.144676\n",
            "[22]\tvalidation_0-error:0.144278\n",
            "[23]\tvalidation_0-error:0.143748\n",
            "[24]\tvalidation_0-error:0.144013\n",
            "[25]\tvalidation_0-error:0.143615\n",
            "[26]\tvalidation_0-error:0.143615\n",
            "[27]\tvalidation_0-error:0.143748\n",
            "[28]\tvalidation_0-error:0.143748\n",
            "[29]\tvalidation_0-error:0.142289\n",
            "[30]\tvalidation_0-error:0.142156\n",
            "[31]\tvalidation_0-error:0.142156\n",
            "[32]\tvalidation_0-error:0.141493\n",
            "[33]\tvalidation_0-error:0.141493\n",
            "[34]\tvalidation_0-error:0.140698\n",
            "[35]\tvalidation_0-error:0.141228\n",
            "[36]\tvalidation_0-error:0.141361\n",
            "[37]\tvalidation_0-error:0.141228\n",
            "[38]\tvalidation_0-error:0.140167\n",
            "[39]\tvalidation_0-error:0.140034\n",
            "[40]\tvalidation_0-error:0.139504\n",
            "[41]\tvalidation_0-error:0.139504\n",
            "[42]\tvalidation_0-error:0.139106\n",
            "[43]\tvalidation_0-error:0.139371\n",
            "[44]\tvalidation_0-error:0.139637\n",
            "[45]\tvalidation_0-error:0.139106\n",
            "[46]\tvalidation_0-error:0.138708\n",
            "[47]\tvalidation_0-error:0.139637\n",
            "[48]\tvalidation_0-error:0.138841\n",
            "[49]\tvalidation_0-error:0.139106\n",
            "[50]\tvalidation_0-error:0.139106\n",
            "[51]\tvalidation_0-error:0.136719\n",
            "[52]\tvalidation_0-error:0.136852\n",
            "[53]\tvalidation_0-error:0.136321\n",
            "[54]\tvalidation_0-error:0.136852\n",
            "[55]\tvalidation_0-error:0.136719\n",
            "[56]\tvalidation_0-error:0.136852\n",
            "[57]\tvalidation_0-error:0.13725\n",
            "[58]\tvalidation_0-error:0.136852\n",
            "[59]\tvalidation_0-error:0.136852\n",
            "[60]\tvalidation_0-error:0.137382\n",
            "[61]\tvalidation_0-error:0.136984\n",
            "[62]\tvalidation_0-error:0.137117\n",
            "[63]\tvalidation_0-error:0.13725\n",
            "Stopping. Best iteration:\n",
            "[53]\tvalidation_0-error:0.136321\n",
            "\n"
          ],
          "name": "stdout"
        },
        {
          "output_type": "execute_result",
          "data": {
            "text/plain": [
              "XGBClassifier(base_score=0.5, booster='gbtree', colsample_bylevel=1,\n",
              "              colsample_bynode=1, colsample_bytree=1, gamma=0.01,\n",
              "              learning_rate=0.1, max_delta_step=0, max_depth=5,\n",
              "              min_child_weight=50, missing=None, n_estimators=500, n_jobs=1,\n",
              "              nthread=None, objective='binary:logistic', random_state=0,\n",
              "              reg_alpha=0, reg_lambda=1, scale_pos_weight=1, seed=None,\n",
              "              silent=None, subsample=1, verbosity=1)"
            ]
          },
          "metadata": {
            "tags": []
          },
          "execution_count": 37
        }
      ]
    },
    {
      "cell_type": "code",
      "metadata": {
        "id": "fK-TIMkiQFvU",
        "colab_type": "code",
        "colab": {
          "base_uri": "https://localhost:8080/",
          "height": 52
        },
        "outputId": "054b48b9-b7ac-4701-a53e-c46f3cb71632"
      },
      "source": [
        "xgb_classifier.predict_proba(test_data_CE.drop(['target'], axis = 1))[:,1]"
      ],
      "execution_count": 38,
      "outputs": [
        {
          "output_type": "execute_result",
          "data": {
            "text/plain": [
              "array([0.00929443, 0.28064942, 0.96912664, ..., 0.30775526, 0.39566106,\n",
              "       0.00983931], dtype=float32)"
            ]
          },
          "metadata": {
            "tags": []
          },
          "execution_count": 38
        }
      ]
    },
    {
      "cell_type": "code",
      "metadata": {
        "id": "-P0TcNdzLzx3",
        "colab_type": "code",
        "colab": {
          "base_uri": "https://localhost:8080/",
          "height": 34
        },
        "outputId": "20bf4790-9249-46d4-dabc-c5ca0101c91c"
      },
      "source": [
        "roc_auc_score(test_data_CE['target'], xgb_classifier.predict_proba(test_data_CE.drop(['target'], axis = 1))[:,1])"
      ],
      "execution_count": 39,
      "outputs": [
        {
          "output_type": "execute_result",
          "data": {
            "text/plain": [
              "0.9119292086981348"
            ]
          },
          "metadata": {
            "tags": []
          },
          "execution_count": 39
        }
      ]
    },
    {
      "cell_type": "markdown",
      "metadata": {
        "id": "c80Drcmj1PrT",
        "colab_type": "text"
      },
      "source": [
        "# The performance of new model is slightly better than the old model"
      ]
    },
    {
      "cell_type": "code",
      "metadata": {
        "id": "xY1PVKRDLdiw",
        "colab_type": "code",
        "colab": {}
      },
      "source": [
        ""
      ],
      "execution_count": 0,
      "outputs": []
    },
    {
      "cell_type": "code",
      "metadata": {
        "id": "u0IWTMBAKsUr",
        "colab_type": "code",
        "colab": {}
      },
      "source": [
        ""
      ],
      "execution_count": 0,
      "outputs": []
    }
  ]
}