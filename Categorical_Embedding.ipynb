{
  "nbformat": 4,
  "nbformat_minor": 0,
  "metadata": {
    "colab": {
      "name": "Categorical Embedding.ipynb",
      "provenance": [],
      "collapsed_sections": [],
      "machine_shape": "hm",
      "mount_file_id": "1wGgGrqMxp34KNpxclbN0leKxxupB2Txa",
      "authorship_tag": "ABX9TyPUIqPgidcyN2t3qWoR39Tg"
    },
    "kernelspec": {
      "name": "python3",
      "display_name": "Python 3"
    }
  },
  "cells": [
    {
      "cell_type": "markdown",
      "metadata": {
        "id": "YvxDeBTQRYnq",
        "colab_type": "text"
      },
      "source": [
        "## **Categorical Embedding in Structured Data**"
      ]
    },
    {
      "cell_type": "markdown",
      "metadata": {
        "id": "4enEoq0GQ0tT",
        "colab_type": "text"
      },
      "source": [
        "## **Importing the required libraries**"
      ]
    },
    {
      "cell_type": "code",
      "metadata": {
        "id": "12zdIWiBb6wL",
        "colab_type": "code",
        "colab": {
          "base_uri": "https://localhost:8080/",
          "height": 90
        },
        "outputId": "da6f097b-c0dc-4928-f668-a3135818a55c"
      },
      "source": [
        "import pandas as pd\n",
        "import numpy as np\n",
        "import xgboost as xgb\n",
        "from xgboost import XGBClassifier\n",
        "import sklearn\n",
        "from sklearn.model_selection import train_test_split\n",
        "from sklearn.preprocessing import LabelEncoder\n",
        "from sklearn.metrics import roc_auc_score, f1_score\n",
        "import tensorflow as tf\n",
        "import tensorflow.keras as keras\n",
        "import os\n",
        "from keras.models import Sequential,Model\n",
        "from keras.models import Model as KerasModel\n",
        "from keras.layers import Input, Dense, Activation, Reshape\n",
        "from keras.layers import Concatenate, Dropout\n",
        "from keras.layers.embeddings import Embedding\n",
        "from keras.callbacks import ModelCheckpoint\n",
        "from keras.utils import plot_model\n",
        "import pydot_ng as pydot\n",
        "from IPython.core.interactiveshell import InteractiveShell\n",
        "InteractiveShell.ast_node_interactivity = \"all\"\n",
        "import matplotlib.pyplot as plt\n",
        "from IPython.display import Image\n",
        "from sklearn.manifold import TSNE\n",
        "%matplotlib inline\n",
        "import matplotlib.pyplot as plt\n",
        "from mpl_toolkits.mplot3d import Axes3D\n",
        "import seaborn as sns\n",
        "import time"
      ],
      "execution_count": null,
      "outputs": [
        {
          "output_type": "stream",
          "text": [
            "Using TensorFlow backend.\n",
            "/usr/local/lib/python3.6/dist-packages/statsmodels/tools/_testing.py:19: FutureWarning: pandas.util.testing is deprecated. Use the functions in the public API at pandas.testing instead.\n",
            "  import pandas.util.testing as tm\n"
          ],
          "name": "stderr"
        }
      ]
    },
    {
      "cell_type": "markdown",
      "metadata": {
        "id": "BEQodKqGRtQb",
        "colab_type": "text"
      },
      "source": [
        "**Column names**"
      ]
    },
    {
      "cell_type": "code",
      "metadata": {
        "id": "H_TRre49e0tV",
        "colab_type": "code",
        "colab": {}
      },
      "source": [
        "header = [\"age\", \"workclass\", 'fnlwgt', 'education', 'education-num', 'marital-status', \n",
        "          'occupation', 'relationship', 'race', 'sex', 'capital-gain', 'capital-loss',\n",
        "          'hours-per-week','native-country','target']"
      ],
      "execution_count": null,
      "outputs": []
    },
    {
      "cell_type": "markdown",
      "metadata": {
        "id": "VYir7CsfSBnq",
        "colab_type": "text"
      },
      "source": [
        "Setting up the path of data"
      ]
    },
    {
      "cell_type": "code",
      "metadata": {
        "id": "SW-mwhaKUoKK",
        "colab_type": "code",
        "colab": {}
      },
      "source": [
        "path = '/content/drive/My Drive/RmseAccuracy/CategoricalEmbedding'"
      ],
      "execution_count": null,
      "outputs": []
    },
    {
      "cell_type": "code",
      "metadata": {
        "id": "4TC3RzevUN-M",
        "colab_type": "code",
        "colab": {}
      },
      "source": [
        "def load_data(type='train', dataname = 'adult.data'):\n",
        "  \n",
        "  '''\n",
        "  This function load the train data and test data, does basic processing \n",
        "  required to load the data\n",
        "  Input - data type, data name\n",
        "  Return the pandas dataframe of the required csv file\n",
        "  '''\n",
        "\n",
        "  if type =='train':\n",
        "    data = pd.read_csv(os.path.join(path, dataname), header=None, names = header, na_values=[' ?'])\n",
        "    data = data.dropna()\n",
        "    data['target'] = np.where(data['target'].str.strip() == '<=50K', 0, 1)\n",
        "  else:\n",
        "    data = pd.read_csv(os.path.join(path, dataname), header=None, names = header, skiprows=1, na_values=[' ?'])\n",
        "    data = data.dropna()\n",
        "    data['target'] = np.where(data['target'].str.strip() == '<=50K.', 0, 1)\n",
        "  return data\n",
        "\n",
        "train_data = load_data('train', 'adult.data')\n",
        "test_data = load_data('test', 'adult.test')"
      ],
      "execution_count": null,
      "outputs": []
    },
    {
      "cell_type": "code",
      "metadata": {
        "id": "uWoNMpq6Au4M",
        "colab_type": "code",
        "colab": {
          "base_uri": "https://localhost:8080/",
          "height": 279
        },
        "outputId": "6e385e85-bfdb-4424-9d49-b0d6da62be88"
      },
      "source": [
        "train_data.head()"
      ],
      "execution_count": null,
      "outputs": [
        {
          "output_type": "execute_result",
          "data": {
            "text/html": [
              "<div>\n",
              "<style scoped>\n",
              "    .dataframe tbody tr th:only-of-type {\n",
              "        vertical-align: middle;\n",
              "    }\n",
              "\n",
              "    .dataframe tbody tr th {\n",
              "        vertical-align: top;\n",
              "    }\n",
              "\n",
              "    .dataframe thead th {\n",
              "        text-align: right;\n",
              "    }\n",
              "</style>\n",
              "<table border=\"1\" class=\"dataframe\">\n",
              "  <thead>\n",
              "    <tr style=\"text-align: right;\">\n",
              "      <th></th>\n",
              "      <th>age</th>\n",
              "      <th>workclass</th>\n",
              "      <th>fnlwgt</th>\n",
              "      <th>education</th>\n",
              "      <th>education-num</th>\n",
              "      <th>marital-status</th>\n",
              "      <th>occupation</th>\n",
              "      <th>relationship</th>\n",
              "      <th>race</th>\n",
              "      <th>sex</th>\n",
              "      <th>capital-gain</th>\n",
              "      <th>capital-loss</th>\n",
              "      <th>hours-per-week</th>\n",
              "      <th>native-country</th>\n",
              "      <th>target</th>\n",
              "    </tr>\n",
              "  </thead>\n",
              "  <tbody>\n",
              "    <tr>\n",
              "      <th>0</th>\n",
              "      <td>39</td>\n",
              "      <td>State-gov</td>\n",
              "      <td>77516</td>\n",
              "      <td>Bachelors</td>\n",
              "      <td>13</td>\n",
              "      <td>Never-married</td>\n",
              "      <td>Adm-clerical</td>\n",
              "      <td>Not-in-family</td>\n",
              "      <td>White</td>\n",
              "      <td>Male</td>\n",
              "      <td>2174</td>\n",
              "      <td>0</td>\n",
              "      <td>40</td>\n",
              "      <td>United-States</td>\n",
              "      <td>0</td>\n",
              "    </tr>\n",
              "    <tr>\n",
              "      <th>1</th>\n",
              "      <td>50</td>\n",
              "      <td>Self-emp-not-inc</td>\n",
              "      <td>83311</td>\n",
              "      <td>Bachelors</td>\n",
              "      <td>13</td>\n",
              "      <td>Married-civ-spouse</td>\n",
              "      <td>Exec-managerial</td>\n",
              "      <td>Husband</td>\n",
              "      <td>White</td>\n",
              "      <td>Male</td>\n",
              "      <td>0</td>\n",
              "      <td>0</td>\n",
              "      <td>13</td>\n",
              "      <td>United-States</td>\n",
              "      <td>0</td>\n",
              "    </tr>\n",
              "    <tr>\n",
              "      <th>2</th>\n",
              "      <td>38</td>\n",
              "      <td>Private</td>\n",
              "      <td>215646</td>\n",
              "      <td>HS-grad</td>\n",
              "      <td>9</td>\n",
              "      <td>Divorced</td>\n",
              "      <td>Handlers-cleaners</td>\n",
              "      <td>Not-in-family</td>\n",
              "      <td>White</td>\n",
              "      <td>Male</td>\n",
              "      <td>0</td>\n",
              "      <td>0</td>\n",
              "      <td>40</td>\n",
              "      <td>United-States</td>\n",
              "      <td>0</td>\n",
              "    </tr>\n",
              "    <tr>\n",
              "      <th>3</th>\n",
              "      <td>53</td>\n",
              "      <td>Private</td>\n",
              "      <td>234721</td>\n",
              "      <td>11th</td>\n",
              "      <td>7</td>\n",
              "      <td>Married-civ-spouse</td>\n",
              "      <td>Handlers-cleaners</td>\n",
              "      <td>Husband</td>\n",
              "      <td>Black</td>\n",
              "      <td>Male</td>\n",
              "      <td>0</td>\n",
              "      <td>0</td>\n",
              "      <td>40</td>\n",
              "      <td>United-States</td>\n",
              "      <td>0</td>\n",
              "    </tr>\n",
              "    <tr>\n",
              "      <th>4</th>\n",
              "      <td>28</td>\n",
              "      <td>Private</td>\n",
              "      <td>338409</td>\n",
              "      <td>Bachelors</td>\n",
              "      <td>13</td>\n",
              "      <td>Married-civ-spouse</td>\n",
              "      <td>Prof-specialty</td>\n",
              "      <td>Wife</td>\n",
              "      <td>Black</td>\n",
              "      <td>Female</td>\n",
              "      <td>0</td>\n",
              "      <td>0</td>\n",
              "      <td>40</td>\n",
              "      <td>Cuba</td>\n",
              "      <td>0</td>\n",
              "    </tr>\n",
              "  </tbody>\n",
              "</table>\n",
              "</div>"
            ],
            "text/plain": [
              "   age          workclass  fnlwgt  ... hours-per-week  native-country target\n",
              "0   39          State-gov   77516  ...             40   United-States      0\n",
              "1   50   Self-emp-not-inc   83311  ...             13   United-States      0\n",
              "2   38            Private  215646  ...             40   United-States      0\n",
              "3   53            Private  234721  ...             40   United-States      0\n",
              "4   28            Private  338409  ...             40            Cuba      0\n",
              "\n",
              "[5 rows x 15 columns]"
            ]
          },
          "metadata": {
            "tags": []
          },
          "execution_count": 7
        }
      ]
    },
    {
      "cell_type": "markdown",
      "metadata": {
        "id": "Xc2y-tScStWk",
        "colab_type": "text"
      },
      "source": [
        "Checking the categorical columns in the training data"
      ]
    },
    {
      "cell_type": "code",
      "metadata": {
        "id": "AgimJ0cBjGot",
        "colab_type": "code",
        "colab": {
          "base_uri": "https://localhost:8080/",
          "height": 70
        },
        "outputId": "b51af39f-a311-4b3d-8b15-0622021a4ca3"
      },
      "source": [
        "train_data.select_dtypes(['object']).columns"
      ],
      "execution_count": null,
      "outputs": [
        {
          "output_type": "execute_result",
          "data": {
            "text/plain": [
              "Index(['workclass', 'education', 'marital-status', 'occupation',\n",
              "       'relationship', 'race', 'sex', 'native-country'],\n",
              "      dtype='object')"
            ]
          },
          "metadata": {
            "tags": []
          },
          "execution_count": 8
        }
      ]
    },
    {
      "cell_type": "markdown",
      "metadata": {
        "id": "FMnbGtYzS3HW",
        "colab_type": "text"
      },
      "source": [
        "**Label encoding of all the categorical columns and saving the label encoder as dictionary**"
      ]
    },
    {
      "cell_type": "code",
      "metadata": {
        "id": "wjGtILGJqFvo",
        "colab_type": "code",
        "colab": {}
      },
      "source": [
        "le_dict= {}\n",
        "for col in train_data.select_dtypes(['object']):\n",
        "  le = LabelEncoder()\n",
        "  train_data[col] = le.fit_transform(train_data[col])\n",
        "  test_data[col] = le.transform(test_data[col])\n",
        "  #Save a mapping of categorical columns values and its transforamtion - needed \n",
        "  #later on for mapping purposes\n",
        "  le_dict[col] = dict(zip(le.classes_, le.transform(le.classes_)))"
      ],
      "execution_count": null,
      "outputs": []
    },
    {
      "cell_type": "code",
      "metadata": {
        "id": "rKucZos_IyAh",
        "colab_type": "code",
        "colab": {
          "base_uri": "https://localhost:8080/",
          "height": 1000
        },
        "outputId": "090e9390-5e3e-45ea-e540-3c77d4d59092"
      },
      "source": [
        "# Printing the label encoder dictionary\n",
        "le_dict"
      ],
      "execution_count": null,
      "outputs": [
        {
          "output_type": "execute_result",
          "data": {
            "text/plain": [
              "{'education': {' 10th': 0,\n",
              "  ' 11th': 1,\n",
              "  ' 12th': 2,\n",
              "  ' 1st-4th': 3,\n",
              "  ' 5th-6th': 4,\n",
              "  ' 7th-8th': 5,\n",
              "  ' 9th': 6,\n",
              "  ' Assoc-acdm': 7,\n",
              "  ' Assoc-voc': 8,\n",
              "  ' Bachelors': 9,\n",
              "  ' Doctorate': 10,\n",
              "  ' HS-grad': 11,\n",
              "  ' Masters': 12,\n",
              "  ' Preschool': 13,\n",
              "  ' Prof-school': 14,\n",
              "  ' Some-college': 15},\n",
              " 'marital-status': {' Divorced': 0,\n",
              "  ' Married-AF-spouse': 1,\n",
              "  ' Married-civ-spouse': 2,\n",
              "  ' Married-spouse-absent': 3,\n",
              "  ' Never-married': 4,\n",
              "  ' Separated': 5,\n",
              "  ' Widowed': 6},\n",
              " 'native-country': {' Cambodia': 0,\n",
              "  ' Canada': 1,\n",
              "  ' China': 2,\n",
              "  ' Columbia': 3,\n",
              "  ' Cuba': 4,\n",
              "  ' Dominican-Republic': 5,\n",
              "  ' Ecuador': 6,\n",
              "  ' El-Salvador': 7,\n",
              "  ' England': 8,\n",
              "  ' France': 9,\n",
              "  ' Germany': 10,\n",
              "  ' Greece': 11,\n",
              "  ' Guatemala': 12,\n",
              "  ' Haiti': 13,\n",
              "  ' Holand-Netherlands': 14,\n",
              "  ' Honduras': 15,\n",
              "  ' Hong': 16,\n",
              "  ' Hungary': 17,\n",
              "  ' India': 18,\n",
              "  ' Iran': 19,\n",
              "  ' Ireland': 20,\n",
              "  ' Italy': 21,\n",
              "  ' Jamaica': 22,\n",
              "  ' Japan': 23,\n",
              "  ' Laos': 24,\n",
              "  ' Mexico': 25,\n",
              "  ' Nicaragua': 26,\n",
              "  ' Outlying-US(Guam-USVI-etc)': 27,\n",
              "  ' Peru': 28,\n",
              "  ' Philippines': 29,\n",
              "  ' Poland': 30,\n",
              "  ' Portugal': 31,\n",
              "  ' Puerto-Rico': 32,\n",
              "  ' Scotland': 33,\n",
              "  ' South': 34,\n",
              "  ' Taiwan': 35,\n",
              "  ' Thailand': 36,\n",
              "  ' Trinadad&Tobago': 37,\n",
              "  ' United-States': 38,\n",
              "  ' Vietnam': 39,\n",
              "  ' Yugoslavia': 40},\n",
              " 'occupation': {' Adm-clerical': 0,\n",
              "  ' Armed-Forces': 1,\n",
              "  ' Craft-repair': 2,\n",
              "  ' Exec-managerial': 3,\n",
              "  ' Farming-fishing': 4,\n",
              "  ' Handlers-cleaners': 5,\n",
              "  ' Machine-op-inspct': 6,\n",
              "  ' Other-service': 7,\n",
              "  ' Priv-house-serv': 8,\n",
              "  ' Prof-specialty': 9,\n",
              "  ' Protective-serv': 10,\n",
              "  ' Sales': 11,\n",
              "  ' Tech-support': 12,\n",
              "  ' Transport-moving': 13},\n",
              " 'race': {' Amer-Indian-Eskimo': 0,\n",
              "  ' Asian-Pac-Islander': 1,\n",
              "  ' Black': 2,\n",
              "  ' Other': 3,\n",
              "  ' White': 4},\n",
              " 'relationship': {' Husband': 0,\n",
              "  ' Not-in-family': 1,\n",
              "  ' Other-relative': 2,\n",
              "  ' Own-child': 3,\n",
              "  ' Unmarried': 4,\n",
              "  ' Wife': 5},\n",
              " 'sex': {' Female': 0, ' Male': 1},\n",
              " 'workclass': {' Federal-gov': 0,\n",
              "  ' Local-gov': 1,\n",
              "  ' Private': 2,\n",
              "  ' Self-emp-inc': 3,\n",
              "  ' Self-emp-not-inc': 4,\n",
              "  ' State-gov': 5,\n",
              "  ' Without-pay': 6}}"
            ]
          },
          "metadata": {
            "tags": []
          },
          "execution_count": 10
        }
      ]
    },
    {
      "cell_type": "code",
      "metadata": {
        "id": "sff__B8EqchR",
        "colab_type": "code",
        "colab": {
          "base_uri": "https://localhost:8080/",
          "height": 195
        },
        "outputId": "6426d26d-915e-4772-8c9e-9401c98056c7"
      },
      "source": [
        "# Viewing the data after label encoding\n",
        "train_data.head()\n"
      ],
      "execution_count": null,
      "outputs": [
        {
          "output_type": "execute_result",
          "data": {
            "text/html": [
              "<div>\n",
              "<style scoped>\n",
              "    .dataframe tbody tr th:only-of-type {\n",
              "        vertical-align: middle;\n",
              "    }\n",
              "\n",
              "    .dataframe tbody tr th {\n",
              "        vertical-align: top;\n",
              "    }\n",
              "\n",
              "    .dataframe thead th {\n",
              "        text-align: right;\n",
              "    }\n",
              "</style>\n",
              "<table border=\"1\" class=\"dataframe\">\n",
              "  <thead>\n",
              "    <tr style=\"text-align: right;\">\n",
              "      <th></th>\n",
              "      <th>age</th>\n",
              "      <th>workclass</th>\n",
              "      <th>fnlwgt</th>\n",
              "      <th>education</th>\n",
              "      <th>education-num</th>\n",
              "      <th>marital-status</th>\n",
              "      <th>occupation</th>\n",
              "      <th>relationship</th>\n",
              "      <th>race</th>\n",
              "      <th>sex</th>\n",
              "      <th>capital-gain</th>\n",
              "      <th>capital-loss</th>\n",
              "      <th>hours-per-week</th>\n",
              "      <th>native-country</th>\n",
              "      <th>target</th>\n",
              "    </tr>\n",
              "  </thead>\n",
              "  <tbody>\n",
              "    <tr>\n",
              "      <th>0</th>\n",
              "      <td>39</td>\n",
              "      <td>5</td>\n",
              "      <td>77516</td>\n",
              "      <td>9</td>\n",
              "      <td>13</td>\n",
              "      <td>4</td>\n",
              "      <td>0</td>\n",
              "      <td>1</td>\n",
              "      <td>4</td>\n",
              "      <td>1</td>\n",
              "      <td>2174</td>\n",
              "      <td>0</td>\n",
              "      <td>40</td>\n",
              "      <td>38</td>\n",
              "      <td>0</td>\n",
              "    </tr>\n",
              "    <tr>\n",
              "      <th>1</th>\n",
              "      <td>50</td>\n",
              "      <td>4</td>\n",
              "      <td>83311</td>\n",
              "      <td>9</td>\n",
              "      <td>13</td>\n",
              "      <td>2</td>\n",
              "      <td>3</td>\n",
              "      <td>0</td>\n",
              "      <td>4</td>\n",
              "      <td>1</td>\n",
              "      <td>0</td>\n",
              "      <td>0</td>\n",
              "      <td>13</td>\n",
              "      <td>38</td>\n",
              "      <td>0</td>\n",
              "    </tr>\n",
              "    <tr>\n",
              "      <th>2</th>\n",
              "      <td>38</td>\n",
              "      <td>2</td>\n",
              "      <td>215646</td>\n",
              "      <td>11</td>\n",
              "      <td>9</td>\n",
              "      <td>0</td>\n",
              "      <td>5</td>\n",
              "      <td>1</td>\n",
              "      <td>4</td>\n",
              "      <td>1</td>\n",
              "      <td>0</td>\n",
              "      <td>0</td>\n",
              "      <td>40</td>\n",
              "      <td>38</td>\n",
              "      <td>0</td>\n",
              "    </tr>\n",
              "    <tr>\n",
              "      <th>3</th>\n",
              "      <td>53</td>\n",
              "      <td>2</td>\n",
              "      <td>234721</td>\n",
              "      <td>1</td>\n",
              "      <td>7</td>\n",
              "      <td>2</td>\n",
              "      <td>5</td>\n",
              "      <td>0</td>\n",
              "      <td>2</td>\n",
              "      <td>1</td>\n",
              "      <td>0</td>\n",
              "      <td>0</td>\n",
              "      <td>40</td>\n",
              "      <td>38</td>\n",
              "      <td>0</td>\n",
              "    </tr>\n",
              "    <tr>\n",
              "      <th>4</th>\n",
              "      <td>28</td>\n",
              "      <td>2</td>\n",
              "      <td>338409</td>\n",
              "      <td>9</td>\n",
              "      <td>13</td>\n",
              "      <td>2</td>\n",
              "      <td>9</td>\n",
              "      <td>5</td>\n",
              "      <td>2</td>\n",
              "      <td>0</td>\n",
              "      <td>0</td>\n",
              "      <td>0</td>\n",
              "      <td>40</td>\n",
              "      <td>4</td>\n",
              "      <td>0</td>\n",
              "    </tr>\n",
              "  </tbody>\n",
              "</table>\n",
              "</div>"
            ],
            "text/plain": [
              "   age  workclass  fnlwgt  ...  hours-per-week  native-country  target\n",
              "0   39          5   77516  ...              40              38       0\n",
              "1   50          4   83311  ...              13              38       0\n",
              "2   38          2  215646  ...              40              38       0\n",
              "3   53          2  234721  ...              40              38       0\n",
              "4   28          2  338409  ...              40               4       0\n",
              "\n",
              "[5 rows x 15 columns]"
            ]
          },
          "metadata": {
            "tags": []
          },
          "execution_count": 11
        }
      ]
    },
    {
      "cell_type": "markdown",
      "metadata": {
        "id": "VhVprWgjUfYN",
        "colab_type": "text"
      },
      "source": [
        "### **Splitting the train data further into training and testing for XGB evaluation**"
      ]
    },
    {
      "cell_type": "code",
      "metadata": {
        "id": "9PvRVz5SjGkE",
        "colab_type": "code",
        "colab": {
          "base_uri": "https://localhost:8080/",
          "height": 34
        },
        "outputId": "346fe0d5-56f6-43e0-9ca4-594b396d86aa"
      },
      "source": [
        "X_train, X_test, y_train, y_test = train_test_split(train_data.drop(['target'], axis = 1), train_data['target'], random_state = 42)\n",
        "X_train.shape, X_test.shape, y_train.shape, y_test.shape"
      ],
      "execution_count": null,
      "outputs": [
        {
          "output_type": "execute_result",
          "data": {
            "text/plain": [
              "((22621, 14), (7541, 14), (22621,), (7541,))"
            ]
          },
          "metadata": {
            "tags": []
          },
          "execution_count": 12
        }
      ]
    },
    {
      "cell_type": "markdown",
      "metadata": {
        "id": "F2x1E7a_Uxbu",
        "colab_type": "text"
      },
      "source": [
        "Building a vanilla XGB model on the training data"
      ]
    },
    {
      "cell_type": "code",
      "metadata": {
        "id": "OfQtCGFVjGcC",
        "colab_type": "code",
        "colab": {
          "base_uri": "https://localhost:8080/",
          "height": 1000
        },
        "outputId": "bf17a2fc-39ed-436d-82da-a914befa7186"
      },
      "source": [
        "params = {'n_estimators' : 500,\n",
        "          'max_depth': 5,\n",
        "          'min_child_weight' : 50,\n",
        "          'gamma': 0.01}\n",
        "xgb_classifier = XGBClassifier(**params)\n",
        "xgb_classifier.fit(X_train, y_train, eval_set=[(X_test, y_test)], early_stopping_rounds=10)"
      ],
      "execution_count": null,
      "outputs": [
        {
          "output_type": "stream",
          "text": [
            "[0]\tvalidation_0-error:0.152897\n",
            "Will train until validation_0-error hasn't improved in 10 rounds.\n",
            "[1]\tvalidation_0-error:0.148256\n",
            "[2]\tvalidation_0-error:0.147991\n",
            "[3]\tvalidation_0-error:0.148124\n",
            "[4]\tvalidation_0-error:0.150245\n",
            "[5]\tvalidation_0-error:0.149052\n",
            "[6]\tvalidation_0-error:0.148389\n",
            "[7]\tvalidation_0-error:0.149582\n",
            "[8]\tvalidation_0-error:0.1464\n",
            "[9]\tvalidation_0-error:0.147461\n",
            "[10]\tvalidation_0-error:0.147858\n",
            "[11]\tvalidation_0-error:0.147593\n",
            "[12]\tvalidation_0-error:0.147593\n",
            "[13]\tvalidation_0-error:0.146798\n",
            "[14]\tvalidation_0-error:0.146665\n",
            "[15]\tvalidation_0-error:0.145471\n",
            "[16]\tvalidation_0-error:0.145074\n",
            "[17]\tvalidation_0-error:0.144278\n",
            "[18]\tvalidation_0-error:0.144411\n",
            "[19]\tvalidation_0-error:0.144676\n",
            "[20]\tvalidation_0-error:0.144808\n",
            "[21]\tvalidation_0-error:0.144411\n",
            "[22]\tvalidation_0-error:0.144543\n",
            "[23]\tvalidation_0-error:0.14388\n",
            "[24]\tvalidation_0-error:0.144145\n",
            "[25]\tvalidation_0-error:0.144013\n",
            "[26]\tvalidation_0-error:0.143615\n",
            "[27]\tvalidation_0-error:0.14388\n",
            "[28]\tvalidation_0-error:0.143482\n",
            "[29]\tvalidation_0-error:0.144013\n",
            "[30]\tvalidation_0-error:0.143217\n",
            "[31]\tvalidation_0-error:0.142819\n",
            "[32]\tvalidation_0-error:0.143084\n",
            "[33]\tvalidation_0-error:0.143217\n",
            "[34]\tvalidation_0-error:0.14335\n",
            "[35]\tvalidation_0-error:0.143084\n",
            "[36]\tvalidation_0-error:0.142024\n",
            "[37]\tvalidation_0-error:0.142819\n",
            "[38]\tvalidation_0-error:0.141891\n",
            "[39]\tvalidation_0-error:0.141095\n",
            "[40]\tvalidation_0-error:0.14083\n",
            "[41]\tvalidation_0-error:0.14083\n",
            "[42]\tvalidation_0-error:0.140698\n",
            "[43]\tvalidation_0-error:0.140698\n",
            "[44]\tvalidation_0-error:0.139637\n",
            "[45]\tvalidation_0-error:0.139371\n",
            "[46]\tvalidation_0-error:0.139106\n",
            "[47]\tvalidation_0-error:0.138311\n",
            "[48]\tvalidation_0-error:0.138178\n",
            "[49]\tvalidation_0-error:0.138311\n",
            "[50]\tvalidation_0-error:0.137648\n",
            "[51]\tvalidation_0-error:0.137117\n",
            "[52]\tvalidation_0-error:0.137913\n",
            "[53]\tvalidation_0-error:0.137117\n",
            "[54]\tvalidation_0-error:0.137117\n",
            "[55]\tvalidation_0-error:0.13725\n",
            "[56]\tvalidation_0-error:0.137117\n",
            "[57]\tvalidation_0-error:0.137117\n",
            "[58]\tvalidation_0-error:0.136984\n",
            "[59]\tvalidation_0-error:0.136984\n",
            "[60]\tvalidation_0-error:0.136719\n",
            "[61]\tvalidation_0-error:0.136189\n",
            "[62]\tvalidation_0-error:0.136321\n",
            "[63]\tvalidation_0-error:0.136321\n",
            "[64]\tvalidation_0-error:0.136321\n",
            "[65]\tvalidation_0-error:0.136719\n",
            "[66]\tvalidation_0-error:0.136587\n",
            "[67]\tvalidation_0-error:0.136719\n",
            "[68]\tvalidation_0-error:0.13725\n",
            "[69]\tvalidation_0-error:0.136587\n",
            "[70]\tvalidation_0-error:0.136852\n",
            "[71]\tvalidation_0-error:0.136189\n",
            "Stopping. Best iteration:\n",
            "[61]\tvalidation_0-error:0.136189\n",
            "\n"
          ],
          "name": "stdout"
        },
        {
          "output_type": "execute_result",
          "data": {
            "text/plain": [
              "XGBClassifier(base_score=0.5, booster='gbtree', colsample_bylevel=1,\n",
              "              colsample_bynode=1, colsample_bytree=1, gamma=0.01,\n",
              "              learning_rate=0.1, max_delta_step=0, max_depth=5,\n",
              "              min_child_weight=50, missing=None, n_estimators=500, n_jobs=1,\n",
              "              nthread=None, objective='binary:logistic', random_state=0,\n",
              "              reg_alpha=0, reg_lambda=1, scale_pos_weight=1, seed=None,\n",
              "              silent=None, subsample=1, verbosity=1)"
            ]
          },
          "metadata": {
            "tags": []
          },
          "execution_count": 13
        }
      ]
    },
    {
      "cell_type": "markdown",
      "metadata": {
        "id": "Fqq8lbwjU58M",
        "colab_type": "text"
      },
      "source": [
        "Making predictions on the test data using XGB model"
      ]
    },
    {
      "cell_type": "code",
      "metadata": {
        "id": "HO5Os6BViZHX",
        "colab_type": "code",
        "colab": {
          "base_uri": "https://localhost:8080/",
          "height": 52
        },
        "outputId": "449a66c5-5dea-4937-e1d6-6a54e3a4669e"
      },
      "source": [
        "xgb_classifier.predict_proba(test_data.drop(['target'], axis = 1))[:,1]"
      ],
      "execution_count": null,
      "outputs": [
        {
          "output_type": "execute_result",
          "data": {
            "text/plain": [
              "array([0.00637804, 0.2809648 , 0.2034492 , ..., 0.735052  , 0.40594822,\n",
              "       0.74551255], dtype=float32)"
            ]
          },
          "metadata": {
            "tags": []
          },
          "execution_count": 14
        }
      ]
    },
    {
      "cell_type": "markdown",
      "metadata": {
        "id": "RWv1MGQBU93c",
        "colab_type": "text"
      },
      "source": [
        "Checking the AUC of the ROC curve to evaluate the model"
      ]
    },
    {
      "cell_type": "code",
      "metadata": {
        "id": "-okRbh1Jp7-N",
        "colab_type": "code",
        "colab": {
          "base_uri": "https://localhost:8080/",
          "height": 34
        },
        "outputId": "f43f7f44-fee9-4f3b-9b16-9a5743287ce4"
      },
      "source": [
        "roc_auc_score(test_data['target'], xgb_classifier.predict_proba(test_data.drop(['target'], axis = 1))[:,1])"
      ],
      "execution_count": null,
      "outputs": [
        {
          "output_type": "execute_result",
          "data": {
            "text/plain": [
              "0.912648446421774"
            ]
          },
          "metadata": {
            "tags": []
          },
          "execution_count": 15
        }
      ]
    },
    {
      "cell_type": "markdown",
      "metadata": {
        "id": "4jYZ7I-UW00s",
        "colab_type": "text"
      },
      "source": [
        "## **Focus on the categorical embeddings**"
      ]
    },
    {
      "cell_type": "code",
      "metadata": {
        "id": "GACoyvTCp7zl",
        "colab_type": "code",
        "colab": {}
      },
      "source": [
        "# We need to do categorical embedding for workclass and occupation variables"
      ],
      "execution_count": null,
      "outputs": []
    },
    {
      "cell_type": "code",
      "metadata": {
        "id": "ueow7Kf3qV7g",
        "colab_type": "code",
        "colab": {
          "base_uri": "https://localhost:8080/",
          "height": 34
        },
        "outputId": "da8eb598-0796-4886-827f-e3e2abc79888"
      },
      "source": [
        "# check how many unique values are present for occupation and workclass\n",
        "train_data.occupation.nunique(), train_data.workclass.nunique()"
      ],
      "execution_count": null,
      "outputs": [
        {
          "output_type": "execute_result",
          "data": {
            "text/plain": [
              "(14, 7)"
            ]
          },
          "metadata": {
            "tags": []
          },
          "execution_count": 17
        }
      ]
    },
    {
      "cell_type": "markdown",
      "metadata": {
        "id": "tjNA0aPFakmf",
        "colab_type": "text"
      },
      "source": [
        "\n",
        "*   For categorical embedding training, we need to convert the inputs as list to be fed to neural network\n",
        "\n",
        "*  Appending Occupation and Workclass label encoded values into the list\n",
        "\n",
        "*   Using the previous XGB X_train and X_test dataset\n",
        "\n",
        "\n",
        "\n",
        "\n",
        "\n",
        "\n"
      ]
    },
    {
      "cell_type": "code",
      "metadata": {
        "id": "9dobx1HLqvb_",
        "colab_type": "code",
        "colab": {}
      },
      "source": [
        "categorical_columns = ['occupation','workclass']\n",
        "input_train_list = []\n",
        "input_test_list = []\n",
        "for c in categorical_columns:\n",
        "  input_train_list.append(X_train[c].values)\n",
        "  input_test_list.append(X_test[c].values)\n"
      ],
      "execution_count": null,
      "outputs": []
    },
    {
      "cell_type": "code",
      "metadata": {
        "id": "xeRB5Bsi5P70",
        "colab_type": "code",
        "colab": {
          "base_uri": "https://localhost:8080/",
          "height": 34
        },
        "outputId": "419e868a-db39-4889-de6a-1951f2611b10"
      },
      "source": [
        "input_train_list\n"
      ],
      "execution_count": null,
      "outputs": [
        {
          "output_type": "execute_result",
          "data": {
            "text/plain": [
              "[array([11, 11,  5, ...,  2,  7, 11]), array([2, 2, 2, ..., 2, 4, 3])]"
            ]
          },
          "metadata": {
            "tags": []
          },
          "execution_count": 19
        }
      ]
    },
    {
      "cell_type": "code",
      "metadata": {
        "id": "IA7xYqhWqvex",
        "colab_type": "code",
        "colab": {}
      },
      "source": [
        "# input models will capture all the input list\n",
        "input_models=[]\n",
        "# output embeddings will capture all the output embeddings\n",
        "output_embeddings=[]\n",
        "for c in categorical_columns:\n",
        "  cat_emb_name= c+'_Embedding'\n",
        "  #Identifying the number of unique values in the category\n",
        "  no_of_unique_cat  = X_train[c].nunique()\n",
        "  # Defining the output embedding size - currently taken it to be 10 for \n",
        "  # simplicity, Jeremy Howard Fast AI course gives empirical formula for this to\n",
        "  # be int(min(np.ceil(no_of_unique_cat/2, 50))) i.e choosing the minimum of\n",
        "  # 50 or half the number of categories in the column\n",
        "  embedding_size = 10\n",
        "  input_model = Input(shape=(1,),name = c+'_Input')\n",
        "  output_model = Embedding(no_of_unique_cat, embedding_size,name=cat_emb_name)(input_model)\n",
        "  output_model = Reshape(target_shape=(embedding_size,))(output_model)   \n",
        "\n",
        "  input_models.append(input_model)\n",
        "  output_embeddings.append(output_model) \n",
        "\n",
        "output = Concatenate()(output_embeddings)\n",
        "output = Dense(512, kernel_initializer=\"uniform\")(output)\n",
        "output = Activation('relu')(output)\n",
        "output= Dropout(0.4)(output)\n",
        "output = Dense(256, kernel_initializer=\"uniform\")(output)\n",
        "output = Activation('relu')(output)\n",
        "output= Dropout(0.3)(output)\n",
        "output = Dense(1, activation='sigmoid')(output)\n",
        "\n",
        "model = Model(inputs=input_models, outputs=output)\n",
        "model.compile(loss='binary_crossentropy', optimizer='Adam',metrics=['accuracy'])"
      ],
      "execution_count": null,
      "outputs": []
    },
    {
      "cell_type": "code",
      "metadata": {
        "id": "_Ysz3GS_lZSG",
        "colab_type": "code",
        "colab": {
          "base_uri": "https://localhost:8080/",
          "height": 287
        },
        "outputId": "79024bfc-6215-48d6-8571-866276f3039b"
      },
      "source": [
        "Image(retina=True, filename = '/content/drive/My Drive/RmseAccuracy/CategoricalEmbedding/Categorical Embedding.jpg')"
      ],
      "execution_count": null,
      "outputs": [
        {
          "output_type": "execute_result",
          "data": {
            "image/jpeg": "[encoded data removed]",
            "text/plain": [
              "<IPython.core.display.Image object>"
            ]
          },
          "metadata": {
            "tags": [],
            "image/jpeg": {
              "width": 480,
              "height": 270
            }
          },
          "execution_count": 21
        }
      ]
    },
    {
      "cell_type": "code",
      "metadata": {
        "id": "OxyyTYOuu2_N",
        "colab_type": "code",
        "colab": {
          "base_uri": "https://localhost:8080/",
          "height": 1000
        },
        "outputId": "e17f846e-2426-4ca1-8718-2bbc27e4ddf4"
      },
      "source": [
        "plot_model(model, show_shapes=True, show_layer_names=True, to_file='model.png')\n",
        "Image(retina=True, filename='model.png')"
      ],
      "execution_count": null,
      "outputs": [
        {
          "output_type": "execute_result",
          "data": {
            "image/png": "[encoded data removed]",
            "text/plain": [
              "<IPython.core.display.Image object>"
            ]
          },
          "metadata": {
            "tags": []
          },
          "execution_count": 22
        },
        {
          "output_type": "execute_result",
          "data": {
            "image/png": "[encoded data removed]",
            "text/plain": [
              "<IPython.core.display.Image object>"
            ]
          },
          "metadata": {
            "tags": [],
            "image/png": {
              "width": 523,
              "height": 590
            }
          },
          "execution_count": 22
        }
      ]
    },
    {
      "cell_type": "code",
      "metadata": {
        "id": "wXCl1oAwu28k",
        "colab_type": "code",
        "colab": {
          "base_uri": "https://localhost:8080/",
          "height": 442
        },
        "outputId": "6c799700-3bcf-432a-a4ce-926b24951de1"
      },
      "source": [
        "history  =  model.fit(input_train_list, y_train, validation_data=(input_test_list, y_test) , epochs =  10 , batch_size = 32, verbose= 2)"
      ],
      "execution_count": null,
      "outputs": [
        {
          "output_type": "stream",
          "text": [
            "/usr/local/lib/python3.6/dist-packages/tensorflow/python/framework/indexed_slices.py:434: UserWarning: Converting sparse IndexedSlices to a dense Tensor of unknown shape. This may consume a large amount of memory.\n",
            "  \"Converting sparse IndexedSlices to a dense Tensor of unknown shape. \"\n"
          ],
          "name": "stderr"
        },
        {
          "output_type": "stream",
          "text": [
            "Train on 22621 samples, validate on 7541 samples\n",
            "Epoch 1/10\n",
            " - 3s - loss: 0.5026 - accuracy: 0.7548 - val_loss: 0.4900 - val_accuracy: 0.7540\n",
            "Epoch 2/10\n",
            " - 3s - loss: 0.4956 - accuracy: 0.7587 - val_loss: 0.4903 - val_accuracy: 0.7548\n",
            "Epoch 3/10\n",
            " - 3s - loss: 0.4944 - accuracy: 0.7583 - val_loss: 0.4970 - val_accuracy: 0.7548\n",
            "Epoch 4/10\n",
            " - 3s - loss: 0.4942 - accuracy: 0.7601 - val_loss: 0.4905 - val_accuracy: 0.7547\n",
            "Epoch 5/10\n",
            " - 3s - loss: 0.4944 - accuracy: 0.7593 - val_loss: 0.4878 - val_accuracy: 0.7548\n",
            "Epoch 6/10\n",
            " - 3s - loss: 0.4933 - accuracy: 0.7593 - val_loss: 0.4891 - val_accuracy: 0.7548\n",
            "Epoch 7/10\n",
            " - 3s - loss: 0.4930 - accuracy: 0.7594 - val_loss: 0.4892 - val_accuracy: 0.7548\n",
            "Epoch 8/10\n",
            " - 3s - loss: 0.4926 - accuracy: 0.7596 - val_loss: 0.4884 - val_accuracy: 0.7576\n",
            "Epoch 9/10\n",
            " - 3s - loss: 0.4921 - accuracy: 0.7586 - val_loss: 0.4904 - val_accuracy: 0.7588\n",
            "Epoch 10/10\n",
            " - 3s - loss: 0.4931 - accuracy: 0.7582 - val_loss: 0.4903 - val_accuracy: 0.7588\n"
          ],
          "name": "stdout"
        }
      ]
    },
    {
      "cell_type": "code",
      "metadata": {
        "id": "qSWNLaSzqV_L",
        "colab_type": "code",
        "colab": {
          "base_uri": "https://localhost:8080/",
          "height": 330
        },
        "outputId": "ccf4ddab-3e55-43b4-d573-debdc7e5a8b4"
      },
      "source": [
        "# summarize history for accuracy\n",
        "plt.plot(history.history['loss'])\n",
        "plt.plot(history.history['val_loss'])\n",
        "plt.title('loss')\n",
        "plt.ylabel('loss')\n",
        "plt.xlabel('epoch')\n",
        "plt.legend(['train', 'val'], loc='upper right')\n",
        "plt.show()"
      ],
      "execution_count": null,
      "outputs": [
        {
          "output_type": "execute_result",
          "data": {
            "text/plain": [
              "[<matplotlib.lines.Line2D at 0x7fc026f089e8>]"
            ]
          },
          "metadata": {
            "tags": []
          },
          "execution_count": 24
        },
        {
          "output_type": "execute_result",
          "data": {
            "text/plain": [
              "[<matplotlib.lines.Line2D at 0x7fc027c9ae10>]"
            ]
          },
          "metadata": {
            "tags": []
          },
          "execution_count": 24
        },
        {
          "output_type": "execute_result",
          "data": {
            "text/plain": [
              "Text(0.5, 1.0, 'loss')"
            ]
          },
          "metadata": {
            "tags": []
          },
          "execution_count": 24
        },
        {
          "output_type": "execute_result",
          "data": {
            "text/plain": [
              "Text(0, 0.5, 'loss')"
            ]
          },
          "metadata": {
            "tags": []
          },
          "execution_count": 24
        },
        {
          "output_type": "execute_result",
          "data": {
            "text/plain": [
              "Text(0.5, 0, 'epoch')"
            ]
          },
          "metadata": {
            "tags": []
          },
          "execution_count": 24
        },
        {
          "output_type": "execute_result",
          "data": {
            "text/plain": [
              "<matplotlib.legend.Legend at 0x7fc026ef3278>"
            ]
          },
          "metadata": {
            "tags": []
          },
          "execution_count": 24
        },
        {
          "output_type": "display_data",
          "data": {
            "image/png": "[encoded data removed]",
            "text/plain": [
              "<Figure size 432x288 with 1 Axes>"
            ]
          },
          "metadata": {
            "tags": [],
            "needs_background": "light"
          }
        }
      ]
    },
    {
      "cell_type": "markdown",
      "metadata": {
        "id": "Pdf6F11ViTC-",
        "colab_type": "text"
      },
      "source": [
        "\n",
        "\n",
        "*   Extraction of the learned embeddings\n",
        "*   For embedding layers the weight of the layer is the learned embedding itself\n",
        "*   We can use get_layer function and then get_weights to extract the wrights\n",
        "\n",
        "\n"
      ]
    },
    {
      "cell_type": "code",
      "metadata": {
        "id": "3-yKQ6Xsz17X",
        "colab_type": "code",
        "colab": {
          "base_uri": "https://localhost:8080/",
          "height": 281
        },
        "outputId": "68d9399a-3313-4eee-9bf3-340e336f6a78"
      },
      "source": [
        "model.get_layer('workclass_Embedding').get_weights()[0]\n",
        "# Below are the learned embedding for each unique category in the workclass columns\n",
        "model.get_layer('workclass_Embedding').get_weights()[0].shape\n",
        "# The shape is (7,10) meaning 7 unique values each described by 10 values \n",
        "# (embedding size)"
      ],
      "execution_count": null,
      "outputs": [
        {
          "output_type": "execute_result",
          "data": {
            "text/plain": [
              "array([[-0.10944396, -0.03739441,  0.0393861 ,  0.09913016, -0.02676688,\n",
              "        -0.007929  ,  0.0691274 ,  0.05590609,  0.02192586, -0.14741293],\n",
              "       [-0.03799545,  0.08222219,  0.09183543, -0.02086814,  0.1323753 ,\n",
              "        -0.21901013,  0.1818451 , -0.03696182,  0.01556377, -0.04726821],\n",
              "       [ 0.01629103,  0.01314412, -0.00677302, -0.05358543,  0.01300781,\n",
              "         0.04054243,  0.03041936, -0.02312245, -0.01209875,  0.06487255],\n",
              "       [ 0.00176491,  0.03317041,  0.05167554,  0.16565993, -0.15913443,\n",
              "         0.1309731 , -0.09170835,  0.11787907,  0.13932618, -0.17518333],\n",
              "       [-0.01450732, -0.02051315, -0.07267959,  0.08701531, -0.03642308,\n",
              "        -0.181996  , -0.16683532,  0.02473182, -0.04972922,  0.00864047],\n",
              "       [ 0.07101251,  0.03223592, -0.08936357, -0.0641963 ,  0.03293851,\n",
              "        -0.07838254, -0.01996578, -0.04260485, -0.07682126,  0.03451914],\n",
              "       [ 0.4786453 ,  0.038497  , -0.33192754, -0.4768014 ,  0.16279477,\n",
              "         0.48276958, -0.19107722, -0.35757023, -0.29358265,  0.5226301 ]],\n",
              "      dtype=float32)"
            ]
          },
          "metadata": {
            "tags": []
          },
          "execution_count": 25
        },
        {
          "output_type": "execute_result",
          "data": {
            "text/plain": [
              "(7, 10)"
            ]
          },
          "metadata": {
            "tags": []
          },
          "execution_count": 25
        }
      ]
    },
    {
      "cell_type": "code",
      "metadata": {
        "id": "kOCzjrVz40rI",
        "colab_type": "code",
        "colab": {
          "base_uri": "https://localhost:8080/",
          "height": 527
        },
        "outputId": "23078804-2dfb-4de8-a26b-9062f67f5649"
      },
      "source": [
        "model.get_layer('occupation_Embedding').get_weights()[0]\n",
        "# Below are the learned embedding for each unique category in the occupation columns\n",
        "model.get_layer('occupation_Embedding').get_weights()[0].shape\n",
        "# The shape is (14,10) meaning 7 unique values each described by 10 values \n",
        "# (embedding size)"
      ],
      "execution_count": null,
      "outputs": [
        {
          "output_type": "execute_result",
          "data": {
            "text/plain": [
              "array([[ 0.05329772,  0.04524544,  0.02187814, -0.04043812,  0.07431988,\n",
              "        -0.04234425, -0.06700844, -0.08329464, -0.0869889 ,  0.00812604],\n",
              "       [ 0.12548222,  0.10617387, -0.08627563, -0.0925864 ,  0.16409631,\n",
              "        -0.13642839, -0.06483454, -0.13474259, -0.1728838 , -0.14608687],\n",
              "       [-0.08765166,  0.07392639, -0.03743276,  0.01387029, -0.0775483 ,\n",
              "         0.05785482,  0.11392703,  0.03213652, -0.03492452, -0.11635946],\n",
              "       [-0.23592514, -0.10234439,  0.14757782,  0.09616396, -0.23341008,\n",
              "         0.17148712,  0.11486172,  0.16498114,  0.17651533, -0.00575583],\n",
              "       [ 0.10744286,  0.09805239, -0.10764217, -0.05756306,  0.02988581,\n",
              "        -0.09439937,  0.02390567, -0.12327146, -0.06048558, -0.08880399],\n",
              "       [ 0.11564554,  0.09134598, -0.11275339, -0.09824797,  0.0716814 ,\n",
              "        -0.10805145, -0.05859192, -0.09385139, -0.06150849,  0.00336984],\n",
              "       [ 0.04975352,  0.03986579,  0.00799101, -0.05455493,  0.06207762,\n",
              "        -0.04982155, -0.03843265, -0.05507221, -0.03310115,  0.04555967],\n",
              "       [ 0.16611814,  0.11672974, -0.18052308, -0.10289282,  0.0932222 ,\n",
              "        -0.1130172 , -0.00485278, -0.16202118, -0.06191742, -0.06299828],\n",
              "       [ 0.5322847 ,  0.42648536, -0.5087956 , -0.3880557 ,  0.49256992,\n",
              "        -0.47078353, -0.12808722, -0.5501017 , -0.33605516, -0.34044027],\n",
              "       [-0.06913385, -0.15761986,  0.17145588,  0.16035643, -0.04065584,\n",
              "         0.13529879, -0.12608695,  0.12312389,  0.04952508,  0.10849874],\n",
              "       [-0.00243687, -0.06210729, -0.00251302, -0.04521618, -0.00569232,\n",
              "        -0.03044217,  0.23850822,  0.06588236,  0.1481167 ,  0.18120882],\n",
              "       [ 0.00776771, -0.02758891,  0.02193634,  0.00364681,  0.01714558,\n",
              "         0.01874848, -0.00056049,  0.06082008,  0.04850856,  0.03623506],\n",
              "       [-0.10054559, -0.05397572,  0.05453226,  0.02874069, -0.06480186,\n",
              "         0.05467988,  0.06137943,  0.00886171,  0.01612191, -0.00205076],\n",
              "       [-0.04917996,  0.07407522,  0.01320126, -0.00634309,  0.00503921,\n",
              "         0.02089369, -0.03394139, -0.01399585, -0.09740102, -0.1280289 ]],\n",
              "      dtype=float32)"
            ]
          },
          "metadata": {
            "tags": []
          },
          "execution_count": 26
        },
        {
          "output_type": "execute_result",
          "data": {
            "text/plain": [
              "(14, 10)"
            ]
          },
          "metadata": {
            "tags": []
          },
          "execution_count": 26
        }
      ]
    },
    {
      "cell_type": "code",
      "metadata": {
        "id": "hX5_TwKMJ71e",
        "colab_type": "code",
        "colab": {
          "base_uri": "https://localhost:8080/",
          "height": 54
        },
        "outputId": "2003ad90-c933-4e84-8bcb-13bbccc13dd7"
      },
      "source": [
        "# We saved the label encoder for extracting the embeddings\n",
        "le_dict['occupation'].items()"
      ],
      "execution_count": null,
      "outputs": [
        {
          "output_type": "execute_result",
          "data": {
            "text/plain": [
              "dict_items([(' Adm-clerical', 0), (' Armed-Forces', 1), (' Craft-repair', 2), (' Exec-managerial', 3), (' Farming-fishing', 4), (' Handlers-cleaners', 5), (' Machine-op-inspct', 6), (' Other-service', 7), (' Priv-house-serv', 8), (' Prof-specialty', 9), (' Protective-serv', 10), (' Sales', 11), (' Tech-support', 12), (' Transport-moving', 13)])"
            ]
          },
          "metadata": {
            "tags": []
          },
          "execution_count": 27
        }
      ]
    },
    {
      "cell_type": "markdown",
      "metadata": {
        "id": "v8CUQ6DzjeoP",
        "colab_type": "text"
      },
      "source": [
        "# **Mapping of the embedding to the actual categories**"
      ]
    },
    {
      "cell_type": "code",
      "metadata": {
        "id": "vSXHKlq7J7yq",
        "colab_type": "code",
        "colab": {}
      },
      "source": [
        "# Need to extract embedding based on the label encoding\n",
        "occupation_embeddings = {idx:model.get_layer('occupation_Embedding').get_weights()[0][idx] for w, idx in le_dict['occupation'].items()}\n",
        "workclass_embeddings = {idx:model.get_layer('workclass_Embedding').get_weights()[0][idx] for w, idx in le_dict['workclass'].items()}\n"
      ],
      "execution_count": null,
      "outputs": []
    },
    {
      "cell_type": "markdown",
      "metadata": {
        "id": "spLJlqs-yx-i",
        "colab_type": "text"
      },
      "source": [
        "Converting the arrays to DF to be merged with main dataset"
      ]
    },
    {
      "cell_type": "code",
      "metadata": {
        "id": "BlchMk7nJ7vX",
        "colab_type": "code",
        "colab": {}
      },
      "source": [
        "occupation_embeddings_df = pd.DataFrame(occupation_embeddings)\n",
        "workclass_embeddings_df = pd.DataFrame(workclass_embeddings)"
      ],
      "execution_count": null,
      "outputs": []
    },
    {
      "cell_type": "code",
      "metadata": {
        "id": "7e86w1ksK0r_",
        "colab_type": "code",
        "colab": {
          "base_uri": "https://localhost:8080/",
          "height": 462
        },
        "outputId": "77eac2ec-6e37-428e-84c6-f4930f2ba383"
      },
      "source": [
        "occupation_embeddings_df = occupation_embeddings_df.T.reset_index()\n",
        "occupation_embeddings_df"
      ],
      "execution_count": null,
      "outputs": [
        {
          "output_type": "execute_result",
          "data": {
            "text/html": [
              "<div>\n",
              "<style scoped>\n",
              "    .dataframe tbody tr th:only-of-type {\n",
              "        vertical-align: middle;\n",
              "    }\n",
              "\n",
              "    .dataframe tbody tr th {\n",
              "        vertical-align: top;\n",
              "    }\n",
              "\n",
              "    .dataframe thead th {\n",
              "        text-align: right;\n",
              "    }\n",
              "</style>\n",
              "<table border=\"1\" class=\"dataframe\">\n",
              "  <thead>\n",
              "    <tr style=\"text-align: right;\">\n",
              "      <th></th>\n",
              "      <th>index</th>\n",
              "      <th>0</th>\n",
              "      <th>1</th>\n",
              "      <th>2</th>\n",
              "      <th>3</th>\n",
              "      <th>4</th>\n",
              "      <th>5</th>\n",
              "      <th>6</th>\n",
              "      <th>7</th>\n",
              "      <th>8</th>\n",
              "      <th>9</th>\n",
              "    </tr>\n",
              "  </thead>\n",
              "  <tbody>\n",
              "    <tr>\n",
              "      <th>0</th>\n",
              "      <td>0</td>\n",
              "      <td>0.053298</td>\n",
              "      <td>0.045245</td>\n",
              "      <td>0.021878</td>\n",
              "      <td>-0.040438</td>\n",
              "      <td>0.074320</td>\n",
              "      <td>-0.042344</td>\n",
              "      <td>-0.067008</td>\n",
              "      <td>-0.083295</td>\n",
              "      <td>-0.086989</td>\n",
              "      <td>0.008126</td>\n",
              "    </tr>\n",
              "    <tr>\n",
              "      <th>1</th>\n",
              "      <td>1</td>\n",
              "      <td>0.125482</td>\n",
              "      <td>0.106174</td>\n",
              "      <td>-0.086276</td>\n",
              "      <td>-0.092586</td>\n",
              "      <td>0.164096</td>\n",
              "      <td>-0.136428</td>\n",
              "      <td>-0.064835</td>\n",
              "      <td>-0.134743</td>\n",
              "      <td>-0.172884</td>\n",
              "      <td>-0.146087</td>\n",
              "    </tr>\n",
              "    <tr>\n",
              "      <th>2</th>\n",
              "      <td>2</td>\n",
              "      <td>-0.087652</td>\n",
              "      <td>0.073926</td>\n",
              "      <td>-0.037433</td>\n",
              "      <td>0.013870</td>\n",
              "      <td>-0.077548</td>\n",
              "      <td>0.057855</td>\n",
              "      <td>0.113927</td>\n",
              "      <td>0.032137</td>\n",
              "      <td>-0.034925</td>\n",
              "      <td>-0.116359</td>\n",
              "    </tr>\n",
              "    <tr>\n",
              "      <th>3</th>\n",
              "      <td>3</td>\n",
              "      <td>-0.235925</td>\n",
              "      <td>-0.102344</td>\n",
              "      <td>0.147578</td>\n",
              "      <td>0.096164</td>\n",
              "      <td>-0.233410</td>\n",
              "      <td>0.171487</td>\n",
              "      <td>0.114862</td>\n",
              "      <td>0.164981</td>\n",
              "      <td>0.176515</td>\n",
              "      <td>-0.005756</td>\n",
              "    </tr>\n",
              "    <tr>\n",
              "      <th>4</th>\n",
              "      <td>4</td>\n",
              "      <td>0.107443</td>\n",
              "      <td>0.098052</td>\n",
              "      <td>-0.107642</td>\n",
              "      <td>-0.057563</td>\n",
              "      <td>0.029886</td>\n",
              "      <td>-0.094399</td>\n",
              "      <td>0.023906</td>\n",
              "      <td>-0.123271</td>\n",
              "      <td>-0.060486</td>\n",
              "      <td>-0.088804</td>\n",
              "    </tr>\n",
              "    <tr>\n",
              "      <th>5</th>\n",
              "      <td>5</td>\n",
              "      <td>0.115646</td>\n",
              "      <td>0.091346</td>\n",
              "      <td>-0.112753</td>\n",
              "      <td>-0.098248</td>\n",
              "      <td>0.071681</td>\n",
              "      <td>-0.108051</td>\n",
              "      <td>-0.058592</td>\n",
              "      <td>-0.093851</td>\n",
              "      <td>-0.061508</td>\n",
              "      <td>0.003370</td>\n",
              "    </tr>\n",
              "    <tr>\n",
              "      <th>6</th>\n",
              "      <td>6</td>\n",
              "      <td>0.049754</td>\n",
              "      <td>0.039866</td>\n",
              "      <td>0.007991</td>\n",
              "      <td>-0.054555</td>\n",
              "      <td>0.062078</td>\n",
              "      <td>-0.049822</td>\n",
              "      <td>-0.038433</td>\n",
              "      <td>-0.055072</td>\n",
              "      <td>-0.033101</td>\n",
              "      <td>0.045560</td>\n",
              "    </tr>\n",
              "    <tr>\n",
              "      <th>7</th>\n",
              "      <td>7</td>\n",
              "      <td>0.166118</td>\n",
              "      <td>0.116730</td>\n",
              "      <td>-0.180523</td>\n",
              "      <td>-0.102893</td>\n",
              "      <td>0.093222</td>\n",
              "      <td>-0.113017</td>\n",
              "      <td>-0.004853</td>\n",
              "      <td>-0.162021</td>\n",
              "      <td>-0.061917</td>\n",
              "      <td>-0.062998</td>\n",
              "    </tr>\n",
              "    <tr>\n",
              "      <th>8</th>\n",
              "      <td>8</td>\n",
              "      <td>0.532285</td>\n",
              "      <td>0.426485</td>\n",
              "      <td>-0.508796</td>\n",
              "      <td>-0.388056</td>\n",
              "      <td>0.492570</td>\n",
              "      <td>-0.470784</td>\n",
              "      <td>-0.128087</td>\n",
              "      <td>-0.550102</td>\n",
              "      <td>-0.336055</td>\n",
              "      <td>-0.340440</td>\n",
              "    </tr>\n",
              "    <tr>\n",
              "      <th>9</th>\n",
              "      <td>9</td>\n",
              "      <td>-0.069134</td>\n",
              "      <td>-0.157620</td>\n",
              "      <td>0.171456</td>\n",
              "      <td>0.160356</td>\n",
              "      <td>-0.040656</td>\n",
              "      <td>0.135299</td>\n",
              "      <td>-0.126087</td>\n",
              "      <td>0.123124</td>\n",
              "      <td>0.049525</td>\n",
              "      <td>0.108499</td>\n",
              "    </tr>\n",
              "    <tr>\n",
              "      <th>10</th>\n",
              "      <td>10</td>\n",
              "      <td>-0.002437</td>\n",
              "      <td>-0.062107</td>\n",
              "      <td>-0.002513</td>\n",
              "      <td>-0.045216</td>\n",
              "      <td>-0.005692</td>\n",
              "      <td>-0.030442</td>\n",
              "      <td>0.238508</td>\n",
              "      <td>0.065882</td>\n",
              "      <td>0.148117</td>\n",
              "      <td>0.181209</td>\n",
              "    </tr>\n",
              "    <tr>\n",
              "      <th>11</th>\n",
              "      <td>11</td>\n",
              "      <td>0.007768</td>\n",
              "      <td>-0.027589</td>\n",
              "      <td>0.021936</td>\n",
              "      <td>0.003647</td>\n",
              "      <td>0.017146</td>\n",
              "      <td>0.018748</td>\n",
              "      <td>-0.000560</td>\n",
              "      <td>0.060820</td>\n",
              "      <td>0.048509</td>\n",
              "      <td>0.036235</td>\n",
              "    </tr>\n",
              "    <tr>\n",
              "      <th>12</th>\n",
              "      <td>12</td>\n",
              "      <td>-0.100546</td>\n",
              "      <td>-0.053976</td>\n",
              "      <td>0.054532</td>\n",
              "      <td>0.028741</td>\n",
              "      <td>-0.064802</td>\n",
              "      <td>0.054680</td>\n",
              "      <td>0.061379</td>\n",
              "      <td>0.008862</td>\n",
              "      <td>0.016122</td>\n",
              "      <td>-0.002051</td>\n",
              "    </tr>\n",
              "    <tr>\n",
              "      <th>13</th>\n",
              "      <td>13</td>\n",
              "      <td>-0.049180</td>\n",
              "      <td>0.074075</td>\n",
              "      <td>0.013201</td>\n",
              "      <td>-0.006343</td>\n",
              "      <td>0.005039</td>\n",
              "      <td>0.020894</td>\n",
              "      <td>-0.033941</td>\n",
              "      <td>-0.013996</td>\n",
              "      <td>-0.097401</td>\n",
              "      <td>-0.128029</td>\n",
              "    </tr>\n",
              "  </tbody>\n",
              "</table>\n",
              "</div>"
            ],
            "text/plain": [
              "    index         0         1         2  ...         6         7         8         9\n",
              "0       0  0.053298  0.045245  0.021878  ... -0.067008 -0.083295 -0.086989  0.008126\n",
              "1       1  0.125482  0.106174 -0.086276  ... -0.064835 -0.134743 -0.172884 -0.146087\n",
              "2       2 -0.087652  0.073926 -0.037433  ...  0.113927  0.032137 -0.034925 -0.116359\n",
              "3       3 -0.235925 -0.102344  0.147578  ...  0.114862  0.164981  0.176515 -0.005756\n",
              "4       4  0.107443  0.098052 -0.107642  ...  0.023906 -0.123271 -0.060486 -0.088804\n",
              "5       5  0.115646  0.091346 -0.112753  ... -0.058592 -0.093851 -0.061508  0.003370\n",
              "6       6  0.049754  0.039866  0.007991  ... -0.038433 -0.055072 -0.033101  0.045560\n",
              "7       7  0.166118  0.116730 -0.180523  ... -0.004853 -0.162021 -0.061917 -0.062998\n",
              "8       8  0.532285  0.426485 -0.508796  ... -0.128087 -0.550102 -0.336055 -0.340440\n",
              "9       9 -0.069134 -0.157620  0.171456  ... -0.126087  0.123124  0.049525  0.108499\n",
              "10     10 -0.002437 -0.062107 -0.002513  ...  0.238508  0.065882  0.148117  0.181209\n",
              "11     11  0.007768 -0.027589  0.021936  ... -0.000560  0.060820  0.048509  0.036235\n",
              "12     12 -0.100546 -0.053976  0.054532  ...  0.061379  0.008862  0.016122 -0.002051\n",
              "13     13 -0.049180  0.074075  0.013201  ... -0.033941 -0.013996 -0.097401 -0.128029\n",
              "\n",
              "[14 rows x 11 columns]"
            ]
          },
          "metadata": {
            "tags": []
          },
          "execution_count": 30
        }
      ]
    },
    {
      "cell_type": "code",
      "metadata": {
        "id": "SZ_9nRXLK0vX",
        "colab_type": "code",
        "colab": {
          "base_uri": "https://localhost:8080/",
          "height": 254
        },
        "outputId": "aeffec3a-0255-458a-e9e8-2fcebc567ab1"
      },
      "source": [
        "workclass_embeddings_df = workclass_embeddings_df.T.reset_index()\n",
        "workclass_embeddings_df"
      ],
      "execution_count": null,
      "outputs": [
        {
          "output_type": "execute_result",
          "data": {
            "text/html": [
              "<div>\n",
              "<style scoped>\n",
              "    .dataframe tbody tr th:only-of-type {\n",
              "        vertical-align: middle;\n",
              "    }\n",
              "\n",
              "    .dataframe tbody tr th {\n",
              "        vertical-align: top;\n",
              "    }\n",
              "\n",
              "    .dataframe thead th {\n",
              "        text-align: right;\n",
              "    }\n",
              "</style>\n",
              "<table border=\"1\" class=\"dataframe\">\n",
              "  <thead>\n",
              "    <tr style=\"text-align: right;\">\n",
              "      <th></th>\n",
              "      <th>index</th>\n",
              "      <th>0</th>\n",
              "      <th>1</th>\n",
              "      <th>2</th>\n",
              "      <th>3</th>\n",
              "      <th>4</th>\n",
              "      <th>5</th>\n",
              "      <th>6</th>\n",
              "      <th>7</th>\n",
              "      <th>8</th>\n",
              "      <th>9</th>\n",
              "    </tr>\n",
              "  </thead>\n",
              "  <tbody>\n",
              "    <tr>\n",
              "      <th>0</th>\n",
              "      <td>0</td>\n",
              "      <td>-0.109444</td>\n",
              "      <td>-0.037394</td>\n",
              "      <td>0.039386</td>\n",
              "      <td>0.099130</td>\n",
              "      <td>-0.026767</td>\n",
              "      <td>-0.007929</td>\n",
              "      <td>0.069127</td>\n",
              "      <td>0.055906</td>\n",
              "      <td>0.021926</td>\n",
              "      <td>-0.147413</td>\n",
              "    </tr>\n",
              "    <tr>\n",
              "      <th>1</th>\n",
              "      <td>1</td>\n",
              "      <td>-0.037995</td>\n",
              "      <td>0.082222</td>\n",
              "      <td>0.091835</td>\n",
              "      <td>-0.020868</td>\n",
              "      <td>0.132375</td>\n",
              "      <td>-0.219010</td>\n",
              "      <td>0.181845</td>\n",
              "      <td>-0.036962</td>\n",
              "      <td>0.015564</td>\n",
              "      <td>-0.047268</td>\n",
              "    </tr>\n",
              "    <tr>\n",
              "      <th>2</th>\n",
              "      <td>2</td>\n",
              "      <td>0.016291</td>\n",
              "      <td>0.013144</td>\n",
              "      <td>-0.006773</td>\n",
              "      <td>-0.053585</td>\n",
              "      <td>0.013008</td>\n",
              "      <td>0.040542</td>\n",
              "      <td>0.030419</td>\n",
              "      <td>-0.023122</td>\n",
              "      <td>-0.012099</td>\n",
              "      <td>0.064873</td>\n",
              "    </tr>\n",
              "    <tr>\n",
              "      <th>3</th>\n",
              "      <td>3</td>\n",
              "      <td>0.001765</td>\n",
              "      <td>0.033170</td>\n",
              "      <td>0.051676</td>\n",
              "      <td>0.165660</td>\n",
              "      <td>-0.159134</td>\n",
              "      <td>0.130973</td>\n",
              "      <td>-0.091708</td>\n",
              "      <td>0.117879</td>\n",
              "      <td>0.139326</td>\n",
              "      <td>-0.175183</td>\n",
              "    </tr>\n",
              "    <tr>\n",
              "      <th>4</th>\n",
              "      <td>4</td>\n",
              "      <td>-0.014507</td>\n",
              "      <td>-0.020513</td>\n",
              "      <td>-0.072680</td>\n",
              "      <td>0.087015</td>\n",
              "      <td>-0.036423</td>\n",
              "      <td>-0.181996</td>\n",
              "      <td>-0.166835</td>\n",
              "      <td>0.024732</td>\n",
              "      <td>-0.049729</td>\n",
              "      <td>0.008640</td>\n",
              "    </tr>\n",
              "    <tr>\n",
              "      <th>5</th>\n",
              "      <td>5</td>\n",
              "      <td>0.071013</td>\n",
              "      <td>0.032236</td>\n",
              "      <td>-0.089364</td>\n",
              "      <td>-0.064196</td>\n",
              "      <td>0.032939</td>\n",
              "      <td>-0.078383</td>\n",
              "      <td>-0.019966</td>\n",
              "      <td>-0.042605</td>\n",
              "      <td>-0.076821</td>\n",
              "      <td>0.034519</td>\n",
              "    </tr>\n",
              "    <tr>\n",
              "      <th>6</th>\n",
              "      <td>6</td>\n",
              "      <td>0.478645</td>\n",
              "      <td>0.038497</td>\n",
              "      <td>-0.331928</td>\n",
              "      <td>-0.476801</td>\n",
              "      <td>0.162795</td>\n",
              "      <td>0.482770</td>\n",
              "      <td>-0.191077</td>\n",
              "      <td>-0.357570</td>\n",
              "      <td>-0.293583</td>\n",
              "      <td>0.522630</td>\n",
              "    </tr>\n",
              "  </tbody>\n",
              "</table>\n",
              "</div>"
            ],
            "text/plain": [
              "   index         0         1         2  ...         6         7         8         9\n",
              "0      0 -0.109444 -0.037394  0.039386  ...  0.069127  0.055906  0.021926 -0.147413\n",
              "1      1 -0.037995  0.082222  0.091835  ...  0.181845 -0.036962  0.015564 -0.047268\n",
              "2      2  0.016291  0.013144 -0.006773  ...  0.030419 -0.023122 -0.012099  0.064873\n",
              "3      3  0.001765  0.033170  0.051676  ... -0.091708  0.117879  0.139326 -0.175183\n",
              "4      4 -0.014507 -0.020513 -0.072680  ... -0.166835  0.024732 -0.049729  0.008640\n",
              "5      5  0.071013  0.032236 -0.089364  ... -0.019966 -0.042605 -0.076821  0.034519\n",
              "6      6  0.478645  0.038497 -0.331928  ... -0.191077 -0.357570 -0.293583  0.522630\n",
              "\n",
              "[7 rows x 11 columns]"
            ]
          },
          "metadata": {
            "tags": []
          },
          "execution_count": 31
        }
      ]
    },
    {
      "cell_type": "markdown",
      "metadata": {
        "id": "8emoB13XzOAM",
        "colab_type": "text"
      },
      "source": [
        "TSNE visualization for workclass embeddings"
      ]
    },
    {
      "cell_type": "code",
      "metadata": {
        "id": "UQKWsNqpLdeY",
        "colab_type": "code",
        "colab": {
          "base_uri": "https://localhost:8080/",
          "height": 140
        },
        "outputId": "bb45d81b-3b98-4763-a3e5-94857980a653"
      },
      "source": [
        "time_start = time.time()\n",
        "tsne = TSNE(n_components=2, verbose=1, perplexity=40, n_iter=300)\n",
        "tsne_results = tsne.fit_transform(workclass_embeddings_df.T)"
      ],
      "execution_count": null,
      "outputs": [
        {
          "output_type": "stream",
          "text": [
            "[t-SNE] Computing 10 nearest neighbors...\n",
            "[t-SNE] Indexed 11 samples in 0.000s...\n",
            "[t-SNE] Computed neighbors for 11 samples in 0.001s...\n",
            "[t-SNE] Computed conditional probabilities for sample 11 / 11\n",
            "[t-SNE] Mean sigma: 1125899906842624.000000\n",
            "[t-SNE] KL divergence after 250 iterations with early exaggeration: 40.562088\n",
            "[t-SNE] KL divergence after 300 iterations: 0.310926\n"
          ],
          "name": "stdout"
        }
      ]
    },
    {
      "cell_type": "code",
      "metadata": {
        "id": "0LBD775XLzt6",
        "colab_type": "code",
        "colab": {
          "base_uri": "https://localhost:8080/",
          "height": 624
        },
        "outputId": "ef268f47-aa24-4f07-a9e0-2adeb3c0af0b"
      },
      "source": [
        "tsne_df = pd.DataFrame()\n",
        "tsne_df['comp1'] = tsne_results[:,0]\n",
        "tsne_df['comp2'] = tsne_results[:,1]\n",
        "plt.figure(figsize=(16,10))\n",
        "sns.scatterplot(\n",
        "    x=\"comp1\", y=\"comp2\",\n",
        "    data=tsne_df,\n",
        "    legend=\"full\",\n",
        "    alpha=1\n",
        ")"
      ],
      "execution_count": null,
      "outputs": [
        {
          "output_type": "execute_result",
          "data": {
            "text/plain": [
              "<Figure size 1152x720 with 0 Axes>"
            ]
          },
          "metadata": {
            "tags": []
          },
          "execution_count": 33
        },
        {
          "output_type": "execute_result",
          "data": {
            "text/plain": [
              "<matplotlib.axes._subplots.AxesSubplot at 0x7fc026a32358>"
            ]
          },
          "metadata": {
            "tags": []
          },
          "execution_count": 33
        },
        {
          "output_type": "display_data",
          "data": {
            "image/png": "[encoded data removed]",
            "text/plain": [
              "<Figure size 1152x720 with 1 Axes>"
            ]
          },
          "metadata": {
            "tags": [],
            "needs_background": "light"
          }
        }
      ]
    },
    {
      "cell_type": "markdown",
      "metadata": {
        "id": "An9DALbKznHB",
        "colab_type": "text"
      },
      "source": [
        "*   Since we want to evaluate on the performance on the same data set as XGB\n",
        "*   Combining the XGB dataset together to replace workclass column with embedding\n",
        "\n"
      ]
    },
    {
      "cell_type": "code",
      "metadata": {
        "id": "QgL_NTT_Nhcw",
        "colab_type": "code",
        "colab": {}
      },
      "source": [
        "# Dataset used for training XGB model\n",
        "df_train_CE = pd.concat([X_train, y_train], axis = 1)\n",
        "# Dataset used for testing XGB model\n",
        "df_test_CE = pd.concat([X_test, y_test], axis = 1)"
      ],
      "execution_count": null,
      "outputs": []
    },
    {
      "cell_type": "code",
      "metadata": {
        "id": "nfnKwItR7VcE",
        "colab_type": "code",
        "colab": {}
      },
      "source": [
        "# This is the hold out sample for final ROC calculation\n",
        "test_data_CE = test_data"
      ],
      "execution_count": null,
      "outputs": []
    },
    {
      "cell_type": "markdown",
      "metadata": {
        "id": "jVcr5nWZ0iK-",
        "colab_type": "text"
      },
      "source": [
        "Merging the embedding into structured data for training data"
      ]
    },
    {
      "cell_type": "code",
      "metadata": {
        "id": "Yt0geXOANhaE",
        "colab_type": "code",
        "colab": {
          "base_uri": "https://localhost:8080/",
          "height": 455
        },
        "outputId": "57517d8f-a2a8-4514-edce-3a5c49bd7cdc"
      },
      "source": [
        "X_train_CE = pd.merge(df_train_CE, workclass_embeddings_df, how = 'inner', left_on='workclass', right_on='index')\n",
        "y_train = X_train_CE['target']\n",
        "X_train_CE.drop(['workclass', 'index', 'target'], axis=1, inplace=True)\n",
        "X_train_CE"
      ],
      "execution_count": null,
      "outputs": [
        {
          "output_type": "execute_result",
          "data": {
            "text/html": [
              "<div>\n",
              "<style scoped>\n",
              "    .dataframe tbody tr th:only-of-type {\n",
              "        vertical-align: middle;\n",
              "    }\n",
              "\n",
              "    .dataframe tbody tr th {\n",
              "        vertical-align: top;\n",
              "    }\n",
              "\n",
              "    .dataframe thead th {\n",
              "        text-align: right;\n",
              "    }\n",
              "</style>\n",
              "<table border=\"1\" class=\"dataframe\">\n",
              "  <thead>\n",
              "    <tr style=\"text-align: right;\">\n",
              "      <th></th>\n",
              "      <th>age</th>\n",
              "      <th>fnlwgt</th>\n",
              "      <th>education</th>\n",
              "      <th>education-num</th>\n",
              "      <th>marital-status</th>\n",
              "      <th>occupation</th>\n",
              "      <th>relationship</th>\n",
              "      <th>race</th>\n",
              "      <th>sex</th>\n",
              "      <th>capital-gain</th>\n",
              "      <th>capital-loss</th>\n",
              "      <th>hours-per-week</th>\n",
              "      <th>native-country</th>\n",
              "      <th>0</th>\n",
              "      <th>1</th>\n",
              "      <th>2</th>\n",
              "      <th>3</th>\n",
              "      <th>4</th>\n",
              "      <th>5</th>\n",
              "      <th>6</th>\n",
              "      <th>7</th>\n",
              "      <th>8</th>\n",
              "      <th>9</th>\n",
              "    </tr>\n",
              "  </thead>\n",
              "  <tbody>\n",
              "    <tr>\n",
              "      <th>0</th>\n",
              "      <td>28</td>\n",
              "      <td>92262</td>\n",
              "      <td>9</td>\n",
              "      <td>13</td>\n",
              "      <td>2</td>\n",
              "      <td>11</td>\n",
              "      <td>0</td>\n",
              "      <td>4</td>\n",
              "      <td>1</td>\n",
              "      <td>0</td>\n",
              "      <td>0</td>\n",
              "      <td>40</td>\n",
              "      <td>38</td>\n",
              "      <td>0.016291</td>\n",
              "      <td>0.013144</td>\n",
              "      <td>-0.006773</td>\n",
              "      <td>-0.053585</td>\n",
              "      <td>0.013008</td>\n",
              "      <td>0.040542</td>\n",
              "      <td>0.030419</td>\n",
              "      <td>-0.023122</td>\n",
              "      <td>-0.012099</td>\n",
              "      <td>0.064873</td>\n",
              "    </tr>\n",
              "    <tr>\n",
              "      <th>1</th>\n",
              "      <td>49</td>\n",
              "      <td>281647</td>\n",
              "      <td>9</td>\n",
              "      <td>13</td>\n",
              "      <td>2</td>\n",
              "      <td>11</td>\n",
              "      <td>0</td>\n",
              "      <td>4</td>\n",
              "      <td>1</td>\n",
              "      <td>0</td>\n",
              "      <td>0</td>\n",
              "      <td>45</td>\n",
              "      <td>38</td>\n",
              "      <td>0.016291</td>\n",
              "      <td>0.013144</td>\n",
              "      <td>-0.006773</td>\n",
              "      <td>-0.053585</td>\n",
              "      <td>0.013008</td>\n",
              "      <td>0.040542</td>\n",
              "      <td>0.030419</td>\n",
              "      <td>-0.023122</td>\n",
              "      <td>-0.012099</td>\n",
              "      <td>0.064873</td>\n",
              "    </tr>\n",
              "    <tr>\n",
              "      <th>2</th>\n",
              "      <td>39</td>\n",
              "      <td>231491</td>\n",
              "      <td>11</td>\n",
              "      <td>9</td>\n",
              "      <td>4</td>\n",
              "      <td>5</td>\n",
              "      <td>2</td>\n",
              "      <td>4</td>\n",
              "      <td>1</td>\n",
              "      <td>0</td>\n",
              "      <td>0</td>\n",
              "      <td>40</td>\n",
              "      <td>38</td>\n",
              "      <td>0.016291</td>\n",
              "      <td>0.013144</td>\n",
              "      <td>-0.006773</td>\n",
              "      <td>-0.053585</td>\n",
              "      <td>0.013008</td>\n",
              "      <td>0.040542</td>\n",
              "      <td>0.030419</td>\n",
              "      <td>-0.023122</td>\n",
              "      <td>-0.012099</td>\n",
              "      <td>0.064873</td>\n",
              "    </tr>\n",
              "    <tr>\n",
              "      <th>3</th>\n",
              "      <td>36</td>\n",
              "      <td>183902</td>\n",
              "      <td>9</td>\n",
              "      <td>13</td>\n",
              "      <td>2</td>\n",
              "      <td>9</td>\n",
              "      <td>5</td>\n",
              "      <td>4</td>\n",
              "      <td>0</td>\n",
              "      <td>0</td>\n",
              "      <td>0</td>\n",
              "      <td>4</td>\n",
              "      <td>38</td>\n",
              "      <td>0.016291</td>\n",
              "      <td>0.013144</td>\n",
              "      <td>-0.006773</td>\n",
              "      <td>-0.053585</td>\n",
              "      <td>0.013008</td>\n",
              "      <td>0.040542</td>\n",
              "      <td>0.030419</td>\n",
              "      <td>-0.023122</td>\n",
              "      <td>-0.012099</td>\n",
              "      <td>0.064873</td>\n",
              "    </tr>\n",
              "    <tr>\n",
              "      <th>4</th>\n",
              "      <td>27</td>\n",
              "      <td>153078</td>\n",
              "      <td>14</td>\n",
              "      <td>15</td>\n",
              "      <td>4</td>\n",
              "      <td>9</td>\n",
              "      <td>3</td>\n",
              "      <td>1</td>\n",
              "      <td>1</td>\n",
              "      <td>0</td>\n",
              "      <td>0</td>\n",
              "      <td>40</td>\n",
              "      <td>38</td>\n",
              "      <td>0.016291</td>\n",
              "      <td>0.013144</td>\n",
              "      <td>-0.006773</td>\n",
              "      <td>-0.053585</td>\n",
              "      <td>0.013008</td>\n",
              "      <td>0.040542</td>\n",
              "      <td>0.030419</td>\n",
              "      <td>-0.023122</td>\n",
              "      <td>-0.012099</td>\n",
              "      <td>0.064873</td>\n",
              "    </tr>\n",
              "    <tr>\n",
              "      <th>...</th>\n",
              "      <td>...</td>\n",
              "      <td>...</td>\n",
              "      <td>...</td>\n",
              "      <td>...</td>\n",
              "      <td>...</td>\n",
              "      <td>...</td>\n",
              "      <td>...</td>\n",
              "      <td>...</td>\n",
              "      <td>...</td>\n",
              "      <td>...</td>\n",
              "      <td>...</td>\n",
              "      <td>...</td>\n",
              "      <td>...</td>\n",
              "      <td>...</td>\n",
              "      <td>...</td>\n",
              "      <td>...</td>\n",
              "      <td>...</td>\n",
              "      <td>...</td>\n",
              "      <td>...</td>\n",
              "      <td>...</td>\n",
              "      <td>...</td>\n",
              "      <td>...</td>\n",
              "      <td>...</td>\n",
              "    </tr>\n",
              "    <tr>\n",
              "      <th>22616</th>\n",
              "      <td>68</td>\n",
              "      <td>174695</td>\n",
              "      <td>15</td>\n",
              "      <td>10</td>\n",
              "      <td>3</td>\n",
              "      <td>4</td>\n",
              "      <td>4</td>\n",
              "      <td>4</td>\n",
              "      <td>0</td>\n",
              "      <td>0</td>\n",
              "      <td>0</td>\n",
              "      <td>25</td>\n",
              "      <td>38</td>\n",
              "      <td>0.478645</td>\n",
              "      <td>0.038497</td>\n",
              "      <td>-0.331928</td>\n",
              "      <td>-0.476801</td>\n",
              "      <td>0.162795</td>\n",
              "      <td>0.482770</td>\n",
              "      <td>-0.191077</td>\n",
              "      <td>-0.357570</td>\n",
              "      <td>-0.293583</td>\n",
              "      <td>0.522630</td>\n",
              "    </tr>\n",
              "    <tr>\n",
              "      <th>22617</th>\n",
              "      <td>46</td>\n",
              "      <td>142210</td>\n",
              "      <td>11</td>\n",
              "      <td>9</td>\n",
              "      <td>2</td>\n",
              "      <td>6</td>\n",
              "      <td>5</td>\n",
              "      <td>4</td>\n",
              "      <td>0</td>\n",
              "      <td>0</td>\n",
              "      <td>0</td>\n",
              "      <td>25</td>\n",
              "      <td>38</td>\n",
              "      <td>0.478645</td>\n",
              "      <td>0.038497</td>\n",
              "      <td>-0.331928</td>\n",
              "      <td>-0.476801</td>\n",
              "      <td>0.162795</td>\n",
              "      <td>0.482770</td>\n",
              "      <td>-0.191077</td>\n",
              "      <td>-0.357570</td>\n",
              "      <td>-0.293583</td>\n",
              "      <td>0.522630</td>\n",
              "    </tr>\n",
              "    <tr>\n",
              "      <th>22618</th>\n",
              "      <td>62</td>\n",
              "      <td>170114</td>\n",
              "      <td>7</td>\n",
              "      <td>12</td>\n",
              "      <td>2</td>\n",
              "      <td>4</td>\n",
              "      <td>0</td>\n",
              "      <td>4</td>\n",
              "      <td>1</td>\n",
              "      <td>0</td>\n",
              "      <td>0</td>\n",
              "      <td>50</td>\n",
              "      <td>38</td>\n",
              "      <td>0.478645</td>\n",
              "      <td>0.038497</td>\n",
              "      <td>-0.331928</td>\n",
              "      <td>-0.476801</td>\n",
              "      <td>0.162795</td>\n",
              "      <td>0.482770</td>\n",
              "      <td>-0.191077</td>\n",
              "      <td>-0.357570</td>\n",
              "      <td>-0.293583</td>\n",
              "      <td>0.522630</td>\n",
              "    </tr>\n",
              "    <tr>\n",
              "      <th>22619</th>\n",
              "      <td>21</td>\n",
              "      <td>232719</td>\n",
              "      <td>11</td>\n",
              "      <td>9</td>\n",
              "      <td>4</td>\n",
              "      <td>2</td>\n",
              "      <td>3</td>\n",
              "      <td>2</td>\n",
              "      <td>1</td>\n",
              "      <td>0</td>\n",
              "      <td>0</td>\n",
              "      <td>40</td>\n",
              "      <td>38</td>\n",
              "      <td>0.478645</td>\n",
              "      <td>0.038497</td>\n",
              "      <td>-0.331928</td>\n",
              "      <td>-0.476801</td>\n",
              "      <td>0.162795</td>\n",
              "      <td>0.482770</td>\n",
              "      <td>-0.191077</td>\n",
              "      <td>-0.357570</td>\n",
              "      <td>-0.293583</td>\n",
              "      <td>0.522630</td>\n",
              "    </tr>\n",
              "    <tr>\n",
              "      <th>22620</th>\n",
              "      <td>19</td>\n",
              "      <td>43887</td>\n",
              "      <td>11</td>\n",
              "      <td>9</td>\n",
              "      <td>4</td>\n",
              "      <td>4</td>\n",
              "      <td>3</td>\n",
              "      <td>4</td>\n",
              "      <td>1</td>\n",
              "      <td>0</td>\n",
              "      <td>0</td>\n",
              "      <td>10</td>\n",
              "      <td>38</td>\n",
              "      <td>0.478645</td>\n",
              "      <td>0.038497</td>\n",
              "      <td>-0.331928</td>\n",
              "      <td>-0.476801</td>\n",
              "      <td>0.162795</td>\n",
              "      <td>0.482770</td>\n",
              "      <td>-0.191077</td>\n",
              "      <td>-0.357570</td>\n",
              "      <td>-0.293583</td>\n",
              "      <td>0.522630</td>\n",
              "    </tr>\n",
              "  </tbody>\n",
              "</table>\n",
              "<p>22621 rows × 23 columns</p>\n",
              "</div>"
            ],
            "text/plain": [
              "       age  fnlwgt  education  ...         7         8         9\n",
              "0       28   92262          9  ... -0.023122 -0.012099  0.064873\n",
              "1       49  281647          9  ... -0.023122 -0.012099  0.064873\n",
              "2       39  231491         11  ... -0.023122 -0.012099  0.064873\n",
              "3       36  183902          9  ... -0.023122 -0.012099  0.064873\n",
              "4       27  153078         14  ... -0.023122 -0.012099  0.064873\n",
              "...    ...     ...        ...  ...       ...       ...       ...\n",
              "22616   68  174695         15  ... -0.357570 -0.293583  0.522630\n",
              "22617   46  142210         11  ... -0.357570 -0.293583  0.522630\n",
              "22618   62  170114          7  ... -0.357570 -0.293583  0.522630\n",
              "22619   21  232719         11  ... -0.357570 -0.293583  0.522630\n",
              "22620   19   43887         11  ... -0.357570 -0.293583  0.522630\n",
              "\n",
              "[22621 rows x 23 columns]"
            ]
          },
          "metadata": {
            "tags": []
          },
          "execution_count": 36
        }
      ]
    },
    {
      "cell_type": "code",
      "metadata": {
        "id": "jFPPb6SKOC-L",
        "colab_type": "code",
        "colab": {
          "base_uri": "https://localhost:8080/",
          "height": 455
        },
        "outputId": "e812b400-411f-41bb-ede4-8c604189a5ac"
      },
      "source": [
        "X_test_CE = pd.merge(df_test_CE, workclass_embeddings_df, how = 'inner', left_on='workclass', right_on='index')\n",
        "y_test = X_test_CE['target']\n",
        "X_test_CE.drop(['workclass', 'index', 'target'], axis=1, inplace=True)\n",
        "X_test_CE"
      ],
      "execution_count": null,
      "outputs": [
        {
          "output_type": "execute_result",
          "data": {
            "text/html": [
              "<div>\n",
              "<style scoped>\n",
              "    .dataframe tbody tr th:only-of-type {\n",
              "        vertical-align: middle;\n",
              "    }\n",
              "\n",
              "    .dataframe tbody tr th {\n",
              "        vertical-align: top;\n",
              "    }\n",
              "\n",
              "    .dataframe thead th {\n",
              "        text-align: right;\n",
              "    }\n",
              "</style>\n",
              "<table border=\"1\" class=\"dataframe\">\n",
              "  <thead>\n",
              "    <tr style=\"text-align: right;\">\n",
              "      <th></th>\n",
              "      <th>age</th>\n",
              "      <th>fnlwgt</th>\n",
              "      <th>education</th>\n",
              "      <th>education-num</th>\n",
              "      <th>marital-status</th>\n",
              "      <th>occupation</th>\n",
              "      <th>relationship</th>\n",
              "      <th>race</th>\n",
              "      <th>sex</th>\n",
              "      <th>capital-gain</th>\n",
              "      <th>capital-loss</th>\n",
              "      <th>hours-per-week</th>\n",
              "      <th>native-country</th>\n",
              "      <th>0</th>\n",
              "      <th>1</th>\n",
              "      <th>2</th>\n",
              "      <th>3</th>\n",
              "      <th>4</th>\n",
              "      <th>5</th>\n",
              "      <th>6</th>\n",
              "      <th>7</th>\n",
              "      <th>8</th>\n",
              "      <th>9</th>\n",
              "    </tr>\n",
              "  </thead>\n",
              "  <tbody>\n",
              "    <tr>\n",
              "      <th>0</th>\n",
              "      <td>28</td>\n",
              "      <td>76714</td>\n",
              "      <td>14</td>\n",
              "      <td>15</td>\n",
              "      <td>4</td>\n",
              "      <td>9</td>\n",
              "      <td>1</td>\n",
              "      <td>4</td>\n",
              "      <td>1</td>\n",
              "      <td>0</td>\n",
              "      <td>0</td>\n",
              "      <td>55</td>\n",
              "      <td>38</td>\n",
              "      <td>0.016291</td>\n",
              "      <td>0.013144</td>\n",
              "      <td>-0.006773</td>\n",
              "      <td>-0.053585</td>\n",
              "      <td>0.013008</td>\n",
              "      <td>0.040542</td>\n",
              "      <td>0.030419</td>\n",
              "      <td>-0.023122</td>\n",
              "      <td>-0.012099</td>\n",
              "      <td>0.064873</td>\n",
              "    </tr>\n",
              "    <tr>\n",
              "      <th>1</th>\n",
              "      <td>41</td>\n",
              "      <td>178431</td>\n",
              "      <td>11</td>\n",
              "      <td>9</td>\n",
              "      <td>2</td>\n",
              "      <td>2</td>\n",
              "      <td>0</td>\n",
              "      <td>1</td>\n",
              "      <td>1</td>\n",
              "      <td>0</td>\n",
              "      <td>0</td>\n",
              "      <td>40</td>\n",
              "      <td>35</td>\n",
              "      <td>0.016291</td>\n",
              "      <td>0.013144</td>\n",
              "      <td>-0.006773</td>\n",
              "      <td>-0.053585</td>\n",
              "      <td>0.013008</td>\n",
              "      <td>0.040542</td>\n",
              "      <td>0.030419</td>\n",
              "      <td>-0.023122</td>\n",
              "      <td>-0.012099</td>\n",
              "      <td>0.064873</td>\n",
              "    </tr>\n",
              "    <tr>\n",
              "      <th>2</th>\n",
              "      <td>53</td>\n",
              "      <td>290640</td>\n",
              "      <td>11</td>\n",
              "      <td>9</td>\n",
              "      <td>2</td>\n",
              "      <td>7</td>\n",
              "      <td>0</td>\n",
              "      <td>4</td>\n",
              "      <td>1</td>\n",
              "      <td>0</td>\n",
              "      <td>0</td>\n",
              "      <td>50</td>\n",
              "      <td>10</td>\n",
              "      <td>0.016291</td>\n",
              "      <td>0.013144</td>\n",
              "      <td>-0.006773</td>\n",
              "      <td>-0.053585</td>\n",
              "      <td>0.013008</td>\n",
              "      <td>0.040542</td>\n",
              "      <td>0.030419</td>\n",
              "      <td>-0.023122</td>\n",
              "      <td>-0.012099</td>\n",
              "      <td>0.064873</td>\n",
              "    </tr>\n",
              "    <tr>\n",
              "      <th>3</th>\n",
              "      <td>31</td>\n",
              "      <td>215297</td>\n",
              "      <td>11</td>\n",
              "      <td>9</td>\n",
              "      <td>2</td>\n",
              "      <td>2</td>\n",
              "      <td>0</td>\n",
              "      <td>4</td>\n",
              "      <td>1</td>\n",
              "      <td>0</td>\n",
              "      <td>0</td>\n",
              "      <td>45</td>\n",
              "      <td>38</td>\n",
              "      <td>0.016291</td>\n",
              "      <td>0.013144</td>\n",
              "      <td>-0.006773</td>\n",
              "      <td>-0.053585</td>\n",
              "      <td>0.013008</td>\n",
              "      <td>0.040542</td>\n",
              "      <td>0.030419</td>\n",
              "      <td>-0.023122</td>\n",
              "      <td>-0.012099</td>\n",
              "      <td>0.064873</td>\n",
              "    </tr>\n",
              "    <tr>\n",
              "      <th>4</th>\n",
              "      <td>34</td>\n",
              "      <td>94413</td>\n",
              "      <td>11</td>\n",
              "      <td>9</td>\n",
              "      <td>2</td>\n",
              "      <td>13</td>\n",
              "      <td>0</td>\n",
              "      <td>4</td>\n",
              "      <td>1</td>\n",
              "      <td>0</td>\n",
              "      <td>0</td>\n",
              "      <td>40</td>\n",
              "      <td>38</td>\n",
              "      <td>0.016291</td>\n",
              "      <td>0.013144</td>\n",
              "      <td>-0.006773</td>\n",
              "      <td>-0.053585</td>\n",
              "      <td>0.013008</td>\n",
              "      <td>0.040542</td>\n",
              "      <td>0.030419</td>\n",
              "      <td>-0.023122</td>\n",
              "      <td>-0.012099</td>\n",
              "      <td>0.064873</td>\n",
              "    </tr>\n",
              "    <tr>\n",
              "      <th>...</th>\n",
              "      <td>...</td>\n",
              "      <td>...</td>\n",
              "      <td>...</td>\n",
              "      <td>...</td>\n",
              "      <td>...</td>\n",
              "      <td>...</td>\n",
              "      <td>...</td>\n",
              "      <td>...</td>\n",
              "      <td>...</td>\n",
              "      <td>...</td>\n",
              "      <td>...</td>\n",
              "      <td>...</td>\n",
              "      <td>...</td>\n",
              "      <td>...</td>\n",
              "      <td>...</td>\n",
              "      <td>...</td>\n",
              "      <td>...</td>\n",
              "      <td>...</td>\n",
              "      <td>...</td>\n",
              "      <td>...</td>\n",
              "      <td>...</td>\n",
              "      <td>...</td>\n",
              "      <td>...</td>\n",
              "    </tr>\n",
              "    <tr>\n",
              "      <th>7536</th>\n",
              "      <td>29</td>\n",
              "      <td>31161</td>\n",
              "      <td>11</td>\n",
              "      <td>9</td>\n",
              "      <td>0</td>\n",
              "      <td>3</td>\n",
              "      <td>1</td>\n",
              "      <td>3</td>\n",
              "      <td>0</td>\n",
              "      <td>0</td>\n",
              "      <td>0</td>\n",
              "      <td>40</td>\n",
              "      <td>38</td>\n",
              "      <td>-0.109444</td>\n",
              "      <td>-0.037394</td>\n",
              "      <td>0.039386</td>\n",
              "      <td>0.099130</td>\n",
              "      <td>-0.026767</td>\n",
              "      <td>-0.007929</td>\n",
              "      <td>0.069127</td>\n",
              "      <td>0.055906</td>\n",
              "      <td>0.021926</td>\n",
              "      <td>-0.147413</td>\n",
              "    </tr>\n",
              "    <tr>\n",
              "      <th>7537</th>\n",
              "      <td>30</td>\n",
              "      <td>321990</td>\n",
              "      <td>15</td>\n",
              "      <td>10</td>\n",
              "      <td>2</td>\n",
              "      <td>0</td>\n",
              "      <td>0</td>\n",
              "      <td>4</td>\n",
              "      <td>1</td>\n",
              "      <td>7298</td>\n",
              "      <td>0</td>\n",
              "      <td>48</td>\n",
              "      <td>4</td>\n",
              "      <td>-0.109444</td>\n",
              "      <td>-0.037394</td>\n",
              "      <td>0.039386</td>\n",
              "      <td>0.099130</td>\n",
              "      <td>-0.026767</td>\n",
              "      <td>-0.007929</td>\n",
              "      <td>0.069127</td>\n",
              "      <td>0.055906</td>\n",
              "      <td>0.021926</td>\n",
              "      <td>-0.147413</td>\n",
              "    </tr>\n",
              "    <tr>\n",
              "      <th>7538</th>\n",
              "      <td>72</td>\n",
              "      <td>121004</td>\n",
              "      <td>11</td>\n",
              "      <td>9</td>\n",
              "      <td>2</td>\n",
              "      <td>7</td>\n",
              "      <td>0</td>\n",
              "      <td>4</td>\n",
              "      <td>1</td>\n",
              "      <td>0</td>\n",
              "      <td>0</td>\n",
              "      <td>55</td>\n",
              "      <td>38</td>\n",
              "      <td>0.478645</td>\n",
              "      <td>0.038497</td>\n",
              "      <td>-0.331928</td>\n",
              "      <td>-0.476801</td>\n",
              "      <td>0.162795</td>\n",
              "      <td>0.482770</td>\n",
              "      <td>-0.191077</td>\n",
              "      <td>-0.357570</td>\n",
              "      <td>-0.293583</td>\n",
              "      <td>0.522630</td>\n",
              "    </tr>\n",
              "    <tr>\n",
              "      <th>7539</th>\n",
              "      <td>52</td>\n",
              "      <td>198262</td>\n",
              "      <td>11</td>\n",
              "      <td>9</td>\n",
              "      <td>2</td>\n",
              "      <td>0</td>\n",
              "      <td>5</td>\n",
              "      <td>4</td>\n",
              "      <td>0</td>\n",
              "      <td>0</td>\n",
              "      <td>0</td>\n",
              "      <td>30</td>\n",
              "      <td>38</td>\n",
              "      <td>0.478645</td>\n",
              "      <td>0.038497</td>\n",
              "      <td>-0.331928</td>\n",
              "      <td>-0.476801</td>\n",
              "      <td>0.162795</td>\n",
              "      <td>0.482770</td>\n",
              "      <td>-0.191077</td>\n",
              "      <td>-0.357570</td>\n",
              "      <td>-0.293583</td>\n",
              "      <td>0.522630</td>\n",
              "    </tr>\n",
              "    <tr>\n",
              "      <th>7540</th>\n",
              "      <td>67</td>\n",
              "      <td>137192</td>\n",
              "      <td>11</td>\n",
              "      <td>9</td>\n",
              "      <td>2</td>\n",
              "      <td>0</td>\n",
              "      <td>0</td>\n",
              "      <td>1</td>\n",
              "      <td>1</td>\n",
              "      <td>0</td>\n",
              "      <td>0</td>\n",
              "      <td>12</td>\n",
              "      <td>29</td>\n",
              "      <td>0.478645</td>\n",
              "      <td>0.038497</td>\n",
              "      <td>-0.331928</td>\n",
              "      <td>-0.476801</td>\n",
              "      <td>0.162795</td>\n",
              "      <td>0.482770</td>\n",
              "      <td>-0.191077</td>\n",
              "      <td>-0.357570</td>\n",
              "      <td>-0.293583</td>\n",
              "      <td>0.522630</td>\n",
              "    </tr>\n",
              "  </tbody>\n",
              "</table>\n",
              "<p>7541 rows × 23 columns</p>\n",
              "</div>"
            ],
            "text/plain": [
              "      age  fnlwgt  education  ...         7         8         9\n",
              "0      28   76714         14  ... -0.023122 -0.012099  0.064873\n",
              "1      41  178431         11  ... -0.023122 -0.012099  0.064873\n",
              "2      53  290640         11  ... -0.023122 -0.012099  0.064873\n",
              "3      31  215297         11  ... -0.023122 -0.012099  0.064873\n",
              "4      34   94413         11  ... -0.023122 -0.012099  0.064873\n",
              "...   ...     ...        ...  ...       ...       ...       ...\n",
              "7536   29   31161         11  ...  0.055906  0.021926 -0.147413\n",
              "7537   30  321990         15  ...  0.055906  0.021926 -0.147413\n",
              "7538   72  121004         11  ... -0.357570 -0.293583  0.522630\n",
              "7539   52  198262         11  ... -0.357570 -0.293583  0.522630\n",
              "7540   67  137192         11  ... -0.357570 -0.293583  0.522630\n",
              "\n",
              "[7541 rows x 23 columns]"
            ]
          },
          "metadata": {
            "tags": []
          },
          "execution_count": 37
        }
      ]
    },
    {
      "cell_type": "code",
      "metadata": {
        "id": "yuJOf0Y-5oxK",
        "colab_type": "code",
        "colab": {
          "base_uri": "https://localhost:8080/",
          "height": 455
        },
        "outputId": "8df0d4b4-0826-48e4-bda0-f60a8aed4b67"
      },
      "source": [
        "test_data_CE = pd.merge(test_data_CE, workclass_embeddings_df, how = 'inner', left_on='workclass', right_on='index')\n",
        "test_data_CE.drop(['workclass', 'index'], axis=1, inplace=True)\n",
        "test_data_CE"
      ],
      "execution_count": null,
      "outputs": [
        {
          "output_type": "execute_result",
          "data": {
            "text/html": [
              "<div>\n",
              "<style scoped>\n",
              "    .dataframe tbody tr th:only-of-type {\n",
              "        vertical-align: middle;\n",
              "    }\n",
              "\n",
              "    .dataframe tbody tr th {\n",
              "        vertical-align: top;\n",
              "    }\n",
              "\n",
              "    .dataframe thead th {\n",
              "        text-align: right;\n",
              "    }\n",
              "</style>\n",
              "<table border=\"1\" class=\"dataframe\">\n",
              "  <thead>\n",
              "    <tr style=\"text-align: right;\">\n",
              "      <th></th>\n",
              "      <th>age</th>\n",
              "      <th>fnlwgt</th>\n",
              "      <th>education</th>\n",
              "      <th>education-num</th>\n",
              "      <th>marital-status</th>\n",
              "      <th>occupation</th>\n",
              "      <th>relationship</th>\n",
              "      <th>race</th>\n",
              "      <th>sex</th>\n",
              "      <th>capital-gain</th>\n",
              "      <th>capital-loss</th>\n",
              "      <th>hours-per-week</th>\n",
              "      <th>native-country</th>\n",
              "      <th>target</th>\n",
              "      <th>0</th>\n",
              "      <th>1</th>\n",
              "      <th>2</th>\n",
              "      <th>3</th>\n",
              "      <th>4</th>\n",
              "      <th>5</th>\n",
              "      <th>6</th>\n",
              "      <th>7</th>\n",
              "      <th>8</th>\n",
              "      <th>9</th>\n",
              "    </tr>\n",
              "  </thead>\n",
              "  <tbody>\n",
              "    <tr>\n",
              "      <th>0</th>\n",
              "      <td>25</td>\n",
              "      <td>226802</td>\n",
              "      <td>1</td>\n",
              "      <td>7</td>\n",
              "      <td>4</td>\n",
              "      <td>6</td>\n",
              "      <td>3</td>\n",
              "      <td>2</td>\n",
              "      <td>1</td>\n",
              "      <td>0</td>\n",
              "      <td>0</td>\n",
              "      <td>40</td>\n",
              "      <td>38</td>\n",
              "      <td>0</td>\n",
              "      <td>0.016291</td>\n",
              "      <td>0.013144</td>\n",
              "      <td>-0.006773</td>\n",
              "      <td>-0.053585</td>\n",
              "      <td>0.013008</td>\n",
              "      <td>0.040542</td>\n",
              "      <td>0.030419</td>\n",
              "      <td>-0.023122</td>\n",
              "      <td>-0.012099</td>\n",
              "      <td>0.064873</td>\n",
              "    </tr>\n",
              "    <tr>\n",
              "      <th>1</th>\n",
              "      <td>38</td>\n",
              "      <td>89814</td>\n",
              "      <td>11</td>\n",
              "      <td>9</td>\n",
              "      <td>2</td>\n",
              "      <td>4</td>\n",
              "      <td>0</td>\n",
              "      <td>4</td>\n",
              "      <td>1</td>\n",
              "      <td>0</td>\n",
              "      <td>0</td>\n",
              "      <td>50</td>\n",
              "      <td>38</td>\n",
              "      <td>0</td>\n",
              "      <td>0.016291</td>\n",
              "      <td>0.013144</td>\n",
              "      <td>-0.006773</td>\n",
              "      <td>-0.053585</td>\n",
              "      <td>0.013008</td>\n",
              "      <td>0.040542</td>\n",
              "      <td>0.030419</td>\n",
              "      <td>-0.023122</td>\n",
              "      <td>-0.012099</td>\n",
              "      <td>0.064873</td>\n",
              "    </tr>\n",
              "    <tr>\n",
              "      <th>2</th>\n",
              "      <td>44</td>\n",
              "      <td>160323</td>\n",
              "      <td>15</td>\n",
              "      <td>10</td>\n",
              "      <td>2</td>\n",
              "      <td>6</td>\n",
              "      <td>0</td>\n",
              "      <td>2</td>\n",
              "      <td>1</td>\n",
              "      <td>7688</td>\n",
              "      <td>0</td>\n",
              "      <td>40</td>\n",
              "      <td>38</td>\n",
              "      <td>1</td>\n",
              "      <td>0.016291</td>\n",
              "      <td>0.013144</td>\n",
              "      <td>-0.006773</td>\n",
              "      <td>-0.053585</td>\n",
              "      <td>0.013008</td>\n",
              "      <td>0.040542</td>\n",
              "      <td>0.030419</td>\n",
              "      <td>-0.023122</td>\n",
              "      <td>-0.012099</td>\n",
              "      <td>0.064873</td>\n",
              "    </tr>\n",
              "    <tr>\n",
              "      <th>3</th>\n",
              "      <td>34</td>\n",
              "      <td>198693</td>\n",
              "      <td>0</td>\n",
              "      <td>6</td>\n",
              "      <td>4</td>\n",
              "      <td>7</td>\n",
              "      <td>1</td>\n",
              "      <td>4</td>\n",
              "      <td>1</td>\n",
              "      <td>0</td>\n",
              "      <td>0</td>\n",
              "      <td>30</td>\n",
              "      <td>38</td>\n",
              "      <td>0</td>\n",
              "      <td>0.016291</td>\n",
              "      <td>0.013144</td>\n",
              "      <td>-0.006773</td>\n",
              "      <td>-0.053585</td>\n",
              "      <td>0.013008</td>\n",
              "      <td>0.040542</td>\n",
              "      <td>0.030419</td>\n",
              "      <td>-0.023122</td>\n",
              "      <td>-0.012099</td>\n",
              "      <td>0.064873</td>\n",
              "    </tr>\n",
              "    <tr>\n",
              "      <th>4</th>\n",
              "      <td>24</td>\n",
              "      <td>369667</td>\n",
              "      <td>15</td>\n",
              "      <td>10</td>\n",
              "      <td>4</td>\n",
              "      <td>7</td>\n",
              "      <td>4</td>\n",
              "      <td>4</td>\n",
              "      <td>0</td>\n",
              "      <td>0</td>\n",
              "      <td>0</td>\n",
              "      <td>40</td>\n",
              "      <td>38</td>\n",
              "      <td>0</td>\n",
              "      <td>0.016291</td>\n",
              "      <td>0.013144</td>\n",
              "      <td>-0.006773</td>\n",
              "      <td>-0.053585</td>\n",
              "      <td>0.013008</td>\n",
              "      <td>0.040542</td>\n",
              "      <td>0.030419</td>\n",
              "      <td>-0.023122</td>\n",
              "      <td>-0.012099</td>\n",
              "      <td>0.064873</td>\n",
              "    </tr>\n",
              "    <tr>\n",
              "      <th>...</th>\n",
              "      <td>...</td>\n",
              "      <td>...</td>\n",
              "      <td>...</td>\n",
              "      <td>...</td>\n",
              "      <td>...</td>\n",
              "      <td>...</td>\n",
              "      <td>...</td>\n",
              "      <td>...</td>\n",
              "      <td>...</td>\n",
              "      <td>...</td>\n",
              "      <td>...</td>\n",
              "      <td>...</td>\n",
              "      <td>...</td>\n",
              "      <td>...</td>\n",
              "      <td>...</td>\n",
              "      <td>...</td>\n",
              "      <td>...</td>\n",
              "      <td>...</td>\n",
              "      <td>...</td>\n",
              "      <td>...</td>\n",
              "      <td>...</td>\n",
              "      <td>...</td>\n",
              "      <td>...</td>\n",
              "      <td>...</td>\n",
              "    </tr>\n",
              "    <tr>\n",
              "      <th>15055</th>\n",
              "      <td>51</td>\n",
              "      <td>124963</td>\n",
              "      <td>7</td>\n",
              "      <td>12</td>\n",
              "      <td>2</td>\n",
              "      <td>11</td>\n",
              "      <td>0</td>\n",
              "      <td>4</td>\n",
              "      <td>1</td>\n",
              "      <td>0</td>\n",
              "      <td>0</td>\n",
              "      <td>45</td>\n",
              "      <td>38</td>\n",
              "      <td>0</td>\n",
              "      <td>0.478645</td>\n",
              "      <td>0.038497</td>\n",
              "      <td>-0.331928</td>\n",
              "      <td>-0.476801</td>\n",
              "      <td>0.162795</td>\n",
              "      <td>0.482770</td>\n",
              "      <td>-0.191077</td>\n",
              "      <td>-0.357570</td>\n",
              "      <td>-0.293583</td>\n",
              "      <td>0.522630</td>\n",
              "    </tr>\n",
              "    <tr>\n",
              "      <th>15056</th>\n",
              "      <td>64</td>\n",
              "      <td>209291</td>\n",
              "      <td>11</td>\n",
              "      <td>9</td>\n",
              "      <td>2</td>\n",
              "      <td>5</td>\n",
              "      <td>0</td>\n",
              "      <td>4</td>\n",
              "      <td>1</td>\n",
              "      <td>0</td>\n",
              "      <td>0</td>\n",
              "      <td>60</td>\n",
              "      <td>38</td>\n",
              "      <td>1</td>\n",
              "      <td>0.478645</td>\n",
              "      <td>0.038497</td>\n",
              "      <td>-0.331928</td>\n",
              "      <td>-0.476801</td>\n",
              "      <td>0.162795</td>\n",
              "      <td>0.482770</td>\n",
              "      <td>-0.191077</td>\n",
              "      <td>-0.357570</td>\n",
              "      <td>-0.293583</td>\n",
              "      <td>0.522630</td>\n",
              "    </tr>\n",
              "    <tr>\n",
              "      <th>15057</th>\n",
              "      <td>50</td>\n",
              "      <td>123004</td>\n",
              "      <td>11</td>\n",
              "      <td>9</td>\n",
              "      <td>2</td>\n",
              "      <td>6</td>\n",
              "      <td>3</td>\n",
              "      <td>4</td>\n",
              "      <td>0</td>\n",
              "      <td>0</td>\n",
              "      <td>1887</td>\n",
              "      <td>40</td>\n",
              "      <td>38</td>\n",
              "      <td>1</td>\n",
              "      <td>0.478645</td>\n",
              "      <td>0.038497</td>\n",
              "      <td>-0.331928</td>\n",
              "      <td>-0.476801</td>\n",
              "      <td>0.162795</td>\n",
              "      <td>0.482770</td>\n",
              "      <td>-0.191077</td>\n",
              "      <td>-0.357570</td>\n",
              "      <td>-0.293583</td>\n",
              "      <td>0.522630</td>\n",
              "    </tr>\n",
              "    <tr>\n",
              "      <th>15058</th>\n",
              "      <td>39</td>\n",
              "      <td>334291</td>\n",
              "      <td>11</td>\n",
              "      <td>9</td>\n",
              "      <td>2</td>\n",
              "      <td>3</td>\n",
              "      <td>0</td>\n",
              "      <td>4</td>\n",
              "      <td>1</td>\n",
              "      <td>0</td>\n",
              "      <td>0</td>\n",
              "      <td>40</td>\n",
              "      <td>38</td>\n",
              "      <td>0</td>\n",
              "      <td>0.478645</td>\n",
              "      <td>0.038497</td>\n",
              "      <td>-0.331928</td>\n",
              "      <td>-0.476801</td>\n",
              "      <td>0.162795</td>\n",
              "      <td>0.482770</td>\n",
              "      <td>-0.191077</td>\n",
              "      <td>-0.357570</td>\n",
              "      <td>-0.293583</td>\n",
              "      <td>0.522630</td>\n",
              "    </tr>\n",
              "    <tr>\n",
              "      <th>15059</th>\n",
              "      <td>27</td>\n",
              "      <td>35034</td>\n",
              "      <td>11</td>\n",
              "      <td>9</td>\n",
              "      <td>4</td>\n",
              "      <td>4</td>\n",
              "      <td>3</td>\n",
              "      <td>4</td>\n",
              "      <td>0</td>\n",
              "      <td>0</td>\n",
              "      <td>0</td>\n",
              "      <td>40</td>\n",
              "      <td>38</td>\n",
              "      <td>0</td>\n",
              "      <td>0.478645</td>\n",
              "      <td>0.038497</td>\n",
              "      <td>-0.331928</td>\n",
              "      <td>-0.476801</td>\n",
              "      <td>0.162795</td>\n",
              "      <td>0.482770</td>\n",
              "      <td>-0.191077</td>\n",
              "      <td>-0.357570</td>\n",
              "      <td>-0.293583</td>\n",
              "      <td>0.522630</td>\n",
              "    </tr>\n",
              "  </tbody>\n",
              "</table>\n",
              "<p>15060 rows × 24 columns</p>\n",
              "</div>"
            ],
            "text/plain": [
              "       age  fnlwgt  education  ...         7         8         9\n",
              "0       25  226802          1  ... -0.023122 -0.012099  0.064873\n",
              "1       38   89814         11  ... -0.023122 -0.012099  0.064873\n",
              "2       44  160323         15  ... -0.023122 -0.012099  0.064873\n",
              "3       34  198693          0  ... -0.023122 -0.012099  0.064873\n",
              "4       24  369667         15  ... -0.023122 -0.012099  0.064873\n",
              "...    ...     ...        ...  ...       ...       ...       ...\n",
              "15055   51  124963          7  ... -0.357570 -0.293583  0.522630\n",
              "15056   64  209291         11  ... -0.357570 -0.293583  0.522630\n",
              "15057   50  123004         11  ... -0.357570 -0.293583  0.522630\n",
              "15058   39  334291         11  ... -0.357570 -0.293583  0.522630\n",
              "15059   27   35034         11  ... -0.357570 -0.293583  0.522630\n",
              "\n",
              "[15060 rows x 24 columns]"
            ]
          },
          "metadata": {
            "tags": []
          },
          "execution_count": 38
        }
      ]
    },
    {
      "cell_type": "markdown",
      "metadata": {
        "id": "NnD-wHsP1HwJ",
        "colab_type": "text"
      },
      "source": [
        "Using the exact same XGB model used before as well again"
      ]
    },
    {
      "cell_type": "code",
      "metadata": {
        "id": "nDc-SdRoQFyM",
        "colab_type": "code",
        "colab": {
          "base_uri": "https://localhost:8080/",
          "height": 1000
        },
        "outputId": "3a38a1cf-59cd-4438-e2cf-26dbfa3faa75"
      },
      "source": [
        "params = {'n_estimators' : 500,\n",
        "          'max_depth': 5,\n",
        "          'min_child_weight' : 50,\n",
        "          'gamma': 0.01}\n",
        "xgb_classifier = XGBClassifier(**params)\n",
        "xgb_classifier.fit(X_train_CE, y_train, eval_set=[(X_test_CE, y_test)], early_stopping_rounds=10)"
      ],
      "execution_count": null,
      "outputs": [
        {
          "output_type": "stream",
          "text": [
            "[0]\tvalidation_0-error:0.152897\n",
            "Will train until validation_0-error hasn't improved in 10 rounds.\n",
            "[1]\tvalidation_0-error:0.148256\n",
            "[2]\tvalidation_0-error:0.147991\n",
            "[3]\tvalidation_0-error:0.148124\n",
            "[4]\tvalidation_0-error:0.150245\n",
            "[5]\tvalidation_0-error:0.149052\n",
            "[6]\tvalidation_0-error:0.148389\n",
            "[7]\tvalidation_0-error:0.149582\n",
            "[8]\tvalidation_0-error:0.146532\n",
            "[9]\tvalidation_0-error:0.147328\n",
            "[10]\tvalidation_0-error:0.147195\n",
            "[11]\tvalidation_0-error:0.147461\n",
            "[12]\tvalidation_0-error:0.147461\n",
            "[13]\tvalidation_0-error:0.147195\n",
            "[14]\tvalidation_0-error:0.146798\n",
            "[15]\tvalidation_0-error:0.145471\n",
            "[16]\tvalidation_0-error:0.145737\n",
            "[17]\tvalidation_0-error:0.144941\n",
            "[18]\tvalidation_0-error:0.144411\n",
            "[19]\tvalidation_0-error:0.144145\n",
            "[20]\tvalidation_0-error:0.144278\n",
            "[21]\tvalidation_0-error:0.144145\n",
            "[22]\tvalidation_0-error:0.144013\n",
            "[23]\tvalidation_0-error:0.144278\n",
            "[24]\tvalidation_0-error:0.14388\n",
            "[25]\tvalidation_0-error:0.143482\n",
            "[26]\tvalidation_0-error:0.143482\n",
            "[27]\tvalidation_0-error:0.142024\n",
            "[28]\tvalidation_0-error:0.142421\n",
            "[29]\tvalidation_0-error:0.142024\n",
            "[30]\tvalidation_0-error:0.141493\n",
            "[31]\tvalidation_0-error:0.142289\n",
            "[32]\tvalidation_0-error:0.141626\n",
            "[33]\tvalidation_0-error:0.142024\n",
            "[34]\tvalidation_0-error:0.141758\n",
            "[35]\tvalidation_0-error:0.141758\n",
            "[36]\tvalidation_0-error:0.141493\n",
            "[37]\tvalidation_0-error:0.139902\n",
            "[38]\tvalidation_0-error:0.139637\n",
            "[39]\tvalidation_0-error:0.139371\n",
            "[40]\tvalidation_0-error:0.139371\n",
            "[41]\tvalidation_0-error:0.138974\n",
            "[42]\tvalidation_0-error:0.138974\n",
            "[43]\tvalidation_0-error:0.139637\n",
            "[44]\tvalidation_0-error:0.138576\n",
            "[45]\tvalidation_0-error:0.138311\n",
            "[46]\tvalidation_0-error:0.138311\n",
            "[47]\tvalidation_0-error:0.138311\n",
            "[48]\tvalidation_0-error:0.138045\n",
            "[49]\tvalidation_0-error:0.136852\n",
            "[50]\tvalidation_0-error:0.136984\n",
            "[51]\tvalidation_0-error:0.137117\n",
            "[52]\tvalidation_0-error:0.137117\n",
            "[53]\tvalidation_0-error:0.137382\n",
            "[54]\tvalidation_0-error:0.136454\n",
            "[55]\tvalidation_0-error:0.136852\n",
            "[56]\tvalidation_0-error:0.136852\n",
            "[57]\tvalidation_0-error:0.136587\n",
            "[58]\tvalidation_0-error:0.136321\n",
            "[59]\tvalidation_0-error:0.136587\n",
            "[60]\tvalidation_0-error:0.136984\n",
            "[61]\tvalidation_0-error:0.136852\n",
            "[62]\tvalidation_0-error:0.136719\n",
            "[63]\tvalidation_0-error:0.136587\n",
            "[64]\tvalidation_0-error:0.136587\n",
            "[65]\tvalidation_0-error:0.136587\n",
            "[66]\tvalidation_0-error:0.135791\n",
            "[67]\tvalidation_0-error:0.135924\n",
            "[68]\tvalidation_0-error:0.136321\n",
            "[69]\tvalidation_0-error:0.136321\n",
            "[70]\tvalidation_0-error:0.135526\n",
            "[71]\tvalidation_0-error:0.136454\n",
            "[72]\tvalidation_0-error:0.136056\n",
            "[73]\tvalidation_0-error:0.136189\n",
            "[74]\tvalidation_0-error:0.135658\n",
            "[75]\tvalidation_0-error:0.136056\n",
            "[76]\tvalidation_0-error:0.136056\n",
            "[77]\tvalidation_0-error:0.136056\n",
            "[78]\tvalidation_0-error:0.135393\n",
            "[79]\tvalidation_0-error:0.135526\n",
            "[80]\tvalidation_0-error:0.135128\n",
            "[81]\tvalidation_0-error:0.135393\n",
            "[82]\tvalidation_0-error:0.135393\n",
            "[83]\tvalidation_0-error:0.134863\n",
            "[84]\tvalidation_0-error:0.134995\n",
            "[85]\tvalidation_0-error:0.134995\n",
            "[86]\tvalidation_0-error:0.134995\n",
            "[87]\tvalidation_0-error:0.134863\n",
            "[88]\tvalidation_0-error:0.134332\n",
            "[89]\tvalidation_0-error:0.134332\n",
            "[90]\tvalidation_0-error:0.134067\n",
            "[91]\tvalidation_0-error:0.134067\n",
            "[92]\tvalidation_0-error:0.134332\n",
            "[93]\tvalidation_0-error:0.134332\n",
            "[94]\tvalidation_0-error:0.134067\n",
            "[95]\tvalidation_0-error:0.134067\n",
            "[96]\tvalidation_0-error:0.133802\n",
            "[97]\tvalidation_0-error:0.133802\n",
            "[98]\tvalidation_0-error:0.133537\n",
            "[99]\tvalidation_0-error:0.133669\n",
            "[100]\tvalidation_0-error:0.133537\n",
            "[101]\tvalidation_0-error:0.133934\n",
            "[102]\tvalidation_0-error:0.133934\n",
            "[103]\tvalidation_0-error:0.133934\n",
            "[104]\tvalidation_0-error:0.1342\n",
            "[105]\tvalidation_0-error:0.133802\n",
            "[106]\tvalidation_0-error:0.133669\n",
            "[107]\tvalidation_0-error:0.133802\n",
            "[108]\tvalidation_0-error:0.133802\n",
            "Stopping. Best iteration:\n",
            "[98]\tvalidation_0-error:0.133537\n",
            "\n"
          ],
          "name": "stdout"
        },
        {
          "output_type": "execute_result",
          "data": {
            "text/plain": [
              "XGBClassifier(base_score=0.5, booster='gbtree', colsample_bylevel=1,\n",
              "              colsample_bynode=1, colsample_bytree=1, gamma=0.01,\n",
              "              learning_rate=0.1, max_delta_step=0, max_depth=5,\n",
              "              min_child_weight=50, missing=None, n_estimators=500, n_jobs=1,\n",
              "              nthread=None, objective='binary:logistic', random_state=0,\n",
              "              reg_alpha=0, reg_lambda=1, scale_pos_weight=1, seed=None,\n",
              "              silent=None, subsample=1, verbosity=1)"
            ]
          },
          "metadata": {
            "tags": []
          },
          "execution_count": 39
        }
      ]
    },
    {
      "cell_type": "code",
      "metadata": {
        "id": "fK-TIMkiQFvU",
        "colab_type": "code",
        "colab": {
          "base_uri": "https://localhost:8080/",
          "height": 52
        },
        "outputId": "44164fd7-0ab6-49c8-89e7-981a22786521"
      },
      "source": [
        "xgb_classifier.predict_proba(test_data_CE.drop(['target'], axis = 1))[:,1]"
      ],
      "execution_count": null,
      "outputs": [
        {
          "output_type": "execute_result",
          "data": {
            "text/plain": [
              "array([0.00307775, 0.2284234 , 0.95796543, ..., 0.24628557, 0.36356145,\n",
              "       0.00368421], dtype=float32)"
            ]
          },
          "metadata": {
            "tags": []
          },
          "execution_count": 40
        }
      ]
    },
    {
      "cell_type": "code",
      "metadata": {
        "id": "-P0TcNdzLzx3",
        "colab_type": "code",
        "colab": {
          "base_uri": "https://localhost:8080/",
          "height": 34
        },
        "outputId": "75059b21-9266-46c9-96a2-76d653a320c8"
      },
      "source": [
        "roc_auc_score(test_data_CE['target'], xgb_classifier.predict_proba(test_data_CE.drop(['target'], axis = 1))[:,1])"
      ],
      "execution_count": null,
      "outputs": [
        {
          "output_type": "execute_result",
          "data": {
            "text/plain": [
              "0.9149106395127521"
            ]
          },
          "metadata": {
            "tags": []
          },
          "execution_count": 41
        }
      ]
    },
    {
      "cell_type": "markdown",
      "metadata": {
        "id": "c80Drcmj1PrT",
        "colab_type": "text"
      },
      "source": [
        "# The performance of new model is slightly better than the old model"
      ]
    },
    {
      "cell_type": "markdown",
      "metadata": {
        "id": "SOE-uwRCod_j",
        "colab_type": "text"
      },
      "source": [
        "References:\n",
        "\n",
        "\n",
        "*   https://towardsdatascience.com/categorical-embedding-and-transfer-learning-dd3c4af6345d\n",
        "*   https://towardsdatascience.com/understanding-entity-embeddings-and-its-application-69e37ae1501d\n",
        "*   https://github.com/mmortazavi/EntityEmbedding-Working_Example/blob/master/EntityEmbedding.ipynb\n",
        "*   https://medium.com/@apiltamang/learning-entity-embeddings-in-one-breath-b35da807b596\n",
        "\n",
        "\n",
        "\n",
        "\n",
        "\n"
      ]
    },
    {
      "cell_type": "code",
      "metadata": {
        "id": "xY1PVKRDLdiw",
        "colab_type": "code",
        "colab": {}
      },
      "source": [
        ""
      ],
      "execution_count": null,
      "outputs": []
    },
    {
      "cell_type": "code",
      "metadata": {
        "id": "u0IWTMBAKsUr",
        "colab_type": "code",
        "colab": {}
      },
      "source": [
        ""
      ],
      "execution_count": null,
      "outputs": []
    }
  ]
}